{
 "cells": [
  {
   "cell_type": "code",
   "execution_count": 1,
   "metadata": {},
   "outputs": [],
   "source": [
    "import numpy as np\n",
    "import pandas as pd\n",
    "from scipy.stats import rankdata, norm, chi2, t\n",
    "import numpy_indexed as npi"
   ]
  },
  {
   "cell_type": "code",
   "execution_count": 103,
   "metadata": {},
   "outputs": [
    {
     "data": {
      "text/plain": [
       "array([[1, 4.17, 'ctrl'],\n",
       "       [2, 5.58, 'ctrl'],\n",
       "       [3, 5.18, 'ctrl']], dtype=object)"
      ]
     },
     "execution_count": 103,
     "metadata": {},
     "output_type": "execute_result"
    }
   ],
   "source": [
    "plants = pd.read_csv('../../data/PlantGrowth.csv')\n",
    "plants = plants.to_numpy()\n",
    "plants[:3]"
   ]
  },
  {
   "cell_type": "code",
   "execution_count": 104,
   "metadata": {},
   "outputs": [],
   "source": [
    "group_obs = np.array([i for _, i in npi.group_by(plants[:, 2], plants[:, 2], len)])\n",
    "\n",
    "group_medians = []\n",
    "\n",
    "for i in plants[:, 2]:\n",
    "    group_medians.append(np.median(plants[np.where(plants[:, 2] == i)][:, 1]))\n",
    "\n",
    "plants = np.column_stack([plants, np.array(group_medians)])\n",
    "\n",
    "zij = np.abs(np.array(plants[:, 1] - plants[:, 3]))\n",
    "plants = np.column_stack([plants, zij])"
   ]
  },
  {
   "cell_type": "code",
   "execution_count": 106,
   "metadata": {},
   "outputs": [
    {
     "data": {
      "text/plain": [
       "array([[1, 4.17, 'ctrl', 5.154999999999999, 0.9849999999999994],\n",
       "       [2, 5.58, 'ctrl', 5.154999999999999, 0.4250000000000007],\n",
       "       [3, 5.18, 'ctrl', 5.154999999999999, 0.025000000000000355],\n",
       "       [4, 6.11, 'ctrl', 5.154999999999999, 0.955000000000001],\n",
       "       [5, 4.5, 'ctrl', 5.154999999999999, 0.6549999999999994]],\n",
       "      dtype=object)"
      ]
     },
     "execution_count": 106,
     "metadata": {},
     "output_type": "execute_result"
    }
   ],
   "source": [
    "plants[:5]"
   ]
  },
  {
   "cell_type": "code",
   "execution_count": 107,
   "metadata": {},
   "outputs": [],
   "source": [
    "zij_group_means = []\n",
    "for i in plants[:, 2]:\n",
    "    zij_group_means.append(np.mean(plants[np.where(plants[:, 2] == i)][:, 4]))\n",
    "plants = np.column_stack([plants, np.array(zij_group_means)])"
   ]
  },
  {
   "cell_type": "code",
   "execution_count": 108,
   "metadata": {},
   "outputs": [
    {
     "data": {
      "text/plain": [
       "array([[1, 4.17, 'ctrl', 5.154999999999999, 0.9849999999999994, 0.442],\n",
       "       [2, 5.58, 'ctrl', 5.154999999999999, 0.4250000000000007, 0.442],\n",
       "       [3, 5.18, 'ctrl', 5.154999999999999, 0.025000000000000355, 0.442],\n",
       "       [4, 6.11, 'ctrl', 5.154999999999999, 0.955000000000001, 0.442],\n",
       "       [5, 4.5, 'ctrl', 5.154999999999999, 0.6549999999999994, 0.442]],\n",
       "      dtype=object)"
      ]
     },
     "execution_count": 108,
     "metadata": {},
     "output_type": "execute_result"
    }
   ],
   "source": [
    "plants[:5]"
   ]
  },
  {
   "cell_type": "code",
   "execution_count": 109,
   "metadata": {},
   "outputs": [],
   "source": [
    "n = plants.shape[0]\n",
    "k = len(np.unique(plants[:,2]))"
   ]
  },
  {
   "cell_type": "code",
   "execution_count": 110,
   "metadata": {},
   "outputs": [],
   "source": [
    "zij_group_means = np.array([i for _, i in npi.group_by(plants[:, 2], plants[:, 4], np.mean)])\n",
    "\n",
    "total_mean = np.mean(plants[:, 4])\n",
    "\n",
    "num = np.sum(group_obs * (zij_group_means - total_mean) ** 2)\n",
    "\n",
    "den = np.sum((plants[:, 4] - plants[:, 5]) ** 2)\n",
    "\n",
    "w = (n - k) / (k - 1) * (num / den)"
   ]
  },
  {
   "cell_type": "code",
   "execution_count": 111,
   "metadata": {},
   "outputs": [
    {
     "data": {
      "text/plain": [
       "1.1191856948703904"
      ]
     },
     "execution_count": 111,
     "metadata": {},
     "output_type": "execute_result"
    }
   ],
   "source": [
    "w"
   ]
  },
  {
   "cell_type": "markdown",
   "metadata": {},
   "source": [
    "### References\n",
    "\n",
    "[Snedecor, G. W., & Cochran, W. G. (1989). Statistical methdos (8th ed.). Ames, IA: Iowa State University Press.](https://amzn.to/2UwYNCO)\n",
    "\n",
    "[Wikipedia contributors. \"Levene's test.\" Wikipedia, The Free Encyclopedia. Wikipedia, The Free Encyclopedia, 28 Apr. 2019. Web. 21 Mar. 2020.](https://en.wikipedia.org/wiki/Levene%27s_test)"
   ]
  }
 ],
 "metadata": {
  "kernelspec": {
   "display_name": "Python 3",
   "language": "python",
   "name": "python3"
  },
  "language_info": {
   "codemirror_mode": {
    "name": "ipython",
    "version": 3
   },
   "file_extension": ".py",
   "mimetype": "text/x-python",
   "name": "python",
   "nbconvert_exporter": "python",
   "pygments_lexer": "ipython3",
   "version": "3.7.6"
  }
 },
 "nbformat": 4,
 "nbformat_minor": 4
}
