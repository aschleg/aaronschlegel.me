{
 "cells": [
  {
   "cell_type": "markdown",
   "metadata": {},
   "source": [
    "Levene's test is a statistical procedure for testing equality of variances (also sometimes called homoscedasticity or homogenity of variances) between two or more sample populations. Several commonly used statistical routines such as the [t-test](https://en.wikipedia.org/wiki/Student%27s_t-test) and [analysis of variance](https://en.wikipedia.org/wiki/Analysis_of_variance) assume the populations have equal variances and therefore Levene's test is often employed to test this assumption. Levene's test is an alternative to the Bartlett's test, another procedure for testing equality of variances between $k$ sample populations. Bartlett's test has been shown to be sensitive to departures from normality, and thus Levene's test is preferred when the population samples are not normally distributed.\n",
    "\n",
    "The null and alternative hypotheses of Levene's test can be generally stated as follows:\n",
    "\n",
    "* $H_0$: All of the $k$ sample populations have equal variances.\n",
    "* $H_A$: At least one of the $k$ sample population variances are not equal.\n",
    "\n",
    "### Test Procedure\n",
    "\n",
    "The test statistic, $W$ used in Levene's test is defined as:\n",
    "\n",
    "$$ W = \\frac{(N - k)}{(k - 1)} \\frac{\\sum^k_{i=1} n_i (Z_{i.} - Z_{..})^2}{\\sum^k_{i=1} \\sum^{n_i}_{j=1} (Z_{ij} - Z_{i.})^2} $$\n",
    "\n",
    "where,\n",
    "\n",
    "* $k$ is the number of groups\n",
    "* $n_i$ is the number of samples belonging to the $i$-th group.\n",
    "* $N$ is the total number of samples.\n",
    "* $Y_{ij}$ is the $j$-th observation from the $i$-th group.\n",
    "\n",
    "and,\n",
    "\n",
    "$$ Z_{i.} = \\frac{1}{n_i} \\sum^{n_i}_{j=1} Z_{ij} $$\n",
    "\n",
    "$$ Z_{..} = \\frac{1}{N} \\sum^k_{i=1} \\sum^{n_i}_{j=1} Z_{ij} $$\n",
    "\n",
    "are the mean of the calculated $Z_{ij}$ for group i and mean of all $Z_{ij}$, respectively.\n",
    "\n",
    "In Levene's Test, $Z_{ij}$ can have one of the following three definitions:\n",
    "\n",
    "* $|Y_{ij} - \\tilde{Y}_i|$, where $\\tilde{Y}_i$ is the median of the $i$-th group.\n",
    "* $|Y_{ij} - \\bar{Y}_i|$, where $\\bar{Y}_i$ is the mean of the $i$-th group.\n",
    "* $|Y_{ij} - \\bar{Y}^{\\prime}_i|$, where $\\bar{Y}^{\\prime}_i$ is the trimmed mean of the $i$-th group.\n",
    "\n",
    "Levene originally proposed using the mean, but a paper by Brown and Forsythe in 1974 extended Levene's test to use the median or the trimmed mean. The median is generally recommended as it more robust against non-normal data, but if the underlying distribution of the sample is known, an alternative metric may provide better performance.\n",
    "\n",
    "The $W$ test statistic is approximately $F$-distributed with $k - 1$ and $n - k$ degrees of freedom, $F(\\alpha, k-1, n-k)$"
   ]
  },
  {
   "cell_type": "markdown",
   "metadata": {},
   "source": [
    "### Levene's Test in Python"
   ]
  },
  {
   "cell_type": "code",
   "execution_count": 1,
   "metadata": {},
   "outputs": [],
   "source": [
    "import numpy as np\n",
    "import pandas as pd\n",
    "from scipy.stats import f\n",
    "import numpy_indexed as npi"
   ]
  },
  {
   "cell_type": "markdown",
   "metadata": {},
   "source": [
    "The [`PlantGrowth`](https://vincentarelbundock.github.io/Rdatasets/doc/datasets/PlantGrowth.html) dataset is available in [R](https://www.r-project.org/) as part of its standard datasets and can also be downloaded [here](https://vincentarelbundock.github.io/Rdatasets/csv/datasets/PlantGrowth.csv). After downloading the data, we load it into memory with pandas' [`read_csv`](https://pandas.pydata.org/pandas-docs/stable/reference/api/pandas.read_csv.html) function. Once the data is loaded, we transform the resulting `DataFrame` into a [`numpy`](https://numpy.org/) array with the [`.to_numpy`](https://pandas.pydata.org/pandas-docs/stable/reference/api/pandas.DataFrame.to_numpy.html) method. The first three rows of the dataset are then printed to get a sense of what the data contains."
   ]
  },
  {
   "cell_type": "code",
   "execution_count": 2,
   "metadata": {
    "scrolled": true
   },
   "outputs": [
    {
     "data": {
      "text/plain": [
       "array([[1, 4.17, 'ctrl'],\n",
       "       [2, 5.58, 'ctrl'],\n",
       "       [3, 5.18, 'ctrl']], dtype=object)"
      ]
     },
     "execution_count": 2,
     "metadata": {},
     "output_type": "execute_result"
    }
   ],
   "source": [
    "plants = pd.read_csv('../../data/PlantGrowth.csv')\n",
    "plants = plants.to_numpy()\n",
    "plants[:3]"
   ]
  },
  {
   "cell_type": "markdown",
   "metadata": {},
   "source": [
    "As the dataset description stated, there are two columns (three including the index column), one containing the plant weight of the sample and the sample in which the group belongs. There are three sample groups in the dataset, which we can confirm using numpy's [`unique`](https://docs.scipy.org/doc/numpy/reference/generated/numpy.unique.html) function."
   ]
  },
  {
   "cell_type": "code",
   "execution_count": 3,
   "metadata": {},
   "outputs": [
    {
     "data": {
      "text/plain": [
       "['ctrl', 'trt1', 'trt2']"
      ]
     },
     "execution_count": 3,
     "metadata": {},
     "output_type": "execute_result"
    }
   ],
   "source": [
    "list(np.unique(plants[:,2]))"
   ]
  },
  {
   "cell_type": "markdown",
   "metadata": {},
   "source": [
    "The first step in computing Levene's test is to find the $Z_{ij}$ for each observation. To do this, we first take the median of all three sample groups and append the medians array to the original `plants` array with `numpy`'s [`column_stack`](https://docs.scipy.org/doc/numpy/reference/generated/numpy.column_stack.html) function. With the medians of each group computed, we can then find the $Z_{ij}$ by subtracting the row observation with the group median and appending the array to the `plants` array. Lastly, we display the first five rows of the newly appended `plants` array to verify our operations proceeded correctly."
   ]
  },
  {
   "cell_type": "code",
   "execution_count": 4,
   "metadata": {},
   "outputs": [
    {
     "data": {
      "text/plain": [
       "array([[1, 4.17, 'ctrl', 5.154999999999999, 0.9849999999999994],\n",
       "       [2, 5.58, 'ctrl', 5.154999999999999, 0.4250000000000007],\n",
       "       [3, 5.18, 'ctrl', 5.154999999999999, 0.025000000000000355],\n",
       "       [4, 6.11, 'ctrl', 5.154999999999999, 0.955000000000001],\n",
       "       [5, 4.5, 'ctrl', 5.154999999999999, 0.6549999999999994]],\n",
       "      dtype=object)"
      ]
     },
     "execution_count": 4,
     "metadata": {},
     "output_type": "execute_result"
    }
   ],
   "source": [
    "group_obs = np.array([i for _, i in npi.group_by(plants[:, 2], plants[:, 2], len)])\n",
    "\n",
    "group_medians = []\n",
    "\n",
    "for i in plants[:, 2]:\n",
    "    group_medians.append(np.median(plants[np.where(plants[:, 2] == i)][:, 1]))\n",
    "\n",
    "plants = np.column_stack([plants, np.array(group_medians)])\n",
    "\n",
    "zij = np.abs(np.array(plants[:, 1] - plants[:, 3]))\n",
    "plants = np.column_stack([plants, zij])\n",
    "\n",
    "plants[:5]"
   ]
  },
  {
   "cell_type": "markdown",
   "metadata": {},
   "source": [
    "As expected, the newly created `plants` array has the group median and the corresponding $Z_{ij}$ value for each observation row. Now that we have the $Z_{ij}$ for each observation and group medians, we can proceed to the next step.\n",
    "\n",
    "The next operation in performing Levene's test is to find the group medians of the recently calculated $Z_{ij}$ values. This operation can be done as before when we found the group medians of the sample data, except we replace the sample data with the respective $Z_{ij}$ value."
   ]
  },
  {
   "cell_type": "code",
   "execution_count": 5,
   "metadata": {},
   "outputs": [
    {
     "data": {
      "text/plain": [
       "array([[1, 4.17, 'ctrl', 5.154999999999999, 0.9849999999999994, 0.442],\n",
       "       [2, 5.58, 'ctrl', 5.154999999999999, 0.4250000000000007, 0.442],\n",
       "       [3, 5.18, 'ctrl', 5.154999999999999, 0.025000000000000355, 0.442],\n",
       "       [4, 6.11, 'ctrl', 5.154999999999999, 0.955000000000001, 0.442],\n",
       "       [5, 4.5, 'ctrl', 5.154999999999999, 0.6549999999999994, 0.442]],\n",
       "      dtype=object)"
      ]
     },
     "execution_count": 5,
     "metadata": {},
     "output_type": "execute_result"
    }
   ],
   "source": [
    "zij_group_means = []\n",
    "\n",
    "for i in plants[:, 2]:\n",
    "    zij_group_means.append(np.mean(plants[np.where(plants[:, 2] == i)][:, 4]))\n",
    "    \n",
    "plants = np.column_stack([plants, np.array(zij_group_means)])\n",
    "plants[:5]"
   ]
  },
  {
   "cell_type": "markdown",
   "metadata": {},
   "source": [
    "With the group $Z_{ij}$ medians found, we can proceed to computing the $W$ statistic. To help keep the computations simple, we split the $W$ statistic numerator and denominator into their own variables."
   ]
  },
  {
   "cell_type": "code",
   "execution_count": 6,
   "metadata": {},
   "outputs": [
    {
     "data": {
      "text/plain": [
       "1.1191856948703904"
      ]
     },
     "execution_count": 6,
     "metadata": {},
     "output_type": "execute_result"
    }
   ],
   "source": [
    "n = plants.shape[0]\n",
    "k = len(np.unique(plants[:,2]))\n",
    "\n",
    "zij_group_means = np.array([i for _, i in npi.group_by(plants[:, 2], plants[:, 4], np.mean)])\n",
    "\n",
    "total_mean = np.mean(plants[:, 4])\n",
    "\n",
    "numerator = np.sum(group_obs * (zij_group_means - total_mean) ** 2)\n",
    "\n",
    "denominator = np.sum((plants[:, 4] - plants[:, 5]) ** 2)\n",
    "\n",
    "w = (n - k) / (k - 1) * (numerator / denominator)\n",
    "\n",
    "w"
   ]
  },
  {
   "cell_type": "markdown",
   "metadata": {},
   "source": [
    "Levene's test reported a $W$ statistic of approximately $1.12$. To find the corresponding p-value, we use the cumulative distribution function from [`scipy.stats.f`](https://docs.scipy.org/doc/scipy/reference/generated/scipy.stats.f.html) variable with $k-1$ and $n-k$ degrees of freedom."
   ]
  },
  {
   "cell_type": "code",
   "execution_count": 7,
   "metadata": {},
   "outputs": [
    {
     "data": {
      "text/plain": [
       "0.3412266241254738"
      ]
     },
     "execution_count": 7,
     "metadata": {},
     "output_type": "execute_result"
    }
   ],
   "source": [
    "1 - f.cdf(w, k - 1, n - k)"
   ]
  },
  {
   "cell_type": "markdown",
   "metadata": {},
   "source": [
    "The reported p-value exceeds $0.05$, therefore we accept the null hypothesis that the sample groups have equal variances. With this knowledge in hand, we can then proceed to perform an analysis of variance or other similar test as we know the assumption of homogeneity of variance holds."
   ]
  },
  {
   "cell_type": "markdown",
   "metadata": {},
   "source": [
    "### References\n",
    "\n",
    "[Snedecor, G. W., & Cochran, W. G. (1989). Statistical methdos (8th ed.). Ames, IA: Iowa State University Press.](https://amzn.to/2UwYNCO)\n",
    "\n",
    "[Wikipedia contributors. \"Levene's test.\" Wikipedia, The Free Encyclopedia. Wikipedia, The Free Encyclopedia, 28 Apr. 2019. Web. 21 Mar. 2020.](https://en.wikipedia.org/wiki/Levene%27s_test)\n",
    "\n",
    "https://www.itl.nist.gov/div898/handbook/eda/section3/eda35a.htm"
   ]
  }
 ],
 "metadata": {
  "kernelspec": {
   "display_name": "Python 3",
   "language": "python",
   "name": "python3"
  },
  "language_info": {
   "codemirror_mode": {
    "name": "ipython",
    "version": 3
   },
   "file_extension": ".py",
   "mimetype": "text/x-python",
   "name": "python",
   "nbconvert_exporter": "python",
   "pygments_lexer": "ipython3",
   "version": "3.7.6"
  }
 },
 "nbformat": 4,
 "nbformat_minor": 4
}
