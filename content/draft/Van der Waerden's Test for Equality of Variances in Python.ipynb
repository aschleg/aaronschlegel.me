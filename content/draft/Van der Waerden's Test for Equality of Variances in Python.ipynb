{
 "cells": [
  {
   "cell_type": "markdown",
   "metadata": {},
   "source": [
    "The Van der Waerden test is a non-parametric test for testing the assumption that $k$ sample distribution\n",
    "functions are equal. Van der Waerden's test is similar to the Kruskal-Wallis one-way analysis of variance test in\n",
    "that it converts the data to ranks and then to standard normal distribution quantiles which are designated as the\n",
    "'normal scores'.\n",
    "\n",
    "The benefit of Van der Waerden's test is that it is performant compared to ANOVA (analysis of variance) when the\n",
    "samples are normally distributed and the Kruskal-Wallis test when the samples are not normally distributed.\n",
    "\n",
    "The null and alternative hypotheses of the Van der Waerden test can be stated generally as follows:\n",
    "\n",
    "* $H_0$: All of the $k$ population distribution functions are equal\n",
    "* $H_A$: At least one of the $k$ population distribution functions are not equal and tend to yield larger   observations to the other distribution functions.\n",
    "\n",
    "### Test Procedure\n",
    "\n",
    "Let $n_j$, be the number of samples for each of the $k$ groups where $j$ is the $j$-th group.\n",
    "$N$ is the number of total samples in all groups, while $X_{ij}$ is the $i$-th value of the $j$-th group.\n",
    "The normal scores used in the Van der Waerden test are calculated as:\n",
    "\n",
    "$$ A_{ij} = \\phi^{-1} \\left( \\frac{R \\left( X_{ij} \\right)}{N + 1} \\right) $$\n",
    "\n",
    "where $R(X_{ij})$ and $phi^{-1}$ are the ranks of the $X_{ij}$ observation and the normal\n",
    "quantile function (percent point function), respectively. The average normal scores can then be calculated as:\n",
    "\n",
    "$$ \\bar{A}_j = \\frac{1}{n_j} \\sum^{n_j}_{i=1} A_{ij} \\qquad j = 1, 2, \\cdots, k $$\n",
    "\n",
    "The variance $s^2$ of the normal scores is defined as:\n",
    "\n",
    "$$ s^2 = \\frac{1}{N - 1} \\sum^k_{i=1} \\sum^{n_i}_{j=1} A^2_{ij} $$\n",
    "\n",
    "The Van der Waerden test statistic, $T_1$ is defined as:\n",
    "\n",
    "$$ T_1 = \\frac{1}{s^2} \\sum^k_{i=1} n_i (\\bar{A}_i)^2 $$\n",
    "\n",
    "As the test is approximate to a chi-square distribution, the critical region for a significance level $\\alpha$\n",
    "is:\n",
    "    \n",
    "$$ T_1 = \\chi^2_{\\alpha, k-1} $$\n",
    "\n",
    "When the null hypothesis is rejected (p-value within the critical region) and at least one of the sample\n",
    "distribution functions differs, a post-hoc multiple comparions test can be performed to get a better sense of\n",
    "which populations differ from the others. Two sample populations, $j_1$ and $j_2$, tend to be different\n",
    "if the following is true:\n",
    "\n",
    "$$ | \\bar{A}_{j_1} - \\bar{A}_{j_2} | > s \\space t_{1-\\frac{\\alpha}{2}} \\sqrt{\\frac{N-1-T_1}{N-k}} \\sqrt{\\frac{1}{n_{j_1}} + \\frac{1}{n_{j_2}}} $$\n"
   ]
  },
  {
   "cell_type": "markdown",
   "metadata": {},
   "source": [
    "### Van der Waerden's Test in Python"
   ]
  },
  {
   "cell_type": "markdown",
   "metadata": {},
   "source": []
  },
  {
   "cell_type": "code",
   "execution_count": 30,
   "metadata": {},
   "outputs": [],
   "source": [
    "import numpy as np\n",
    "import pandas as pd\n",
    "from scipy.stats import rankdata, norm, chi2, t\n",
    "import numpy_indexed as npi\n",
    "from itertools import combinations"
   ]
  },
  {
   "cell_type": "code",
   "execution_count": 2,
   "metadata": {},
   "outputs": [],
   "source": [
    "plants = pd.read_csv('../../data/PlantGrowth.csv')\n",
    "plants = plants.to_numpy()\n",
    "plants[:3]"
   ]
  },
  {
   "cell_type": "code",
   "execution_count": 8,
   "metadata": {},
   "outputs": [],
   "source": [
    "ranks = rankdata(plants[:, 1], 'average')\n",
    "ranks = np.column_stack([plants, ranks])"
   ]
  },
  {
   "cell_type": "code",
   "execution_count": 34,
   "metadata": {},
   "outputs": [
    {
     "data": {
      "text/plain": [
       "array([[1, 4.17, 'ctrl', 3.5],\n",
       "       [2, 5.58, 'ctrl', 24.0],\n",
       "       [3, 5.18, 'ctrl', 17.0],\n",
       "       [4, 6.11, 'ctrl', 28.0],\n",
       "       [5, 4.5, 'ctrl', 7.0],\n",
       "       [6, 4.61, 'ctrl', 9.0],\n",
       "       [7, 5.17, 'ctrl', 16.0],\n",
       "       [8, 4.53, 'ctrl', 8.0],\n",
       "       [9, 5.33, 'ctrl', 20.0],\n",
       "       [10, 5.14, 'ctrl', 15.0]], dtype=object)"
      ]
     },
     "execution_count": 34,
     "metadata": {},
     "output_type": "execute_result"
    }
   ],
   "source": [
    "ranks[:10]"
   ]
  },
  {
   "cell_type": "code",
   "execution_count": 14,
   "metadata": {},
   "outputs": [],
   "source": [
    "n, k = plants.shape\n",
    "\n",
    "aij = norm.ppf(list(ranks[:, 3] / (n + 1)))\n",
    "plants_score = np.column_stack([plants, aij])"
   ]
  },
  {
   "cell_type": "code",
   "execution_count": 33,
   "metadata": {},
   "outputs": [
    {
     "data": {
      "text/plain": [
       "array([[1, 4.17, 'ctrl', -1.2112321309213452],\n",
       "       [2, 5.58, 'ctrl', 0.7527287942581697],\n",
       "       [3, 5.18, 'ctrl', 0.1215873827504829]], dtype=object)"
      ]
     },
     "execution_count": 33,
     "metadata": {},
     "output_type": "execute_result"
    }
   ],
   "source": [
    "plants_score[:3]"
   ]
  },
  {
   "cell_type": "code",
   "execution_count": 18,
   "metadata": {},
   "outputs": [],
   "source": [
    "avg_scores = npi.group_by(plants_score[:, 2], plants_score[:, 3], np.mean)"
   ]
  },
  {
   "cell_type": "code",
   "execution_count": 19,
   "metadata": {},
   "outputs": [],
   "source": [
    "score_variance = np.sum(plants_score[:, 3] ** 2) / (n - 1)"
   ]
  },
  {
   "cell_type": "code",
   "execution_count": 24,
   "metadata": {},
   "outputs": [],
   "source": [
    "average_scores = np.array([i for _, i in avg_scores])\n",
    "group_obs = np.array([i[1] for i in npi.group_by(plants[:, 2], plants[:, 2], len)])\n",
    "t1 = np.sum(group_obs * average_scores ** 2) / score_variance\n",
    "\n",
    "p_value = chi2.sf(t1, k - 1)"
   ]
  },
  {
   "cell_type": "code",
   "execution_count": 25,
   "metadata": {},
   "outputs": [
    {
     "name": "stdout",
     "output_type": "stream",
     "text": [
      "7.925272519897477\n",
      "0.019012925151783353\n"
     ]
    }
   ],
   "source": [
    "print(t1)\n",
    "print(p_value)"
   ]
  },
  {
   "cell_type": "markdown",
   "metadata": {},
   "source": [
    "### Post-Hoc Analysis"
   ]
  },
  {
   "cell_type": "code",
   "execution_count": 31,
   "metadata": {},
   "outputs": [],
   "source": [
    "sample_sizes = 1 / np.array(list(combinations(group_obs, 2)))[:, 0] + \\\n",
    "               1 / np.array(list(combinations(group_obs, 2)))[:, 1]\n",
    "\n",
    "average_score_differences = np.abs(np.array(list(combinations(average_scores, 2)))[:, 0] - \\\n",
    "                            np.array(list(combinations(average_scores, 2)))[:, 1])\n",
    "\n",
    "group_names = np.unique(plants[:, 2])\n",
    "\n",
    "groups = pd.DataFrame(np.array(list(combinations(group_names, 2))))\n",
    "\n",
    "groups['groups'] = groups[0] + ' - ' + groups[1]\n",
    "groups['score'] = average_scores\n",
    "\n",
    "groups['difference'] = average_score_differences > np.sqrt(score_variance) * \\\n",
    "                       t.ppf(1 - 0.05 / 2, n - k) * \\\n",
    "                       np.sqrt((n - 1 - t1) / (n - k)) * np.sqrt(sample_sizes)\n",
    "\n",
    "del groups[0]\n",
    "del groups[1]"
   ]
  },
  {
   "cell_type": "code",
   "execution_count": 32,
   "metadata": {},
   "outputs": [
    {
     "data": {
      "text/html": [
       "<div>\n",
       "<style scoped>\n",
       "    .dataframe tbody tr th:only-of-type {\n",
       "        vertical-align: middle;\n",
       "    }\n",
       "\n",
       "    .dataframe tbody tr th {\n",
       "        vertical-align: top;\n",
       "    }\n",
       "\n",
       "    .dataframe thead th {\n",
       "        text-align: right;\n",
       "    }\n",
       "</style>\n",
       "<table border=\"1\" class=\"dataframe\">\n",
       "  <thead>\n",
       "    <tr style=\"text-align: right;\">\n",
       "      <th></th>\n",
       "      <th>groups</th>\n",
       "      <th>score</th>\n",
       "      <th>difference</th>\n",
       "    </tr>\n",
       "  </thead>\n",
       "  <tbody>\n",
       "    <tr>\n",
       "      <th>0</th>\n",
       "      <td>ctrl - trt1</td>\n",
       "      <td>-0.061897</td>\n",
       "      <td>False</td>\n",
       "    </tr>\n",
       "    <tr>\n",
       "      <th>1</th>\n",
       "      <td>ctrl - trt2</td>\n",
       "      <td>-0.543135</td>\n",
       "      <td>False</td>\n",
       "    </tr>\n",
       "    <tr>\n",
       "      <th>2</th>\n",
       "      <td>trt1 - trt2</td>\n",
       "      <td>0.605899</td>\n",
       "      <td>True</td>\n",
       "    </tr>\n",
       "  </tbody>\n",
       "</table>\n",
       "</div>"
      ],
      "text/plain": [
       "        groups     score  difference\n",
       "0  ctrl - trt1 -0.061897       False\n",
       "1  ctrl - trt2 -0.543135       False\n",
       "2  trt1 - trt2  0.605899        True"
      ]
     },
     "execution_count": 32,
     "metadata": {},
     "output_type": "execute_result"
    }
   ],
   "source": [
    "groups"
   ]
  },
  {
   "cell_type": "markdown",
   "metadata": {},
   "source": [
    "### References"
   ]
  },
  {
   "cell_type": "markdown",
   "metadata": {},
   "source": [
    "Conover, W. J. (1999). Practical Nonparameteric Statistics (Third ed.). Wiley.\n",
    "\n",
    "Wikipedia contributors. \"Van der Waerden test.\" Wikipedia, The Free Encyclopedia.\n",
    "    Wikipedia, The Free Encyclopedia, 8 Feb. 2017. Web. 8 Mar. 2020."
   ]
  }
 ],
 "metadata": {
  "kernelspec": {
   "display_name": "Python 3",
   "language": "python",
   "name": "python3"
  },
  "language_info": {
   "codemirror_mode": {
    "name": "ipython",
    "version": 3
   },
   "file_extension": ".py",
   "mimetype": "text/x-python",
   "name": "python",
   "nbconvert_exporter": "python",
   "pygments_lexer": "ipython3",
   "version": "3.7.6"
  }
 },
 "nbformat": 4,
 "nbformat_minor": 4
}
