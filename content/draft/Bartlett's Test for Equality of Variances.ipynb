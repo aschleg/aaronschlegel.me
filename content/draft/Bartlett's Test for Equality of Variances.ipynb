{
 "cells": [
  {
   "cell_type": "markdown",
   "metadata": {},
   "source": [
    "The test statistic is approximately chi-square distributed with $k - 1$ degrees of freedom, where $k$\n",
    "is the number of sample groups. The chi-square approximation does not hold sufficiently when the sample size of\n",
    "a group is $n_i > 5$.\n",
    "\n",
    "The test statistic, $\\chi^2$ is defined as:\n",
    "\n",
    "$$ \\chi^2 = \\frac{(n - k) \\ln(S^2_p) - \\sum^k_{i=1} (n_i - 1) \\ln(S^2_i)}{1 + \\frac{1}{3(k - 1)} \\left(\\sum^k_{i=1} (\\frac{1}{n_i - 1}) - \\frac{1}{n - k} \\right)} $$\n",
    "\n",
    "where $n$ is the total number of samples across all groups, $k$ is the number of groups, $S^2_i$\n",
    "are the sample variances.\n",
    "\n",
    "$S^2_p$, the pooled estimate of the samples' variance, is defined as:\n",
    "\n",
    "$$ S^2_p = \\frac{1}{n - k} \\sum_i (n_i - 1) S^2_i $$"
   ]
  },
  {
   "cell_type": "code",
   "execution_count": 1,
   "metadata": {},
   "outputs": [],
   "source": [
    "import numpy as np\n",
    "import pandas as pd\n",
    "from scipy.stats import chi2\n",
    "import numpy_indexed as npi"
   ]
  },
  {
   "cell_type": "code",
   "execution_count": 2,
   "metadata": {},
   "outputs": [
    {
     "name": "stdout",
     "output_type": "stream",
     "text": [
      "[[1 4.17 'ctrl']\n",
      " [2 5.58 'ctrl']\n",
      " [3 5.18 'ctrl']]\n",
      "['ctrl', 'trt1', 'trt2']\n"
     ]
    }
   ],
   "source": [
    "plants = pd.read_csv('../../data/PlantGrowth.csv')\n",
    "plants = plants.to_numpy()\n",
    "\n",
    "print(plants[:3])\n",
    "print(list(np.unique(plants[:,2])))"
   ]
  },
  {
   "cell_type": "code",
   "execution_count": null,
   "metadata": {},
   "outputs": [],
   "source": [
    "n = plants.shape[0]\n",
    "k = len(np.unique(plants[:,2]))\n",
    "\n",
    "group_n = np.array([i for _, i in npi.group_by(self.design_matrix[:, 0], self.design_matrix[:, 1], len)])\n",
    "group_variance = np.array([i for _, i in npi.group_by(self.design_matrix[:, 0], self.design_matrix[:, 1], var)])\n",
    "\n",
    "pool_var = 1 / (self.n - self.k) * np.sum((group_n - 1) * group_variance)\n",
    "\n",
    "x2_num = (self.n - self.k) * np.log(pool_var) - np.sum((group_n - 1) * np.log(group_variance))\n",
    "x2_den = 1 + 1 / (3 * (self.k - 1)) * (np.sum(1 / (group_n - 1)) - 1 / (self.n - self.k))\n",
    "\n",
    "x2 = x2_num / x2_den"
   ]
  },
  {
   "cell_type": "code",
   "execution_count": null,
   "metadata": {},
   "outputs": [],
   "source": [
    "p = 1 - chi2.cdf(self.test_statistic, self.k - 1)"
   ]
  }
 ],
 "metadata": {
  "kernelspec": {
   "display_name": "Python 3",
   "language": "python",
   "name": "python3"
  },
  "language_info": {
   "codemirror_mode": {
    "name": "ipython",
    "version": 3
   },
   "file_extension": ".py",
   "mimetype": "text/x-python",
   "name": "python",
   "nbconvert_exporter": "python",
   "pygments_lexer": "ipython3",
   "version": "3.7.6"
  }
 },
 "nbformat": 4,
 "nbformat_minor": 4
}
