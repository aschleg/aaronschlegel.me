{
 "cells": [
  {
   "cell_type": "markdown",
   "metadata": {},
   "source": [
    "# Hyperbolic Functions and Their Derivatives"
   ]
  },
  {
   "cell_type": "markdown",
   "metadata": {},
   "source": [
    "$\\newcommand{\\sech}{sech}$\n",
    "$\\newcommand{\\csch}{csch}$"
   ]
  },
  {
   "cell_type": "markdown",
   "metadata": {},
   "source": [
    "Hyperbolic functions are analogs of trigonometric functions in that hyperbolic functions are related to hyperbola while trigonometric functions are related to the circle. In fact, the hyperbolic functions are named very similarly to their corresponding trigonometric functions. For example, $\\sinh{}$ is the hyperbolic sine and $\\cosh{}$ is the hyperbolic cosine. \n",
    "\n",
    "The following is a list of definitions of the hyperbolic functions:\n",
    "\n",
    "$$ \\sinh{x} = \\frac{e^x - e^{-x}}{2} \\qquad \\cosh{x} = \\frac{e^x + e^{-x}}{2} \\qquad \\tanh{x} = \\frac{\\sinh{x}}{\\cosh{x}} $$\n",
    "\n",
    "$$ \\sech{x} = \\frac{1}{\\cosh{x}} \\qquad \\csch{x} = \\frac{1}{\\sinh{x}} \\qquad \\coth{x} = \\frac{\\cosh{x}}{\\sinh{x}} $$"
   ]
  },
  {
   "cell_type": "markdown",
   "metadata": {},
   "source": [
    "### Hyperbolic Identities\n",
    "\n",
    "The following hyperbolic identities are similar to trigonometric identities, of which the most common are listed here:"
   ]
  },
  {
   "cell_type": "markdown",
   "metadata": {},
   "source": [
    "$$ \\sinh{-x} = -\\sinh{x} \\qquad \\cosh{-x} = \\cosh{x} $$\n",
    "\n",
    "$$ \\cosh^2{x} - \\sinh^2{x} = 1 \\qquad 1 - \\tanh^2{x} = \\sech^2{x} $$\n",
    "\n",
    "$$ \\sinh{x + y} = \\sinh{x} \\cosh{y} + \\cosh{x} + \\sinh{y} \\qquad \\cosh{x + y} = \\cosh{x} \\cosh{y} + \\sinh{x} \\sinh{y} $$"
   ]
  },
  {
   "cell_type": "markdown",
   "metadata": {},
   "source": [
    "### Derivatives of Hyperbolic Functions"
   ]
  },
  {
   "cell_type": "markdown",
   "metadata": {
    "collapsed": true
   },
   "source": [
    "As we saw before with the hyperbolic identities, the derivatives of hyperbolic functions are also similar to the derivatives of trigonometric functions."
   ]
  },
  {
   "cell_type": "markdown",
   "metadata": {},
   "source": [
    "$$ \\frac{d}{dx} \\sinh{x} = \\cosh{x} \\qquad \\frac{d}{dx} \\cosh{x} = \\sinh{x} $$\n",
    "\n",
    "$$ \\frac{d}{dx} \\tanh{x} = \\sech^2{x} \\qquad \\frac{d}{dx} \\csch{x} = -\\csch{x} \\coth{x} $$\n",
    "\n",
    "$$ \\frac{d}{dx} \\sech{x} = -\\sech{x} \\tanh{x} \\qquad \\frac{d}{dx} \\coth{x} = -\\csch^2{x} $$"
   ]
  },
  {
   "cell_type": "markdown",
   "metadata": {},
   "source": [
    "### Inverse Hyperbolic Functions"
   ]
  },
  {
   "cell_type": "code",
   "execution_count": null,
   "metadata": {
    "collapsed": true
   },
   "outputs": [],
   "source": []
  },
  {
   "cell_type": "code",
   "execution_count": null,
   "metadata": {
    "collapsed": true
   },
   "outputs": [],
   "source": []
  },
  {
   "cell_type": "code",
   "execution_count": null,
   "metadata": {
    "collapsed": true
   },
   "outputs": [],
   "source": [
    "from sympy import symbols, diff, simplify, sin, cos, log, tan, sqrt, init_printing\n",
    "from mpmath import *\n",
    "\n",
    "init_printing()\n",
    "x = symbols('x')\n",
    "y = symbols('y')"
   ]
  },
  {
   "cell_type": "code",
   "execution_count": null,
   "metadata": {
    "collapsed": true
   },
   "outputs": [],
   "source": []
  },
  {
   "cell_type": "markdown",
   "metadata": {},
   "source": [
    "## References"
   ]
  },
  {
   "cell_type": "markdown",
   "metadata": {},
   "source": [
    "Stewart, J. (2007). Essential calculus: Early transcendentals. Belmont, CA: Thomson Higher Education.\n",
    "\n",
    "Weisstein, Eric W. \"Hyperbolic Functions.\" From MathWorld--A Wolfram Web Resource. http://mathworld.wolfram.com/HyperbolicFunctions.html"
   ]
  }
 ],
 "metadata": {
  "kernelspec": {
   "display_name": "Python 3",
   "language": "python",
   "name": "python3"
  },
  "language_info": {
   "codemirror_mode": {
    "name": "ipython",
    "version": 3
   },
   "file_extension": ".py",
   "mimetype": "text/x-python",
   "name": "python",
   "nbconvert_exporter": "python",
   "pygments_lexer": "ipython3",
   "version": "3.6.4"
  }
 },
 "nbformat": 4,
 "nbformat_minor": 2
}
