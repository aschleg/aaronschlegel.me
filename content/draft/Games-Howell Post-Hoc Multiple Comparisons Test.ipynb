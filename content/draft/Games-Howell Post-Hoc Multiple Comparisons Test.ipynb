{
 "cells": [
  {
   "cell_type": "markdown",
   "metadata": {},
   "source": [
    "The Games-Howell test is defined as:\n",
    "\n",
    "$$ \\bar{x}_i - \\bar{x}_j > q_{\\sigma, k, df} $$\n",
    "\n",
    "Where $\\sigma$ is equal to standard error:\n",
    "\n",
    "$$ \\sigma = \\sqrt{{\\frac{1}{2} \\left(\\frac{s^2_i}{n_i} + \\frac{s^2_j}{n_j}\\right)}} $$\n",
    "\n",
    "Degrees of freedom is calculated using Welch's correction:\n",
    "\n",
    "$$    \\large \\frac{\\left(\\frac{s^2_i}{n_i} + \n",
    "\\frac{s^2_j}{n_j}\\right)^2}{\\frac{\\left(\\frac{s_i^2}{n_i}\\right)^2}{n_i - 1} +\n",
    "\\frac{\\left(\\frac{s_j^2}{n_j}\\right)^2}{n_j - 1}}$$\n",
    "\n",
    "Thus, confidence intervals can be formed with:\n",
    "\n",
    "$$ \\bar{x}_i - \\bar{x}_j \\pm t \\sqrt{{\\frac{1}{2} \\left(\\frac{s_i^2}{n_i} + \\frac{s_j^2}{n_j}\\right)}} $$\n",
    "\n",
    "p-values are calculated using Tukey's studentized range:\n",
    "\n",
    "$$ \\large q_{t * \\sqrt{2}, k, df} $$\n",
    "\n",
    "The Games-Howell test and Tukey's test will often report similar results with data that is assumed to have\n",
    "equal variance and equal sample sizes."
   ]
  },
  {
   "cell_type": "code",
   "execution_count": 1,
   "metadata": {},
   "outputs": [],
   "source": [
    "import numpy as np\n",
    "import pandas as pd\n",
    "import numpy_indexed as npi\n",
    "from statsmodels.stats.libqsturng import qsturng, psturng\n",
    "from itertools import combinations"
   ]
  },
  {
   "cell_type": "code",
   "execution_count": 9,
   "metadata": {},
   "outputs": [
    {
     "name": "stdout",
     "output_type": "stream",
     "text": [
      "[[1 10 'A']\n",
      " [2 7 'A']\n",
      " [3 20 'A']]\n",
      "\n",
      "\n",
      "['A', 'B', 'C', 'D', 'E', 'F']\n"
     ]
    }
   ],
   "source": [
    "sprays = pd.read_csv('../../data/InsectSprays.csv')\n",
    "sprays = sprays.to_numpy()\n",
    "\n",
    "print(sprays[:3])\n",
    "print('\\n')\n",
    "print(list(np.unique(sprays[:,2])))"
   ]
  }
 ],
 "metadata": {
  "kernelspec": {
   "display_name": "Python 3",
   "language": "python",
   "name": "python3"
  },
  "language_info": {
   "codemirror_mode": {
    "name": "ipython",
    "version": 3
   },
   "file_extension": ".py",
   "mimetype": "text/x-python",
   "name": "python",
   "nbconvert_exporter": "python",
   "pygments_lexer": "ipython3",
   "version": "3.7.6"
  }
 },
 "nbformat": 4,
 "nbformat_minor": 4
}
