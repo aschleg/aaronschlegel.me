{
 "cells": [
  {
   "cell_type": "markdown",
   "metadata": {},
   "source": [
    "The Greeks are used as risk measures that represent how sensitive the price of derivatives are to change. This is useful as risks can be treated in isolation and thus allows for tuning in a portfolio to reach a desired level of risk. The values are called 'the Greeks' as they are denoted by Greek letters. Each will be presented in turn as an introduction:"
   ]
  },
  {
   "cell_type": "markdown",
   "metadata": {},
   "source": [
    "* Delta ($\\Delta$) is the first derivative of the spot price $S, \\frac{\\partial V}{\\partial S}$\n",
    "    * Denotes the rate of change of a portfolio's value\n",
    "\n",
    "* Gamma ($\\Gamma$) is the second derivative of the spot price $S, \\frac{\\partial^2 V}{\\partial S^2}$\n",
    "    * Rate of change of the Delta\n",
    "    \n",
    "* Theta ($\\Theta$) is the first derivative of time $t, \\frac{\\partial V}{\\partial t}$\n",
    "    * Rate of change of the portfolio's value with respect to time $t$ (Not the maturity time $T$)\n",
    "    \n",
    "* Rho ($\\rho$) is the first derivative with respect to the risk-free rate $r, \\frac{\\partial V}{\\partial r}$\n",
    "    * Denotes the rate of change of the portfolio's value with respect to the risk-free interest rate\n",
    "    \n",
    "* Vega is the first deriative of volatility $\\sigma, \\frac{\\partial V}{\\partial \\sigma}$\n",
    "    * Rate of change of value with respect to $\\sigma$"
   ]
  },
  {
   "cell_type": "markdown",
   "metadata": {},
   "source": [
    "### General Derivations to Aid in Greek Computation"
   ]
  },
  {
   "cell_type": "markdown",
   "metadata": {},
   "source": [
    "Black-Scholes Formula for a Call Option"
   ]
  },
  {
   "cell_type": "markdown",
   "metadata": {},
   "source": [
    "$$C(S,t) = SN(d_1) - Ke^{-r(T - t)} N(d_2)$$"
   ]
  },
  {
   "cell_type": "markdown",
   "metadata": {},
   "source": [
    "Probability Density Function of Standard Normal Variable"
   ]
  },
  {
   "cell_type": "markdown",
   "metadata": {},
   "source": [
    "The standard normal variable will come up often in the derivation of the Greeks, so it is important to note this prior to proceeding. It is denoted by $z$ and is stated as the following:"
   ]
  },
  {
   "cell_type": "markdown",
   "metadata": {},
   "source": [
    "$$f(x) = \\frac{1}{\\sqrt{2\\pi}} e^{-\\frac{x^2}{2}}$$"
   ]
  },
  {
   "cell_type": "markdown",
   "metadata": {},
   "source": [
    "Derive $S \\cdot N'(d_1) = Ke^{-r(T-t)}N'(d_2)$"
   ]
  },
  {
   "cell_type": "markdown",
   "metadata": {},
   "source": [
    "We know the probability density function as presented above and that:"
   ]
  },
  {
   "cell_type": "markdown",
   "metadata": {},
   "source": [
    "$$d_1 = \\frac{\\ln \\left(\\frac{S}{K} \\right) + \\left(r + \\frac{\\sigma^2}{2} \\right)(T)}{\\sigma \\sqrt{T}} + \\frac{\\sigma \\sqrt{T}}{2}$$ $$d_2 = d_1 - \\sigma \\sqrt{T - t} = \\frac{\\ln \\left(\\frac{S}{K} \\right) + \\left(r - \\frac{\\sigma^2}{2}\\right)(T)}{\\sigma \\sqrt{T}} - \\frac{\\sigma \\sqrt{T}}{2}$$"
   ]
  },
  {
   "cell_type": "markdown",
   "metadata": {},
   "source": [
    "Therefore,"
   ]
  },
  {
   "cell_type": "markdown",
   "metadata": {},
   "source": [
    "$$N'(d_1) = N'(d2 + \\sigma \\sqrt{T})$$ $$N'(d_1) = \\frac{1}{\\sqrt{2\\pi}} e^{\\frac{-d_1^2}{2}}$$ $$N'(d_2) = \\frac{1}{\\sqrt{2\\pi}} e^{\\frac{-d_2^2}{2}}$$"
   ]
  },
  {
   "cell_type": "markdown",
   "metadata": {},
   "source": [
    "To prove the derivation above, insert the equivalent of $N'(d_1)$ and $N'(d_2)$ as shown above. "
   ]
  },
  {
   "cell_type": "markdown",
   "metadata": {},
   "source": [
    "$$Se^{-\\frac{d_1^2}{2}} = Ke^{-r(T-t)} e^{-\\frac{d_2^2}{2}}$$"
   ]
  },
  {
   "cell_type": "markdown",
   "metadata": {},
   "source": [
    "Recall $exp(ln(x)) = x$."
   ]
  },
  {
   "cell_type": "markdown",
   "metadata": {},
   "source": [
    "$$S = Ke^{-r(T-t)} \\frac{S}{K}e^{r(T-t)}$$"
   ]
  },
  {
   "cell_type": "markdown",
   "metadata": {},
   "source": [
    "$$S = Ke^{-r(T-t)} exp \\left(ln \\left(\\frac{S}{K} \\right) + r(T-t) \\right)$$"
   ]
  },
  {
   "cell_type": "markdown",
   "metadata": {},
   "source": [
    "We can rearrange $d_1$ above to get:"
   ]
  },
  {
   "cell_type": "markdown",
   "metadata": {},
   "source": [
    "$$ln \\left(\\frac{S}{K} \\right) + r(T-t) = d_1 \\sigma \\sqrt{T-t} - \\frac{\\sigma^2 (T-t)}{2}$$"
   ]
  },
  {
   "cell_type": "markdown",
   "metadata": {},
   "source": [
    "Which then leads us to:"
   ]
  },
  {
   "cell_type": "markdown",
   "metadata": {},
   "source": [
    "$$S = Ke^{-r(T-t)} exp \\left(d_1 \\sigma \\sqrt{T-t} - \\frac{\\sigma^2 (T-t)}{2} \\right)$$"
   ]
  },
  {
   "cell_type": "markdown",
   "metadata": {},
   "source": [
    "And knowing $d_2 = d_1 - \\sigma \\sqrt{T-t}$"
   ]
  },
  {
   "cell_type": "markdown",
   "metadata": {},
   "source": [
    "$$Se^{-\\frac{d_1^2}{2}} = Ke^{-r(T-t)} exp \\left(-\\frac{d_1^2}{2} + d_1 \\sigma \\sqrt{T-t} - \\frac{\\sigma^2(T-t)}{2} \\right)$$ "
   ]
  },
  {
   "cell_type": "markdown",
   "metadata": {},
   "source": [
    "$$Se^{-\\frac{d_1^2}{2}} = Ke^{-r(T-t)} exp \\left(-\\frac{\\left(d_1 - \\sigma \\sqrt{T-t} \\right)^2}{2} \\right)$$"
   ]
  },
  {
   "cell_type": "markdown",
   "metadata": {},
   "source": [
    "$$Se^{-\\frac{d_1^2}{2}} = Ke^{-r(T-t)} e^{-\\frac{d_2^2}{2}}$$"
   ]
  },
  {
   "cell_type": "markdown",
   "metadata": {},
   "source": [
    "Which translates to:"
   ]
  },
  {
   "cell_type": "markdown",
   "metadata": {},
   "source": [
    "$$SN'(d_1) = Ke^{-r(T-t)} N'(d_2)$$"
   ]
  },
  {
   "cell_type": "markdown",
   "metadata": {},
   "source": [
    "Taking the derivative with respect to the spot price $S$ of $d_1$ and $d_2$, we see:"
   ]
  },
  {
   "cell_type": "markdown",
   "metadata": {},
   "source": [
    "$$\\frac{\\partial d_1}{\\partial S} = \\frac{\\partial d_2}{\\partial S} = \\frac{1}{\\sigma S \\sqrt{T-t}}$$"
   ]
  },
  {
   "cell_type": "markdown",
   "metadata": {},
   "source": [
    "The last two formulas above will be used frequently in the derivation of the Greeks."
   ]
  },
  {
   "cell_type": "markdown",
   "metadata": {},
   "source": [
    "## Greeks of Non-Dividend Paying Assets"
   ]
  },
  {
   "cell_type": "markdown",
   "metadata": {},
   "source": [
    "\n",
    "The implementation of the Greeks will be introduced for both non-dividend and dividend paying assets."
   ]
  },
  {
   "cell_type": "code",
   "execution_count": 3,
   "metadata": {},
   "outputs": [],
   "source": [
    "from IPython.display import HTML"
   ]
  },
  {
   "cell_type": "code",
   "execution_count": 16,
   "metadata": {},
   "outputs": [],
   "source": [
    "table = \"\"\"<table>\n",
    "<tr>\n",
    "<th>Greek</th>\n",
    "<th>Call</th>\n",
    "<th>Put</th>\n",
    "</tr>\n",
    "<tr>\n",
    "<td>Delta $\\Delta$</td>\n",
    "<td>$N(d_1)$</td>\n",
    "<td>$-N(-d_1)$</td>\n",
    "</tr>\n",
    "<tr>\n",
    "<td>Theta $\\Theta$</td>\n",
    "<td>$\\\\frac{\\sigma SN'(d_1)}{2\\sqrt{T-t}} - rKe^{-r(T-t)} N(d_2)$</td>\n",
    "<td>$\\\\frac{-\\sigma SN'(d_1)}{2\\sqrt{T-t}} + rKe^{-r(T-t)} N(d_2)$</td>\n",
    "</tr>\n",
    "<tr>\n",
    "<td>Gamma $\\Gamma$</td>\n",
    "<td>$\\\\frac{N'(d_1)}{S\\sigma \\sqrt{T}}$</td>\n",
    "<td>$\\\\frac{N'(d_1)}{S\\sigma \\sqrt{T}}$</td>\n",
    "</tr>\n",
    "<tr>\n",
    "<td>Vega $v$</td>\n",
    "<td>$S_0 N'(d_1)\\sqrt{T}$</td>\n",
    "<td>$S_0 N'(d_1)\\sqrt{T}$</td>\n",
    "</tr>\n",
    "<tr>\n",
    "<td>Rho $\\\\rho$</td>\n",
    "<td>$TKe^{-r(T)} N(d_2)$</td>\n",
    "<td>$-TKe^{-r(T)} N(-d_2)$</td>\n",
    "</tr>\n",
    "</table>\"\"\""
   ]
  },
  {
   "cell_type": "code",
   "execution_count": 17,
   "metadata": {},
   "outputs": [
    {
     "data": {
      "text/html": [
       "<table>\n",
       "<tr>\n",
       "<th>Greek</th>\n",
       "<th>Call</th>\n",
       "<th>Put</th>\n",
       "</tr>\n",
       "<tr>\n",
       "<td>Delta $\\Delta$</td>\n",
       "<td>$N(d_1)$</td>\n",
       "<td>$-N(-d_1)$</td>\n",
       "</tr>\n",
       "<tr>\n",
       "<td>Theta $\\Theta$</td>\n",
       "<td>$\\frac{\\sigma SN'(d_1)}{2\\sqrt{T-t}} - rKe^{-r(T-t)} N(d_2)$</td>\n",
       "<td>$\\frac{-\\sigma SN'(d_1)}{2\\sqrt{T-t}} + rKe^{-r(T-t)} N(d_2)$</td>\n",
       "</tr>\n",
       "<tr>\n",
       "<td>Gamma $\\Gamma$</td>\n",
       "<td>$\\frac{N'(d_1)}{S\\sigma \\sqrt{T}}$</td>\n",
       "<td>$\\frac{N'(d_1)}{S\\sigma \\sqrt{T}}$</td>\n",
       "</tr>\n",
       "<tr>\n",
       "<td>Vega $v$</td>\n",
       "<td>$S_0 N'(d_1)\\sqrt{T}$</td>\n",
       "<td>$S_0 N'(d_1)\\sqrt{T}$</td>\n",
       "</tr>\n",
       "<tr>\n",
       "<td>Rho $\\rho$</td>\n",
       "<td>$TKe^{-r(T)} N(d_2)$</td>\n",
       "<td>$-TKe^{-r(T)} N(-d_2)$</td>\n",
       "</tr>\n",
       "</table>"
      ],
      "text/plain": [
       "<IPython.core.display.HTML at 0x601add0>"
      ]
     },
     "execution_count": 17,
     "metadata": {},
     "output_type": "execute_result"
    }
   ],
   "source": [
    "greeks = HTML(table); greeks"
   ]
  },
  {
   "cell_type": "markdown",
   "metadata": {},
   "source": [
    "Above is a table of all the derivations of the Greek calls and puts for non-dividend paying assets.  "
   ]
  },
  {
   "cell_type": "markdown",
   "metadata": {},
   "source": [
    "### Python Implementation"
   ]
  },
  {
   "cell_type": "code",
   "execution_count": 13,
   "metadata": {},
   "outputs": [],
   "source": [
    "import numpy as np\n",
    "import scipy.stats as si\n",
    "import sympy as sy\n",
    "import sympy.statistics as systats"
   ]
  },
  {
   "cell_type": "markdown",
   "metadata": {},
   "source": [
    "#### Delta $\\Delta$"
   ]
  },
  {
   "cell_type": "code",
   "execution_count": 27,
   "metadata": {},
   "outputs": [],
   "source": [
    "def delta_call(S, K, T, r, sigma):\n",
    "    \n",
    "    d1 = (np.log(S / K) + (r + 0.5 * sigma ** 2) * T) / (sigma * np.sqrt(T))\n",
    "    \n",
    "    delta_call = si.norm.cdf(d1, 0.0, 1.0)\n",
    "    \n",
    "    return delta_call"
   ]
  },
  {
   "cell_type": "code",
   "execution_count": 30,
   "metadata": {},
   "outputs": [],
   "source": [
    "def delta_put(S, K, T, r, sigma):\n",
    "    \n",
    "    d1 = (np.log(S / K) + (r + 0.5 * sigma ** 2) * T) / (sigma * np.sqrt(T))\n",
    "    \n",
    "    delta_put = si.norm.cdf(-d1, 0.0, 1.0)\n",
    "    \n",
    "    return -delta_put"
   ]
  },
  {
   "cell_type": "code",
   "execution_count": 34,
   "metadata": {},
   "outputs": [],
   "source": [
    "def delta(S, K, T, r, sigma, option = 'call'):\n",
    "    \n",
    "    d1 = (np.log(S / K) + (r + 0.5 * sigma ** 2) * T) / (sigma * np.sqrt(T))\n",
    "    \n",
    "    if option == 'call':\n",
    "        result = si.norm.cdf(d1, 0.0, 1.0)\n",
    "    if option == 'put':\n",
    "        result = -si.norm.cdf(-d1, 0.0, 1.0)\n",
    "        \n",
    "    return result"
   ]
  },
  {
   "cell_type": "code",
   "execution_count": 35,
   "metadata": {},
   "outputs": [
    {
     "data": {
      "text/plain": [
       "-0.00097550992808483267"
      ]
     },
     "execution_count": 35,
     "metadata": {},
     "output_type": "execute_result"
    }
   ],
   "source": [
    "delta(100, 50, 1, 0.05, 0.25, option = 'put')"
   ]
  },
  {
   "cell_type": "markdown",
   "metadata": {},
   "source": [
    "#### Theta $\\Theta$"
   ]
  },
  {
   "cell_type": "code",
   "execution_count": 46,
   "metadata": {},
   "outputs": [],
   "source": [
    "def theta_call(S, K, T, r, sigma):\n",
    "    \n",
    "    d1 = (np.log(S / K) + (r + 0.5 * sigma ** 2) * T) / (sigma * np.sqrt(T))\n",
    "    d2 = (np.log(S / K) + (r - 0.5 * sigma ** 2) * T) / (sigma * np.sqrt(T))\n",
    "    \n",
    "    prob_density = 1 / np.sqrt(2 * np.pi) * np.exp(-d1 ** 2 * 0.5)\n",
    "    \n",
    "    theta = (-sigma * S * prob_density) / (2 * np.sqrt(T)) - r * K * np.exp(-r * T) * si.norm.cdf(d2, 0.0, 1.0)\n",
    "    \n",
    "    return theta"
   ]
  },
  {
   "cell_type": "code",
   "execution_count": 50,
   "metadata": {},
   "outputs": [],
   "source": [
    "def theta_put(S, K, T, r, sigma):\n",
    "    \n",
    "    d1 = (np.log(S / K) + (r + 0.5 * sigma ** 2) * T) / (sigma * np.sqrt(T))\n",
    "    d2 = (np.log(S / K) + (r - 0.5 * sigma ** 2) * T) / (sigma * np.sqrt(T))\n",
    "    \n",
    "    prob_density = 1 / np.sqrt(2 * np.pi) * np.exp(-d1 ** 2 * 0.5)\n",
    "    \n",
    "    theta = (-sigma * S * prob_density) / (2 * np.sqrt(T)) + r * K * np.exp(-r * T) * si.norm.cdf(-d2, 0.0, 1.0)\n",
    "    \n",
    "    return theta"
   ]
  },
  {
   "cell_type": "code",
   "execution_count": 52,
   "metadata": {},
   "outputs": [],
   "source": [
    "def theta(S, K, T, r, sigma, option = 'call'):\n",
    "    \n",
    "    d1 = (np.log(S / K) + (r + 0.5 * sigma ** 2) * T) / (sigma * np.sqrt(T))\n",
    "    d2 = (np.log(S / K) + (r - 0.5 * sigma ** 2) * T) / (sigma * np.sqrt(T))\n",
    "    \n",
    "    prob_density = 1 / np.sqrt(2 * np.pi) * np.exp(-d1 ** 2 * 0.5)\n",
    "    \n",
    "    if option == 'call':\n",
    "        theta = (-sigma * S * prob_density) / (2 * np.sqrt(T)) - r * K * np.exp(-r * T) * si.norm.cdf(d2, 0.0, 1.0)\n",
    "    if option == 'put':    \n",
    "        theta = (-sigma * S * prob_density) / (2 * np.sqrt(T)) + r * K * np.exp(-r * T) * si.norm.cdf(-d2, 0.0, 1.0)\n",
    "    \n",
    "    return theta"
   ]
  },
  {
   "cell_type": "code",
   "execution_count": 54,
   "metadata": {},
   "outputs": [
    {
     "data": {
      "text/plain": [
       "-1.4189854326915405"
      ]
     },
     "execution_count": 54,
     "metadata": {},
     "output_type": "execute_result"
    }
   ],
   "source": [
    "theta(110, 100, 2, 0.05, 0.25, option = 'put')"
   ]
  },
  {
   "cell_type": "markdown",
   "metadata": {},
   "source": [
    "#### Gamma"
   ]
  },
  {
   "cell_type": "code",
   "execution_count": 57,
   "metadata": {},
   "outputs": [],
   "source": [
    "def gamma(S, K, T, r, sigma):\n",
    "    \n",
    "    d1 = (np.log(S / K) + (r + 0.5 * sigma ** 2) * T) / (sigma * np.sqrt(T))\n",
    "    \n",
    "    prob_density = 1 / np.sqrt(2 * np.pi) * np.exp(-d1 ** 2 * 0.5)\n",
    "    \n",
    "    gamma = prob_density / (S * sigma * np.sqrt(T))\n",
    "    \n",
    "    return gamma"
   ]
  },
  {
   "cell_type": "code",
   "execution_count": 58,
   "metadata": {},
   "outputs": [
    {
     "data": {
      "text/plain": [
       "0.013760721161229799"
      ]
     },
     "execution_count": 58,
     "metadata": {},
     "output_type": "execute_result"
    }
   ],
   "source": [
    "gamma(110, 100, 1, 0.05, 0.25)"
   ]
  },
  {
   "cell_type": "markdown",
   "metadata": {},
   "source": [
    "#### Vega"
   ]
  },
  {
   "cell_type": "code",
   "execution_count": 60,
   "metadata": {},
   "outputs": [],
   "source": [
    "def vega(S, S0, K, T, r, sigma):\n",
    "    \n",
    "    d1 = (np.log(S / K) + (r + 0.5 * sigma ** 2) * T) / (sigma * np.sqrt(T))\n",
    "    \n",
    "    prob_density = 1 / np.sqrt(2 * np.pi) * np.exp(-d1 ** 2 * 0.5)\n",
    "    \n",
    "    vega = S0 * prob_density * np.sqrt(T)\n",
    "    \n",
    "    return vega"
   ]
  },
  {
   "cell_type": "code",
   "execution_count": 61,
   "metadata": {},
   "outputs": [
    {
     "data": {
      "text/plain": [
       "39.734082353051043"
      ]
     },
     "execution_count": 61,
     "metadata": {},
     "output_type": "execute_result"
    }
   ],
   "source": [
    "vega(110, 105, 100, 1, 0.05, 0.25)"
   ]
  },
  {
   "cell_type": "markdown",
   "metadata": {},
   "source": [
    "#### Rho"
   ]
  },
  {
   "cell_type": "code",
   "execution_count": 62,
   "metadata": {},
   "outputs": [],
   "source": [
    "def rho_call(S, K, T, r, sigma):\n",
    "    \n",
    "    d2 = (np.log(S / K) + (r - 0.5 * sigma ** 2) * T) / (sigma * np.sqrt(T))\n",
    "    \n",
    "    rho = T * K * np.exp(-r * T) * si.norm.cdf(d2, 0.0, 1.0)\n",
    "    \n",
    "    return rho"
   ]
  },
  {
   "cell_type": "code",
   "execution_count": 64,
   "metadata": {},
   "outputs": [],
   "source": [
    "def rho_put(S, K, T, r, sigma):\n",
    "    \n",
    "    d2 = (np.log(S / K) + (r - 0.5 * sigma ** 2) * T) / (sigma * np.sqrt(T))\n",
    "    \n",
    "    rho = -T * K * np.exp(-r * T) * si.norm.cdf(-d2, 0.0, 1.0)\n",
    "    \n",
    "    return rho"
   ]
  },
  {
   "cell_type": "code",
   "execution_count": 65,
   "metadata": {},
   "outputs": [],
   "source": [
    "def rho(S, K, T, r, sigma, option = 'call'):\n",
    "    \n",
    "    d2 = (np.log(S / K) + (r - 0.5 * sigma ** 2) * T) / (sigma * np.sqrt(T))\n",
    "    \n",
    "    if option == 'call':\n",
    "        rho = T * K * np.exp(-r * T) * si.norm.cdf(d2, 0.0, 1.0)\n",
    "    if option == 'put':\n",
    "        rho = -T * K * np.exp(-r * T) * si.norm.cdf(-d2, 0.0, 1.0)\n",
    "        \n",
    "    return rho"
   ]
  },
  {
   "cell_type": "markdown",
   "metadata": {},
   "source": [
    "## Greeks of Dividend Paying Assets"
   ]
  },
  {
   "cell_type": "code",
   "execution_count": 5,
   "metadata": {},
   "outputs": [],
   "source": [
    "table_div = \"\"\"<table>\n",
    "<tr>\n",
    "<th>Greek</th>\n",
    "<th>Call</th>\n",
    "<th>Put</th>\n",
    "</tr>\n",
    "<tr>\n",
    "<th>Delta $\\Delta$</th>\n",
    "<th>$e^{-qT}N(d_1)$</th>\n",
    "<th>$-e^{-qT}N(-d_1)$</th>\n",
    "</tr>\n",
    "<tr>\n",
    "<th>Theta $\\Theta$</th>\n",
    "<th>$-e^{-qT} \\\\frac{SN(d_1)\\sigma}{2\\sqrt{T}} - rKe^{-rT}N(d_2) + qSe^{-qT}N(d_1)$</th>\n",
    "<th>$-e^{-qT} \\\\frac{SN(d_1)\\sigma}{2\\sqrt{T}} + rKe^{-rT}N(-d_2) - qSe^{-qT}N(-d_1)$</th>\n",
    "</tr>\n",
    "<tr>\n",
    "<th>Gamma $\\Gamma$</th>\n",
    "<th>$e^{-qT}\\\\frac{N(d_1)}{S\\sigma \\sqrt{T}}$</th>\n",
    "<th>$e^{-qT}\\\\frac{N(d_1)}{S\\sigma \\sqrt{T}}$</th>\n",
    "</tr>\n",
    "<tr>\n",
    "<th>Vega $v$</th>\n",
    "<th>$\\\\frac{1}{\\sqrt{2\\pi}} Se^{-q(T-t)} e^{-\\\\frac{d_1^2}{2}} \\sqrt{T-t}$</th>\n",
    "<th>$\\\\frac{1}{\\sqrt{2\\pi}} Se^{-q(T-t)} e^{-\\\\frac{d_1^2}{2}} \\sqrt{T-t}$</th>\n",
    "</tr>\n",
    "<tr>\n",
    "<th>Rho $\\\\rho$</th>\n",
    "<th>$KTe^{-rT}N(d_2)$</th>\n",
    "<th>$-KTe^{-rT}N(-d_2)$</th>\n",
    "</tr>\n",
    "</table>\n",
    "\"\"\""
   ]
  },
  {
   "cell_type": "code",
   "execution_count": 6,
   "metadata": {},
   "outputs": [
    {
     "data": {
      "text/html": [
       "<table>\n",
       "<tr>\n",
       "<th>Greek</th>\n",
       "<th>Call</th>\n",
       "<th>Put</th>\n",
       "</tr>\n",
       "<tr>\n",
       "<th>Delta $\\Delta$</th>\n",
       "<th>$e^{-qT}N(d_1)$</th>\n",
       "<th>$-e^{-qT}N(-d_1)$</th>\n",
       "</tr>\n",
       "<tr>\n",
       "<th>Theta $\\Theta$</th>\n",
       "<th>$-e^{-qT} \\frac{SN(d_1)\\sigma}{2\\sqrt{T}} - rKe^{-rT}N(d_2) + qSe^{-qT}N(d_1)$</th>\n",
       "<th>$-e^{-qT} \\frac{SN(d_1)\\sigma}{2\\sqrt{T}} + rKe^{-rT}N(-d_2) - qSe^{-qT}N(-d_1)$</th>\n",
       "</tr>\n",
       "<tr>\n",
       "<th>Gamma $\\Gamma$</th>\n",
       "<th>$e^{-qT}\\frac{N(d_1)}{S\\sigma \\sqrt{T}}$</th>\n",
       "<th>$e^{-qT}\\frac{N(d_1)}{S\\sigma \\sqrt{T}}$</th>\n",
       "</tr>\n",
       "<tr>\n",
       "<th>Vega $v$</th>\n",
       "<th>$\\frac{1}{\\sqrt{2\\pi}} Se^{-q(T-t)} e^{-\\frac{d_1^2}{2}} \\sqrt{T-t}$</th>\n",
       "<th>$\\frac{1}{\\sqrt{2\\pi}} Se^{-q(T-t)} e^{-\\frac{d_1^2}{2}} \\sqrt{T-t}$</th>\n",
       "</tr>\n",
       "<tr>\n",
       "<th>Rho $\\rho$</th>\n",
       "<th>$KTe^{-rT}N(d_2)$</th>\n",
       "<th>$-KTe^{-rT}N(-d_2)$</th>\n",
       "</tr>\n",
       "</table>\n"
      ],
      "text/plain": [
       "<IPython.core.display.HTML at 0x369d970>"
      ]
     },
     "execution_count": 6,
     "metadata": {},
     "output_type": "execute_result"
    }
   ],
   "source": [
    "greeks_div = HTML(table_div); greeks_div"
   ]
  },
  {
   "cell_type": "markdown",
   "metadata": {},
   "source": [
    "### Python Implementation"
   ]
  },
  {
   "cell_type": "markdown",
   "metadata": {},
   "source": [
    "#### Delta $\\Delta$"
   ]
  },
  {
   "cell_type": "code",
   "execution_count": 25,
   "metadata": {},
   "outputs": [],
   "source": [
    "def delta_call_div(S, K, T, r, q, sigma):\n",
    "    \n",
    "    d1 = (np.log(S / K) + (r - q + 0.5 * sigma ** 2) * T) / (sigma * np.sqrt(T))\n",
    "    \n",
    "    delta = np.exp(-q * T) * si.norm.cdf(d1, 0.0, 1.0)\n",
    "    \n",
    "    return delta"
   ]
  },
  {
   "cell_type": "code",
   "execution_count": 35,
   "metadata": {},
   "outputs": [],
   "source": [
    "def delta_put_div(S, K, T, r, q, sigma):\n",
    "    \n",
    "    d1 = (np.log(S / K) + (r - q + 0.5 * sigma ** 2) * T) / (sigma * np.sqrt(T))\n",
    "    \n",
    "    delta = -np.exp(-q * T) * si.norm.cdf(-d1, 0.0, 1.0)\n",
    "    \n",
    "    return delta"
   ]
  },
  {
   "cell_type": "code",
   "execution_count": 46,
   "metadata": {},
   "outputs": [],
   "source": [
    "def delta_div(S, K, T, r, q, sigma, option = 'call'):\n",
    "    \n",
    "    d1 = (np.log(S / K) + (r - q + 0.5 * sigma ** 2) * T) / (sigma * np.sqrt(T))\n",
    "    \n",
    "    if option == 'call':\n",
    "        delta = delta = np.exp(-q * T) * si.norm.cdf(d1, 0.0, 1.0)\n",
    "    if option == 'put':\n",
    "        delta = -np.exp(-q * T) * si.norm.cdf(-d1, 0.0, 1.0)\n",
    "        \n",
    "    return delta"
   ]
  },
  {
   "cell_type": "markdown",
   "metadata": {},
   "source": [
    "#### Theta $\\Theta$"
   ]
  },
  {
   "cell_type": "code",
   "execution_count": 52,
   "metadata": {},
   "outputs": [],
   "source": [
    "def theta_call_div(S, K, T, r, q, sigma):\n",
    "    \n",
    "    d1 = (np.log(S / K) + (r - q + 0.5 * sigma ** 2) * T) / (sigma * np.sqrt(T))\n",
    "    d2 = (np.log(S / K) + (r - q - 0.5 * sigma ** 2) * T) / (sigma * np.sqrt(T))\n",
    "    \n",
    "    theta = -np.exp(-q * T) * (S * si.norm.cdf(d1, 0.0, 1.0) * sigma) / (2 * np.sqrt(T)) - r * K * np.exp(-r * T) * si.norm.cdf(d2, 0.0, 1.0) + q * S * np.exp(-q * T) * si.norm.cdf(d1, 0.0, 1.0)\n",
    "    \n",
    "    return theta"
   ]
  },
  {
   "cell_type": "code",
   "execution_count": 56,
   "metadata": {},
   "outputs": [],
   "source": [
    "def theta_put_div(S, K, T, r, q, sigma):\n",
    "\n",
    "    d1 = (np.log(S / K) + (r - q + 0.5 * sigma ** 2) * T) / (sigma * np.sqrt(T))\n",
    "    d2 = (np.log(S / K) + (r - q - 0.5 * sigma ** 2) * T) / (sigma * np.sqrt(T))\n",
    "    \n",
    "    theta = -np.exp(-q * T) * (S * si.norm.cdf(d1, 0.0, 1.0) * sigma) / (2 * np.sqrt(T)) + r * K * np.exp(-r * T) * si.norm.cdf(-d2, 0.0, 1.0) - q * S * np.exp(-q * T) * si.norm.cdf(-d1, 0.0, 1.0)\n",
    "    \n",
    "    return theta"
   ]
  },
  {
   "cell_type": "code",
   "execution_count": 57,
   "metadata": {},
   "outputs": [],
   "source": [
    "def theta_div(S, K, T, r, q, sigma, option = 'call'):\n",
    "    \n",
    "    d1 = (np.log(S / K) + (r - q + 0.5 * sigma ** 2) * T) / (sigma * np.sqrt(T))\n",
    "    d2 = (np.log(S / K) + (r - q - 0.5 * sigma ** 2) * T) / (sigma * np.sqrt(T))\n",
    "    \n",
    "    if option == 'call':\n",
    "        theta = -np.exp(-q * T) * (S * si.norm.cdf(d1, 0.0, 1.0) * sigma) / (2 * np.sqrt(T)) - r * K * np.exp(-r * T) * si.norm.cdf(d2, 0.0, 1.0) + q * S * np.exp(-q * T) * si.norm.cdf(d1, 0.0, 1.0)\n",
    "    if option == 'put':\n",
    "        theta = -np.exp(-q * T) * (S * si.norm.cdf(d1, 0.0, 1.0) * sigma) / (2 * np.sqrt(T)) + r * K * np.exp(-r * T) * si.norm.cdf(-d2, 0.0, 1.0) - q * S * np.exp(-q * T) * si.norm.cdf(-d1, 0.0, 1.0)\n",
    "        \n",
    "    return theta"
   ]
  },
  {
   "cell_type": "markdown",
   "metadata": {},
   "source": [
    "#### Gamma $\\Gamma$"
   ]
  },
  {
   "cell_type": "code",
   "execution_count": 59,
   "metadata": {},
   "outputs": [],
   "source": [
    "def gamma_div(S, K, T, r, q, sigma):\n",
    "    \n",
    "    d1 = (np.log(S / K) + (r - q + 0.5 * sigma ** 2) * T) / (sigma * np.sqrt(T))\n",
    "    \n",
    "    gamma = np.exp(-q * T) * si.norm.cdf(d1, 0.0, 1.0) / S * sigma * np.sqrt(T)\n",
    "    \n",
    "    return gamma"
   ]
  },
  {
   "cell_type": "markdown",
   "metadata": {},
   "source": [
    "#### Vega $v$"
   ]
  },
  {
   "cell_type": "code",
   "execution_count": 11,
   "metadata": {},
   "outputs": [],
   "source": [
    "def vega_div(S, K, T, r, q, sigma):\n",
    "\n",
    "    d1 = (np.log(S / K) + (r - q + 0.5 * sigma ** 2) * T) / (sigma * np.sqrt(T))\n",
    "    \n",
    "    vega = 1 / np.sqrt(2 * np.pi) * S * np.exp(-q * T) * np.exp(-d1 ** 2 * 0.5) * np.sqrt(T)\n",
    "    \n",
    "    return vega"
   ]
  },
  {
   "cell_type": "markdown",
   "metadata": {},
   "source": [
    "#### Rho $\\rho$"
   ]
  },
  {
   "cell_type": "code",
   "execution_count": 16,
   "metadata": {},
   "outputs": [],
   "source": [
    "def rho_call_div(S, K, T, r, q, sigma):\n",
    "    \n",
    "    d2 = (np.log(S / K) + (r - q - 0.5 * sigma ** 2) * T) / (sigma * np.sqrt(T))\n",
    "    \n",
    "    rho = K * T * np.exp(-r * T) * si.norm.cdf(d2, 0.0, 1.0)\n",
    "    \n",
    "    return rho"
   ]
  },
  {
   "cell_type": "code",
   "execution_count": 17,
   "metadata": {},
   "outputs": [],
   "source": [
    "def rho_put_div(S, K, T, r, q, sigma):\n",
    "    \n",
    "    d2 = (np.log(S / K) + (r - q - 0.5 * sigma ** 2) * T) / (sigma * np.sqrt(T))\n",
    "    \n",
    "    rho = -K * T * np.exp(-r * T) * si.norm.cdf(-d2, 0.0, 1.0)\n",
    "    \n",
    "    return rho"
   ]
  },
  {
   "cell_type": "code",
   "execution_count": 18,
   "metadata": {},
   "outputs": [],
   "source": [
    "def rho_div(S, K, T, r, q, sigma, option = 'call'):\n",
    "    \n",
    "    d2 = (np.log(S / K) + (r - q - 0.5 * sigma ** 2) * T) / (sigma * np.sqrt(T))\n",
    "    \n",
    "    if option == 'call':\n",
    "        rho = K * T * np.exp(-r * T) * si.norm.cdf(d2, 0.0, 1.0)\n",
    "    if option == 'put':\n",
    "        rho = -K * T * np.exp(-r * T) * si.norm.cdf(-d2, 0.0, 1.0)\n",
    "        \n",
    "    return rho"
   ]
  }
 ],
 "metadata": {
  "kernelspec": {
   "display_name": "Python 3",
   "language": "python",
   "name": "python3"
  },
  "language_info": {
   "codemirror_mode": {
    "name": "ipython",
    "version": 3
   },
   "file_extension": ".py",
   "mimetype": "text/x-python",
   "name": "python",
   "nbconvert_exporter": "python",
   "pygments_lexer": "ipython3",
   "version": "3.6.1"
  }
 },
 "nbformat": 4,
 "nbformat_minor": 1
}
