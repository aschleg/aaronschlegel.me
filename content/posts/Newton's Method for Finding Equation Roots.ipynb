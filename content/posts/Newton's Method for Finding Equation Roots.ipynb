{
 "cells": [
  {
   "cell_type": "markdown",
   "metadata": {},
   "source": [
    "Newton's method, also known as Newton-Raphson, is an approach for finding the roots of nonlinear equations and is one of the most common root-finding algorithms due to its relative simplicity and speed. The [root of a function](http://mathworld.wolfram.com/Root.html) is the point at which $f(x) = 0$. Many equations have more than one root. Every real polynomial of odd degree has an odd number of real roots (\"Zero of a function,\" 2016). Newton-Raphson is an iterative method that begins with an initial guess of the root. The method uses the derivative of the function $f'(x)$ as well as the original function $f(x)$, and thus only works when the derivative can be determined."
   ]
  },
  {
   "cell_type": "markdown",
   "metadata": {},
   "source": [
    "## Newton-Raphson Iteration"
   ]
  },
  {
   "cell_type": "markdown",
   "metadata": {},
   "source": [
    "The initial guess of the root is typically denoted $x_0$ with the true root represented by $r$. The true root can thus be expressed as $r = x_0 + h$, and therefore $h = r - x_0$, where $h$ measures how far the guess is from the true value of the root. As $h$ will be small, a linear tangent line is used to approximate the location of the root and can be written as:"
   ]
  },
  {
   "cell_type": "markdown",
   "metadata": {},
   "source": [
    "$$ 0 = f(r) = f(x_0 + h) \\approx f(x_0) + hf'(x_0) $$\n",
    "\n",
    "where $h$ is approximately:\n",
    "\n",
    "$$ h \\approx -\\frac{f(x_0)}{f'(x_0)} $$\n",
    "\n",
    "Unless the derivative $f'(x_o)$ is close to 0. Combining this approximation with the value of the true root yields:\n",
    "\n",
    "$$ r = x_0 + h \\approx x_0 -\\frac{f(x_0)}{f'(x_0)} $$\n",
    "\n",
    "Therefore the new estimate of $r$, $x_1$, becomes:\n",
    "\n",
    "$$ x_1 = x_0 - \\frac{f(x_0)}{f'(x_0)} $$\n",
    "\n",
    "Then the new estimate $x_2$ is obtained from $x_1$ in the same manner:\n",
    "\n",
    "$$ x_2 = x_1 - \\frac{f(x_1)}{f'(x_1)} $$\n",
    "\n",
    "The iteration of Newton-Raphson can thus be generalized:\n",
    "\n",
    "$$ x_{n + 1} = x_n - \\frac{f(x_n)}{f'(x_n)} $$"
   ]
  },
  {
   "cell_type": "markdown",
   "metadata": {},
   "source": [
    "## Newton-Raphson Convergence"
   ]
  },
  {
   "cell_type": "markdown",
   "metadata": {},
   "source": [
    "Newton-Raphson is not a foolproof method in that it can fail to converge to a solution. There are no 'perfect' numerical methods that will always converge on a solution. Particularly, the assumption $f''(x)$ exists and is continuous near $r$ must be made.\n",
    "\n",
    "The method can also fail to converge when $f'(x)$ is close to 0. For example, 5.02 is close to 5 as it is only `r (5.02 - 5) / 5 * 100`% different; however, $5.02/10^{-7}$, is quite different than $5/10^{-7}$."
   ]
  },
  {
   "cell_type": "markdown",
   "metadata": {},
   "source": [
    "## Examples of Newton-Raphson"
   ]
  },
  {
   "cell_type": "markdown",
   "metadata": {},
   "source": [
    "An example will help illuminate further on the definitions and equations above. The NR method can be used to approximate square roots such as $\\sqrt{10}$. The square root of 10 is about three, so we can use that as a good starting value.\n",
    "\n",
    "It often helps to plot the function to see where the roots occur. The function is first rearranged to be an expression of $f(x)$ before plotting.\n",
    "\n",
    "$$ x = \\sqrt{10} $$\n",
    "\n",
    "$$ x - \\sqrt{10} = 0 $$\n",
    "\n",
    "$$ f(x) = x^2 - 10 $$"
   ]
  },
  {
   "cell_type": "code",
   "execution_count": 1,
   "metadata": {
    "collapsed": true
   },
   "outputs": [],
   "source": [
    "from sympy import symbols, limit, diff, sin, cos, log, tan, sqrt, init_printing, plot, oo\n",
    "from mpmath import ln, e, pi\n",
    "\n",
    "init_printing()\n",
    "x = symbols('x')\n",
    "y = symbols('y')"
   ]
  },
  {
   "cell_type": "code",
   "execution_count": 2,
   "metadata": {},
   "outputs": [
    {
     "data": {
      "image/png": "[encoded data removed]",
      "text/plain": [
       "<matplotlib.figure.Figure at 0x1e2a4b2b908>"
      ]
     },
     "metadata": {},
     "output_type": "display_data"
    },
    {
     "data": {
      "text/plain": [
       "<sympy.plotting.plot.Plot at 0x1e2a323cf98>"
      ]
     },
     "execution_count": 2,
     "metadata": {},
     "output_type": "execute_result"
    }
   ],
   "source": [
    "plot(x ** 2 - 10)"
   ]
  },
  {
   "cell_type": "markdown",
   "metadata": {},
   "source": [
    "It can be seen from the graph the function crosses the x-axis at $\\sqrt{10}$ on an interval [3, 4]. The derivative of the function is $2x$.\n",
    "\n",
    "Solving for the function root using the Newton-Raphson method proceeds as follows using three as an initial guess.\n",
    "\n",
    "$$ x_{n+1} = x_n - \\frac{f(x_n)}{f'(x_n)} = x_n - \\frac{x_n^2 - 10}{2x_n} $$\n",
    "\n",
    "$$ x_{1} = 3 - \\frac{(3)^2 - 10}{2(3)} = 3.166667 $$\n",
    "\n",
    "$$ x_{2} = 3.166667 - \\frac{(3.166667)^2 - 10}{2(3.166667)} = 3.162281 $$\n",
    "\n",
    "$$ x_{3} = 3.162281 - \\frac{(3.162281)^2 - 10}{2(3.162281)} = 3.162278 $$"
   ]
  },
  {
   "cell_type": "markdown",
   "metadata": {},
   "source": [
    "And so on until the ${x_n}$ estimates are within a particular level of tolerance. This example converges in three iterations. Thus $3.162278$ is the estimated root of the function. This result can be verified by taking the square root of 10."
   ]
  },
  {
   "cell_type": "code",
   "execution_count": 30,
   "metadata": {},
   "outputs": [
    {
     "data": {
      "image/png": "[encoded data removed]",
      "text/latex": [
       "$$3.1622776601683795$$"
      ],
      "text/plain": [
       "3.1622776601683795"
      ]
     },
     "execution_count": 30,
     "metadata": {},
     "output_type": "execute_result"
    }
   ],
   "source": [
    "10 ** (1/2) # math.sqrt(10)"
   ]
  },
  {
   "cell_type": "markdown",
   "metadata": {},
   "source": [
    "## Newton-Raphson Method in Python"
   ]
  },
  {
   "cell_type": "markdown",
   "metadata": {},
   "source": [
    "As an example, suppose the equation we are interested in locating the roots is: \n",
    "\n",
    "$$ f(x) = x^3 - 2x - 5 $$"
   ]
  },
  {
   "cell_type": "code",
   "execution_count": 17,
   "metadata": {
    "collapsed": true
   },
   "outputs": [],
   "source": [
    "def f(x):\n",
    "    return x ** 3 - 2 * x - 5"
   ]
  },
  {
   "cell_type": "markdown",
   "metadata": {},
   "source": [
    "Plot the function to visualize how the equation behaves and where any roots may be located."
   ]
  },
  {
   "cell_type": "code",
   "execution_count": 26,
   "metadata": {},
   "outputs": [
    {
     "data": {
      "image/png": "[encoded data removed]",
      "text/plain": [
       "<matplotlib.figure.Figure at 0x1e2b0751ac8>"
      ]
     },
     "metadata": {},
     "output_type": "display_data"
    },
    {
     "data": {
      "text/plain": [
       "<sympy.plotting.plot.Plot at 0x1e2b0924a20>"
      ]
     },
     "execution_count": 26,
     "metadata": {},
     "output_type": "execute_result"
    }
   ],
   "source": [
    "plot(x ** 3 - 2 * x - 5, xlim=(-5,5), ylim=(-10,5))"
   ]
  },
  {
   "cell_type": "code",
   "execution_count": 29,
   "metadata": {
    "collapsed": true
   },
   "outputs": [],
   "source": [
    "from mathpy.numerical.roots import newtonraph\n",
    "from scipy.optimize import newton"
   ]
  },
  {
   "cell_type": "markdown",
   "metadata": {},
   "source": [
    "It looks like the function equals 0 when $y$ is about 2. To find the root of the equation, use the `uniroot` function with a starting value of 2 and upper bound of 3. "
   ]
  },
  {
   "cell_type": "code",
   "execution_count": 27,
   "metadata": {},
   "outputs": [
    {
     "data": {
      "image/png": "[encoded data removed]",
      "text/latex": [
       "$$2.09455148154233$$"
      ],
      "text/plain": [
       "2.09455148154233"
      ]
     },
     "execution_count": 27,
     "metadata": {},
     "output_type": "execute_result"
    }
   ],
   "source": [
    "newtonraph(f, 2)[0]"
   ]
  },
  {
   "cell_type": "code",
   "execution_count": 28,
   "metadata": {},
   "outputs": [
    {
     "data": {
      "image/png": "[encoded data removed]",
      "text/latex": [
       "$$2.0945514815423265$$"
      ],
      "text/plain": [
       "2.0945514815423265"
      ]
     },
     "execution_count": 28,
     "metadata": {},
     "output_type": "execute_result"
    }
   ],
   "source": [
    "newton(f,2)"
   ]
  },
  {
   "cell_type": "markdown",
   "metadata": {},
   "source": [
    "As suspected, the root of the function is very close to 2 at $2.09455$. The iterations can be written as follows:"
   ]
  },
  {
   "cell_type": "markdown",
   "metadata": {},
   "source": [
    "$$ x_{n+1} = x_n - \\frac{f(x_n)}{f'(x_n)} = x_n - \\frac{x_n^3 - 2x - 5}{3x_n^2 - 2} $$\n",
    "\n",
    "$$ x_{1} = 2 - \\frac{(2)^3 - 2(2) - 5}{3(2)^2 - 2} = 1.281239 $$\n",
    "\n",
    "$$ x_{2} = 1.281239 - \\frac{(1.281239)^3 - 2(1.281239) - 5}{3(1.281239)^2 - 2} = 3.147821 $$\n",
    "\n",
    "$$ x_{3} = 3.147821 - \\frac{(3.147821)^3 - 2(3.147821) - 5}{3(3.147821)^2 - 2} = 2.430257 $$\n",
    "\n",
    "$$ x_{4} = 2.430257 - \\frac{(2.430257)^3 - 2(2.430257) - 5}{3(2.430257)^2 - 2} = 2.144418 $$\n",
    "\n",
    "$$ x_{5} = 2.144418 - \\frac{(2.144418)^3 - 2(2.144418) - 5}{3(2.144418)^2 - 2} = 2.095897 $$\n",
    "\n",
    "$$ x_{6} = 2.095897 - \\frac{(2.095897)^3 - 2(2.095897) - 5}{3(2.095897)^2 - 2} = 2.094552 $$"
   ]
  },
  {
   "cell_type": "markdown",
   "metadata": {},
   "source": [
    "## References"
   ]
  },
  {
   "cell_type": "markdown",
   "metadata": {},
   "source": [
    "Agresti, A. (2002). Categorical data analysis (2nd ed.). New York, NY: Wiley-Interscience.\n",
    "\n",
    "Kiusalaas, J. (2013). Numerical methods in engineering with python (2nd ed.). New York: Cambridge University Press.\n",
    "\n",
    "The Newton-Raphson method. Retrieved from https://www.math.ubc.ca/~anstee/math104/104newtonmethod.pdf\n",
    "\n",
    "Stewart, J. (2007). Essential calculus: Early transcendentals. Belmont, CA: Thomson Higher Education.\n",
    "\n",
    "Zero of a function (2016). In Wikipedia. Retrieved from https://en.wikipedia.org/wiki/Zero_of_a_function#Polynomial_roots"
   ]
  }
 ],
 "metadata": {
  "kernelspec": {
   "display_name": "Python 3",
   "language": "python",
   "name": "python3"
  },
  "language_info": {
   "codemirror_mode": {
    "name": "ipython",
    "version": 3
   },
   "file_extension": ".py",
   "mimetype": "text/x-python",
   "name": "python",
   "nbconvert_exporter": "python",
   "pygments_lexer": "ipython3",
   "version": "3.6.4"
  }
 },
 "nbformat": 4,
 "nbformat_minor": 2
}
