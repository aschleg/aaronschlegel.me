{
 "cells": [
  {
   "cell_type": "markdown",
   "metadata": {},
   "source": [
    "In a [previous post, the Black-Scholes option pricing formula](https://aaronschlegel.me/black-scholes-formula-python.html) for a non-dividend and dividend paying European stock option was introduced. In actuality, there exist several derivations, several of which were proposed by the original inventors of the original Black-Scholes model, that are used for pricing European options with different underlying assets, such as currency, futures, stock indexes and more.\n",
    "\n",
    "Due to the number of different derivations and options on possible underlying assets, a generalized Black-Scholes model was created to simplify computations by greatly reducing the number of equations and cases to program. In this post, we will explore several of the available Black-Scholes option pricing models for different underlying assets and then introduce the generalized Black-Scholes pricing formula for European options.\n",
    "\n",
    "First, import the libraries and functions that we will use later in the post."
   ]
  },
  {
   "cell_type": "code",
   "execution_count": null,
   "metadata": {},
   "outputs": [],
   "source": [
    "import numpy as np\n",
    "from scipy import stats\n",
    "import sympy.stats as systats\n",
    "from sympy.stats import Normal, cdf\n",
    "from sympy import init_printing\n",
    "init_printing()"
   ]
  },
  {
   "cell_type": "markdown",
   "metadata": {},
   "source": [
    "### Futures Options\n",
    "\n",
    "The Black-Scholes option pricing formula for European forward or futures options with an initial price $F$ was proposed by Black himself in 1976, hence the name of the equation is generally known as the 'Black-76' formula and is defined as:\n",
    "\n",
    "$$ C = e^{-rT} \\big[ FN(d_1) - KN(d_2) \\big] $$\n",
    "$$ P = e^{-rT} \\big[KN(-d_2) - FN(-d_1)\\big] $$\n",
    "\n",
    "Where, as before:\n",
    "\n",
    "* $T$, the maturity of the option. Time to maturity is defined as $T - t$\n",
    "* $K$, strike price of the option\n",
    "* $r$, the risk-free interest rate, assumed to be constant between $t$ and $T$\n",
    "* $\\sigma$, volatility of underlying asset, the standard deviation of the asset returns\n",
    "* $N(d)$ is the [normal cumulative distribution function](https://en.wikipedia.org/wiki/Normal_distribution#Cumulative_distribution_function), and $d_1$ and $d_2$ are defined as:\n",
    "\n",
    "$$d_1 = \\frac{\\ln \\left(\\frac{F}{K} \\right) + T \\left(\\frac{\\sigma^2}{2} \\right)}{\\sigma \\sqrt{T}}$$\n",
    "\n",
    "$$d_2 = \\frac{\\ln \\left(\\frac{F}{K} \\right) - T \\left(\\frac{\\sigma^2}{2}\\right)}{\\sigma \\sqrt{T}} = d_1 - \\sigma \\sqrt{T} $$\n",
    "\n",
    "A possible implementation in Python of the Black-Scholes-76 model for pricing European futures options for approximate and exact results is as follows:"
   ]
  },
  {
   "cell_type": "code",
   "execution_count": 99,
   "metadata": {},
   "outputs": [],
   "source": [
    "def black_scholes76(f, k, r, sigma, t, option='call', exact=False):\n",
    "    if option not in ('call', 'put'):\n",
    "        raise ValueError('option parameter must be one of \"call\" (default) or \"put\".')\n",
    "        \n",
    "    if exact:\n",
    "        d1 = (sympy.ln(f / k) + t * (sigma ** 2 / 2)) / (sigma * sympy.sqrt(t))\n",
    "        d2 = d1 - sigma * sympy.sqrt(t)        \n",
    "    \n",
    "        n = systats.Normal(\"x\", 0.0, 1.0)\n",
    "    \n",
    "        if option == 'call':\n",
    "            price = sympy.exp(-r * t) * (f * cdf(n)(d1) - k * cdf(n)(d2))\n",
    "        elif option == 'put':\n",
    "            price = sympy.exp(-r * t) * (k * cdf(n)(-d2) - f * cdf(n)(-d1))\n",
    "        \n",
    "    else:\n",
    "        d1 = (np.log(f / k) + (sigma ** 2 / 2) * t) / (sigma * np.sqrt(t))\n",
    "        d2 = d1 - sigma * np.sqrt(t)\n",
    "        \n",
    "        if option == 'call':\n",
    "            price = np.exp(-r * t) * (f * stats.norm.cdf(d1) - k * stats.norm.cdf(d2))\n",
    "        elif option == 'put':\n",
    "            price = np.exp(-r * t) * (k * stats.norm.cdf(-d2) - f * stats.norm.cdf(-d1))\n",
    "        \n",
    "    return price"
   ]
  },
  {
   "cell_type": "markdown",
   "metadata": {},
   "source": [
    "As an example, consider a futures contract with nine months to expiration. The price of the futures contract and strike price is `$20`, with a risk-free interest rate of 15% and a volatility of 40% per year. To find the price of the futures contract, we enter these variables into the above function."
   ]
  },
  {
   "cell_type": "code",
   "execution_count": 164,
   "metadata": {},
   "outputs": [],
   "source": [
    "f = 20\n",
    "k = 20\n",
    "r = .15\n",
    "t = 9 / 12\n",
    "sigma = 0.40"
   ]
  },
  {
   "cell_type": "code",
   "execution_count": 165,
   "metadata": {},
   "outputs": [
    {
     "name": "stdout",
     "output_type": "stream",
     "text": [
      "Call Option Price\n",
      "2.4575673110408576\n",
      "Put Option Price\n",
      "2.4575673110408576\n"
     ]
    }
   ],
   "source": [
    "print('Call Option Price')\n",
    "print(black_scholes76(f, k, r, sigma, t, option='call', exact=False))\n",
    "\n",
    "print('Put Option Price')\n",
    "print(black_scholes76(f, k, r, sigma, t, option='put', exact=False))"
   ]
  },
  {
   "cell_type": "markdown",
   "metadata": {},
   "source": [
    "Thus, we see that the call and put price for the futures contract is the same. We can also get the exact solution by setting the `exact` parameter to `True`."
   ]
  },
  {
   "cell_type": "code",
   "execution_count": 147,
   "metadata": {},
   "outputs": [
    {
     "data": {
      "image/png": "[encoded data removed]",
      "text/latex": [
       "$\\displaystyle 9.27743486328553 \\operatorname{erf}{\\left(0.0606217782649107 \\sqrt{2} \\right)} + 9.27743486328553 \\operatorname{erf}{\\left(0.0606217782649107 \\sqrt{2} \\right)}$"
      ],
      "text/plain": [
       "9.27743486328553⋅erf(0.0606217782649107⋅√2) + 9.27743486328553⋅erf(0.060621778\n",
       "2649107⋅√2)"
      ]
     },
     "execution_count": 147,
     "metadata": {},
     "output_type": "execute_result"
    }
   ],
   "source": [
    "black_scholes76(f, k, r, sigma, t, exact=True)"
   ]
  },
  {
   "cell_type": "markdown",
   "metadata": {},
   "source": [
    "### Stock Index Options\n",
    "\n",
    "Robert Merton, who was working with Fischer Black and Myron Scholes on their now famous equation until a difference in opinion led to them to part ways, extended the Black-Scholes model to price European call and put options on a stock or stock index paying a known continuous dividend yield. \n",
    "\n",
    "$$ C = Se^{-qT} N(d_1) - Ke^{-rT} N(d_2) $$\n",
    "$$ P = Ke^{-rT} N(-d_2) - Se^{-qT} N(d_1) $$\n",
    "\n",
    "Where $q$ is the known dividend yield and:\n",
    "\n",
    "$$ d_1 = \\frac{\\ln \\left( \\frac{S}{K} \\right) + T \\left(r - q + \\frac{\\sigma^2}{2} \\right)}{\\sigma \\sqrt{T}} $$\n",
    "$$ d_2 = \\frac{\\ln \\left( \\frac{S}{K} \\right) + T \\left(r - q - \\frac{\\sigma^2}{2} \\right)}{\\sigma \\sqrt{T}} = d_1 - \\sigma \\sqrt{T} $$\n",
    "\n",
    "One possible implementation (a rough and unoptimized one()of Merton's extension to the Black-Scholes formula for both approximate and exact results"
   ]
  },
  {
   "cell_type": "code",
   "execution_count": 122,
   "metadata": {},
   "outputs": [],
   "source": [
    "def black_scholes_merton(s, k, r, q, sigma, t, option='call', exact=False):\n",
    "    if option not in ('call', 'put'):\n",
    "        raise ValueError('option parameter must be one of \"call\" (default) or \"put\".')\n",
    "        \n",
    "    if exact:\n",
    "        d1 = (sympy.ln(s / k) + t * (r - q + sigma ** 2 / 2)) / (sigma * sympy.sqrt(t))\n",
    "        d2 = d1 - sigma * sympy.sqrt(t)\n",
    "        \n",
    "        n = systats.Normal(\"x\", 0.0, 1.0)\n",
    "        \n",
    "        if option == 'call':\n",
    "            price = s * sympy.exp(-q * t) * cdf(n)(d1) - k * sympy.exp(-r * t) * cdf(n)(d2)\n",
    "        elif option == 'put':\n",
    "            price = k * sympy.exp(-r * t) * cdf(n)(-d2) - s * sympy.exp(-q * t) * cdf(n)(-d1)\n",
    "          \n",
    "    else:\n",
    "        d1 = (np.log(s / k) + t * (r - q + sigma ** 2 / 2)) / (sigma * np.sqrt(t))\n",
    "        d2 = d1 - sigma * np.sqrt(t)\n",
    "        \n",
    "        if option == 'call':\n",
    "            price = s * np.exp(-q * t) * stats.norm.cdf(d1) - k * np.exp(-r * t) * stats.norm.cdf(d2)\n",
    "        elif option == 'put':\n",
    "            price = k * np.exp(-r * t) * stats.norm.cdf(-d2) - s * np.exp(-q * t) * stats.norm.cdf(-d1)\n",
    "            \n",
    "    return price"
   ]
  },
  {
   "cell_type": "markdown",
   "metadata": {},
   "source": [
    "To see if our newly created function works as intended, consider a European option with six months to expiration. The index of the stock is `$110` with a strike price of $100`, a risk-free interest rate of 10% and an 8% dividend yield and 25% volatility."
   ]
  },
  {
   "cell_type": "code",
   "execution_count": 150,
   "metadata": {},
   "outputs": [],
   "source": [
    "s = 110\n",
    "k = 100\n",
    "r = 0.10\n",
    "q = 0.08\n",
    "t = 6 / 12\n",
    "sigma = 0.25"
   ]
  },
  {
   "cell_type": "code",
   "execution_count": 151,
   "metadata": {},
   "outputs": [
    {
     "name": "stdout",
     "output_type": "stream",
     "text": [
      "Call Option Price\n",
      "9.628983522021265\n",
      "Put Option Price\n",
      "2.4647876467558305\n"
     ]
    }
   ],
   "source": [
    "print('Call Option Price')\n",
    "print(black_scholes_merton(s, k, r, q, sigma, t, option='call', exact=False))\n",
    "\n",
    "print('Put Option Price')\n",
    "print(black_scholes_merton(s, k, r, q, sigma, t, option='put', exact=False))"
   ]
  },
  {
   "cell_type": "code",
   "execution_count": 152,
   "metadata": {},
   "outputs": [
    {
     "data": {
      "image/png": "[encoded data removed]",
      "text/latex": [
       "$\\displaystyle - 45.1833976637839 \\operatorname{erf}{\\left(0.234382190043165 \\sqrt{2} \\right)} - 3.58209793763272 + 48.7654956014166 \\operatorname{erf}{\\left(0.30509286816182 \\sqrt{2} \\right)}$"
      ],
      "text/plain": [
       "-45.1833976637839⋅erf(0.234382190043165⋅√2) - 3.58209793763272 + 48.7654956014\n",
       "166⋅erf(0.30509286816182⋅√2)"
      ]
     },
     "execution_count": 152,
     "metadata": {},
     "output_type": "execute_result"
    }
   ],
   "source": [
    "black_scholes_merton(s, k, r, q, sigma, t, option='put', exact=True)"
   ]
  },
  {
   "cell_type": "markdown",
   "metadata": {},
   "source": [
    "### Currency Options\n",
    "\n",
    "The Black-Scholes model can also be extended to price European currency call and put options. The model is quite similar to Merton's version described above, except the dividend yield $q$ is instead a risk-free rate of the foreign currency, noted as $r_f$. \n",
    "\n",
    "$$ C = Se^{-r_f T} N(d_1) - Ke^{-rT} N(d_2) $$\n",
    "$$ P = Ke^{-rT} N(-d_2) - Se^{-r_f T} N(-d_1) $$\n",
    "\n",
    "Where, \n",
    "\n",
    "$$ d_1 = \\frac{\\frac{S}{K} + T \\left(r - r_f + \\frac{\\sigma^2}{2} \\right)}{\\sigma \\sqrt{T}} $$\n",
    "$$ d_2 = \\frac{\\frac{S}{K} + T \\left(r - r_f - \\frac{\\sigma^2}{2} \\right)}{\\sigma \\sqrt{T}} = d_1 - \\sigma \\sqrt{T} $$"
   ]
  },
  {
   "cell_type": "code",
   "execution_count": 125,
   "metadata": {},
   "outputs": [],
   "source": [
    "def black_scholes_currency(s, k, r, rf, sigma, t, option='call', exact=False):\n",
    "    if option not in ('call', 'put'):\n",
    "        raise ValueError('option parameter must be one of \"call\" (default) or \"put\".')\n",
    "        \n",
    "    if exact:\n",
    "        d1 = (sympy.ln(s / k) + t * (r - rf + sigma ** 2 / 2)) / (sigma * sympy.sqrt(t))\n",
    "        d2 = d1 - sigma * sympy.sqrt(t)\n",
    "        \n",
    "        n = systats.Normal(\"x\", 0.0, 1.0)\n",
    "        \n",
    "        if option == 'call':\n",
    "            price = s * sympy.exp(-rf * t) * cdf(n)(d1) - k * sympy.exp(-r * t) * cdf(n)(d2)\n",
    "        elif option == 'put':\n",
    "            price = k * sympy.exp(-r * t) * cdf(n)(-d2) - s * sympy.exp(-rf * t) * cdf(n)(-d1)\n",
    "            \n",
    "    else:\n",
    "        d1 = (np.log(s / k) + t * (r - rf + sigma ** 2 / 2)) / (sigma * np.sqrt(t))\n",
    "        d2 = d1 - sigma * np.sqrt(t)\n",
    "        \n",
    "        if option == 'call':\n",
    "            price = s * np.exp(-rf * t) * stats.norm.cdf(d1) - k * np.exp(-r * t) * stats.norm.cdf(d2)\n",
    "        elif option == 'put':\n",
    "            price = k * np.exp(-r * t) * stats.norm.cdf(-d2) - s * np.exp(-rf * t) * stats.norm.cdf(-d1)\n",
    "            \n",
    "    return price"
   ]
  },
  {
   "cell_type": "markdown",
   "metadata": {},
   "source": [
    "As another example, let's say we have a currency option that is set to expire in six months. The exchange rate of the currency is `$2` and the strike is $2.5`, with a 5% domestic risk-free interest rate and an 8% risk-free interest return in the foreign currency and a 20% volatility."
   ]
  },
  {
   "cell_type": "code",
   "execution_count": 126,
   "metadata": {},
   "outputs": [],
   "source": [
    "s = 2\n",
    "k = 2.5\n",
    "t = 6 / 12\n",
    "r = 0.05\n",
    "rf = 0.08\n",
    "sigma = 0.20"
   ]
  },
  {
   "cell_type": "code",
   "execution_count": 153,
   "metadata": {},
   "outputs": [
    {
     "name": "stdout",
     "output_type": "stream",
     "text": [
      "Call Option Price\n",
      "8.59622278877611\n",
      "Put Option Price\n",
      "2.8840742011116305\n"
     ]
    }
   ],
   "source": [
    "print('Call Option Price')\n",
    "print(black_scholes_currency(s, k, r, rf, sigma, t, option='call', exact=False))\n",
    "\n",
    "print('Put Option Price')\n",
    "print(black_scholes_currency(s, k, r, rf, sigma, t, option='put', exact=False))"
   ]
  },
  {
   "cell_type": "markdown",
   "metadata": {},
   "source": [
    "### Generalized Black-Scholes Model\n",
    "\n",
    "As we've seen, there are quite a few derivations and extensions of the original Black-Scholes formula for European options with various underlying securities, and this was only a small sample! Wouldn't it be great if we could find a generalized form of the Black-Scholes model that is applicable to multiple European options rather than having to memorize and program a bunch of different model forms? Luckily for us, there does exist a generalized form! The generalized Black-Scholes model can be used to price European call and put options on stocks, stocks paying a dividend, futures, margined futures, and currency. This generalization is accomplished by adding a new variable $b$, which is defined as the cost-of-carry rate. The cost-of-carry rate calculation is dependent on the type of option one wishes to price.\n",
    "\n",
    "* $b = r$\n",
    "  - Black-Scholes model for European stock options\n",
    "* $b = r - q$\n",
    "  - Merton's extension to the model for pricing European stock options with a continuous dividend yield and stock indexes\n",
    "* $b = 0$\n",
    "  - Black Fischer's extension for pricing European futures options\n",
    "* $b = r - r_j$ \n",
    "  - Model for pricing European currency options\n",
    "  \n",
    "The generalized Black-Scholes model for a European call and put option is defined as:\n",
    "\n",
    "$$ C = Se^{T(b-r)} N(d_1) - Ke^{-rT} N(d_2) $$\n",
    "$$ P = Ke^{-rT} N(-d_2) - Se^{T(b-r)} N(-d_1) $$\n",
    "\n",
    "where,\n",
    "\n",
    "$$ d1 = \\frac{ \\ln \\left( \\frac{S}{K} \\right) + T \\left(b + \\frac{\\sigma^2}{2} \\right)}{\\sigma \\sqrt{T}} $$\n",
    "$$ d2 = d1 - \\sigma \\sqrt{T} $$\n",
    "\n",
    "Below is one possible implementation of the generalized Black-Scholes formula for approximate and exact results."
   ]
  },
  {
   "cell_type": "code",
   "execution_count": 136,
   "metadata": {},
   "outputs": [],
   "source": [
    "def generalized_black_scholes(s, k, r, b, sigma, t, option='call', exact=False):\n",
    "    if option not in ('call', 'put'):\n",
    "        raise ValueError('option parameter must be one of \"call\" (default) or \"put\".')\n",
    "        \n",
    "    if exact:\n",
    "        d1 = (sympy.ln(s / k) + t * (b + sigma ** 2 / 2)) / (sigma * sympy.sqrt(t))\n",
    "        d2 = d1 - sigma * sympy.sqrt(t)\n",
    "        \n",
    "        n = systats.Normal(\"x\", 0.0, 1.0)\n",
    "        \n",
    "        if option == 'call':\n",
    "            price = s * sympy.exp((b-r) * t) * cdf(n)(d1) - k * sympy.exp(-r * t) * cdf(n)(d2)\n",
    "        elif option == 'put':\n",
    "            price = k * sympy.exp(-r * t) * cdf(n)(-d2) - s * sympy.exp((b-r) * t) * cdf(n)(-d1)\n",
    "            \n",
    "    else:\n",
    "        d1 = (np.log(s / k) + t * (b + sigma ** 2 / 2)) / (sigma * np.sqrt(t))\n",
    "        d2 = d1 - sigma * np.sqrt(t)\n",
    "        \n",
    "        if option == 'call':\n",
    "            price = s * np.exp((b-r) * t) * stats.norm.cdf(d1) - k * np.exp(-r * t) * stats.norm.cdf(d2)\n",
    "        elif option == 'put':\n",
    "            price = k * np.exp(-r * t) * stats.norm.cdf(-d2) - s * np.exp((b-r) * t) * stats.norm.cdf(-d1)\n",
    "            \n",
    "    return price"
   ]
  },
  {
   "cell_type": "markdown",
   "metadata": {},
   "source": [
    "To see that the generalized model gives us the same results as specific function, let's go back to the futures options considered earlier. In the example, we had an European futures option with nine months to expiration. The price of the futures contract and strike price is `$20`, with a risk-free interest rate of 15% and a volatility of 40% per year."
   ]
  },
  {
   "cell_type": "code",
   "execution_count": 170,
   "metadata": {},
   "outputs": [],
   "source": [
    "s = 20\n",
    "k = 20\n",
    "r = .15\n",
    "t = 9 / 12\n",
    "sigma = 0.40"
   ]
  },
  {
   "cell_type": "markdown",
   "metadata": {},
   "source": [
    "As noted above, in the futures options case, we set $b = 0$."
   ]
  },
  {
   "cell_type": "code",
   "execution_count": 171,
   "metadata": {},
   "outputs": [
    {
     "name": "stdout",
     "output_type": "stream",
     "text": [
      "2.4575673110408576\n",
      "2.457567311040859\n"
     ]
    }
   ],
   "source": [
    "b = 0\n",
    "print(black_scholes76(s, k, r, sigma, t))\n",
    "print(generalized_black_scholes(s, k, r, b, sigma, t))"
   ]
  },
  {
   "cell_type": "markdown",
   "metadata": {},
   "source": [
    "Great! Other than some trivial round-off difference, the results of the two functions match! As one more test, let's try Merton's extension to the model for stock options with dividend yields."
   ]
  },
  {
   "cell_type": "code",
   "execution_count": 168,
   "metadata": {},
   "outputs": [],
   "source": [
    "s = 110\n",
    "k = 100\n",
    "r = 0.10\n",
    "q = 0.08\n",
    "t = 6 / 12\n",
    "sigma = 0.25"
   ]
  },
  {
   "cell_type": "markdown",
   "metadata": {},
   "source": [
    "In the case of stock options with dividend yields, $b = r - q$"
   ]
  },
  {
   "cell_type": "code",
   "execution_count": null,
   "metadata": {},
   "outputs": [],
   "source": [
    "b = r - q\n",
    "print(black_scholes_merton(s, k, r, q, sigma, t))\n",
    "print(generalized_black_scholes(s, k, r, b, sigma, t))"
   ]
  },
  {
   "cell_type": "markdown",
   "metadata": {},
   "source": [
    "### References"
   ]
  },
  {
   "cell_type": "markdown",
   "metadata": {},
   "source": [
    "[Haug, Espen Gaarder. The Complete Guide to Option Pricing Formulas. McGraw-Hill, 2007.](https://amzn.to/38jxpgf)\n",
    "\n",
    "[Sherbin, A. (2015). How to price and trade options: identify, analyze, and execute the best trade probabilities. \n",
    "    Hoboken, NJ: John Wiley & Sons, Inc.](https://amzn.to/37ajBnM)\n",
    "\n",
    "[Ursone, P. (2015). How to calculate options prices and their Greeks: exploring the Black Scholes model from Delta \n",
    "    to Vega. Chichester: Wiley.](https://amzn.to/2UzXDrD)"
   ]
  }
 ],
 "metadata": {
  "kernelspec": {
   "display_name": "Python 3",
   "language": "python",
   "name": "python3"
  },
  "language_info": {
   "codemirror_mode": {
    "name": "ipython",
    "version": 3
   },
   "file_extension": ".py",
   "mimetype": "text/x-python",
   "name": "python",
   "nbconvert_exporter": "python",
   "pygments_lexer": "ipython3",
   "version": "3.7.6"
  }
 },
 "nbformat": 4,
 "nbformat_minor": 4
}
