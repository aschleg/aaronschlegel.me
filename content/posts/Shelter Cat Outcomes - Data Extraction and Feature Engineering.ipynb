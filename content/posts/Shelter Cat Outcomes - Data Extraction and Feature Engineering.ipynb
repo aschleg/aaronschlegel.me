{
 "cells": [
  {
   "cell_type": "markdown",
   "metadata": {},
   "source": [
    "The [Austin Animal Center](http://www.austintexas.gov/department/aac) is the largest no-kill animal shelter and shelters and protects over 18,000 animals each year. As part of the [City of Austin's Open Data Initiative](https://data.austintexas.gov/), the Center makes available their data detailing shelter pet intake and outcomes. According to the data portal, over 90% of animal outcomes are adoptions, transfers to other shelter partners or returning lost pets to owners.\n",
    "\n",
    "Given the data made available by the AAC, is there a predictable pattern or visible trend to shelter pet outcomes? By performing [exploratory data analysis](https://en.wikipedia.org/wiki/Exploratory_data_analysis) we can unveil potential patterns and trends to help inform what features and terms are included in our final prediction model.\n",
    "\n",
    "This notebook will walkthrough extracting the AAC's shelter pet outcome dataset using the [requests](http://docs.python-requests.org/en/master/) library. Once the data is extracted, we will clean the data and enrich the data by leveraging [feature engineering](https://en.wikipedia.org/wiki/Feature_engineering) to create new and potentially more useful indicators of shelter animal outcomes."
   ]
  },
  {
   "cell_type": "markdown",
   "metadata": {},
   "source": [
    "The libraries used to perform the exploratory data analysis will be primarily the ubiquitous [pandas](https://pandas.pydata.org/) for loading and manipulating the extracted data, and [seaborn](https://seaborn.pydata.org/) for visualizing the data. The packages are imported below; we also call the [`%matplotlib inline`](http://ipython.readthedocs.io/en/stable/interactive/plotting.html) function for printing the visualizations."
   ]
  },
  {
   "cell_type": "code",
   "execution_count": 1,
   "metadata": {
    "collapsed": true
   },
   "outputs": [],
   "source": [
    "%matplotlib inline"
   ]
  },
  {
   "cell_type": "code",
   "execution_count": 2,
   "metadata": {
    "collapsed": true
   },
   "outputs": [],
   "source": [
    "import requests\n",
    "import pandas as pd\n",
    "import numpy as np\n",
    "from urllib.error import HTTPError\n",
    "import matplotlib.pyplot as plt"
   ]
  },
  {
   "cell_type": "markdown",
   "metadata": {},
   "source": [
    "## Obtain Shelter Pet Data from the Austin Open Data Portal "
   ]
  },
  {
   "cell_type": "markdown",
   "metadata": {},
   "source": [
    "The first step in analyzing the data is obtaining the data! The shelter outcome data can be extracted in a variety of ways, including going to the [Austin Animal Center Outcomes webpage](https://data.austintexas.gov/Health-and-Community-Services/Austin-Animal-Center-Outcomes/9t4d-g238) and downloading the data directly to standard formats, but that's not as fun as extracting the data programmatically with Python =p.\n",
    "\n",
    "Clicking the API button in the top-right corner of the [AAC webpage](https://data.austintexas.gov/Health-and-Community-Services/Austin-Animal-Center-Outcomes/9t4d-g238) reveals the API endpoint that will be called to get the data. There are several export options, including CSV and JSON.\n",
    "\n",
    "The API is powered by [Socrata](https://socrata.com/), which has a call limit of 1,000. Therefore, we need to page through the results and get the results 1,000 at a time, as noted by the [Socrata API paging documentation](https://dev.socrata.com/docs/paging.html) until the total amount of records is reached. The dataset information states there are 77.9k total rows in the dataset.\n",
    "\n",
    "We set the endpoint, the number of records to return on each call, and the number of pages we want to page through. Although the data states there are just over only 78k rows in the data, the `pages` variable is set to 100 anyway, and we break the call loop once there are no results to return."
   ]
  },
  {
   "cell_type": "code",
   "execution_count": 3,
   "metadata": {
    "collapsed": true
   },
   "outputs": [],
   "source": [
    "endpoint = 'https://data.austintexas.gov/resource/9t4d-g238.json'\n",
    "count = 1000\n",
    "pages = 100"
   ]
  },
  {
   "cell_type": "markdown",
   "metadata": {},
   "source": [
    "We extract the data using the `requests` library and append the results to a list. Once the call returns a `404` error, the loop stops and the results are returned.\n",
    "\n",
    "Note: This approach is not optimal, a likely better approach would be to use a `while` statement and check the HTTP status code on each loop until it returns a `404`; however, this quick and dirty loop works fine for our purposes. Once the extraction of the data is complete, the length of the list is returned."
   ]
  },
  {
   "cell_type": "code",
   "execution_count": 4,
   "metadata": {},
   "outputs": [
    {
     "data": {
      "text/plain": [
       "100"
      ]
     },
     "execution_count": 4,
     "metadata": {},
     "output_type": "execute_result"
    }
   ],
   "source": [
    "results = []\n",
    "params = {'$limit': count, '$offset': 0}\n",
    "\n",
    "for i in range(0, pages):\n",
    "    \n",
    "    try:\n",
    "        r = requests.get(endpoint, params=params)\n",
    "        results.append(r.json())\n",
    "        params['$offset'] = count\n",
    "        count += 1000\n",
    "        \n",
    "    except HTTPError as err:\n",
    "        if err.response.status_code == '404':\n",
    "            break\n",
    "        else:\n",
    "            print(err.response.status_code)\n",
    "\n",
    "len(results)"
   ]
  },
  {
   "cell_type": "markdown",
   "metadata": {},
   "source": [
    "We convert the list of JSON results into a pandas DataFrame by using the very convenient [`json_normalize`](https://pandas.pydata.org/pandas-docs/stable/generated/pandas.io.json.json_normalize.html) function. Iterate through the list of results and convert the returned JSON into a DataFrame and append to our initialized, empty DataFrame `outcome_df`."
   ]
  },
  {
   "cell_type": "code",
   "execution_count": 5,
   "metadata": {},
   "outputs": [
    {
     "data": {
      "text/plain": [
       "78256"
      ]
     },
     "execution_count": 5,
     "metadata": {},
     "output_type": "execute_result"
    }
   ],
   "source": [
    "outcome_df = pd.DataFrame()\n",
    "\n",
    "for i in results:\n",
    "    outcome_df = outcome_df.append(pd.io.json.json_normalize(i))\n",
    "\n",
    "len(outcome_df)"
   ]
  },
  {
   "cell_type": "markdown",
   "metadata": {},
   "source": [
    "The DataFrame contains x rows of data, just as the data webpage stated."
   ]
  },
  {
   "cell_type": "markdown",
   "metadata": {},
   "source": [
    "As we are only interested in the outcomes of cats for this particular task, filter the `animal_type` column and reset the index."
   ]
  },
  {
   "cell_type": "code",
   "execution_count": 6,
   "metadata": {
    "collapsed": true
   },
   "outputs": [],
   "source": [
    "cats_df = outcome_df[outcome_df['animal_type'] == 'Cat'].reset_index()\n",
    "del cats_df['index']"
   ]
  },
  {
   "cell_type": "markdown",
   "metadata": {},
   "source": [
    "Print the number of cat shelter outcomes as well as the first 5 rows of the filtered dataset."
   ]
  },
  {
   "cell_type": "code",
   "execution_count": 7,
   "metadata": {
    "scrolled": true
   },
   "outputs": [
    {
     "name": "stdout",
     "output_type": "stream",
     "text": [
      "29422\n"
     ]
    },
    {
     "data": {
      "text/html": [
       "<div>\n",
       "<style>\n",
       "    .dataframe thead tr:only-child th {\n",
       "        text-align: right;\n",
       "    }\n",
       "\n",
       "    .dataframe thead th {\n",
       "        text-align: left;\n",
       "    }\n",
       "\n",
       "    .dataframe tbody tr th {\n",
       "        vertical-align: top;\n",
       "    }\n",
       "</style>\n",
       "<table border=\"1\" class=\"dataframe\">\n",
       "  <thead>\n",
       "    <tr style=\"text-align: right;\">\n",
       "      <th></th>\n",
       "      <th>age_upon_outcome</th>\n",
       "      <th>animal_id</th>\n",
       "      <th>animal_type</th>\n",
       "      <th>breed</th>\n",
       "      <th>color</th>\n",
       "      <th>date_of_birth</th>\n",
       "      <th>datetime</th>\n",
       "      <th>monthyear</th>\n",
       "      <th>name</th>\n",
       "      <th>outcome_subtype</th>\n",
       "      <th>outcome_type</th>\n",
       "      <th>sex_upon_outcome</th>\n",
       "    </tr>\n",
       "  </thead>\n",
       "  <tbody>\n",
       "    <tr>\n",
       "      <th>0</th>\n",
       "      <td>2 weeks</td>\n",
       "      <td>A684346</td>\n",
       "      <td>Cat</td>\n",
       "      <td>Domestic Shorthair Mix</td>\n",
       "      <td>Orange Tabby</td>\n",
       "      <td>2014-07-07T00:00:00</td>\n",
       "      <td>2014-07-22T16:04:00</td>\n",
       "      <td>2014-07-22T16:04:00</td>\n",
       "      <td>NaN</td>\n",
       "      <td>Partner</td>\n",
       "      <td>Transfer</td>\n",
       "      <td>Intact Male</td>\n",
       "    </tr>\n",
       "    <tr>\n",
       "      <th>1</th>\n",
       "      <td>1 month</td>\n",
       "      <td>A685067</td>\n",
       "      <td>Cat</td>\n",
       "      <td>Domestic Shorthair Mix</td>\n",
       "      <td>Blue Tabby/White</td>\n",
       "      <td>2014-06-16T00:00:00</td>\n",
       "      <td>2014-08-14T18:45:00</td>\n",
       "      <td>2014-08-14T18:45:00</td>\n",
       "      <td>Lucy</td>\n",
       "      <td>NaN</td>\n",
       "      <td>Adoption</td>\n",
       "      <td>Intact Female</td>\n",
       "    </tr>\n",
       "    <tr>\n",
       "      <th>2</th>\n",
       "      <td>3 months</td>\n",
       "      <td>A678580</td>\n",
       "      <td>Cat</td>\n",
       "      <td>Domestic Shorthair Mix</td>\n",
       "      <td>White/Black</td>\n",
       "      <td>2014-03-26T00:00:00</td>\n",
       "      <td>2014-06-29T17:45:00</td>\n",
       "      <td>2014-06-29T17:45:00</td>\n",
       "      <td>*Frida</td>\n",
       "      <td>Offsite</td>\n",
       "      <td>Adoption</td>\n",
       "      <td>Spayed Female</td>\n",
       "    </tr>\n",
       "    <tr>\n",
       "      <th>3</th>\n",
       "      <td>1 year</td>\n",
       "      <td>A675405</td>\n",
       "      <td>Cat</td>\n",
       "      <td>Domestic Medium Hair Mix</td>\n",
       "      <td>Black/White</td>\n",
       "      <td>2013-03-27T00:00:00</td>\n",
       "      <td>2014-03-28T14:55:00</td>\n",
       "      <td>2014-03-28T14:55:00</td>\n",
       "      <td>Stella Luna</td>\n",
       "      <td>NaN</td>\n",
       "      <td>Return to Owner</td>\n",
       "      <td>Spayed Female</td>\n",
       "    </tr>\n",
       "    <tr>\n",
       "      <th>4</th>\n",
       "      <td>3 weeks</td>\n",
       "      <td>A670420</td>\n",
       "      <td>Cat</td>\n",
       "      <td>Domestic Shorthair Mix</td>\n",
       "      <td>Black/White</td>\n",
       "      <td>2013-12-16T00:00:00</td>\n",
       "      <td>2014-01-09T19:29:00</td>\n",
       "      <td>2014-01-09T19:29:00</td>\n",
       "      <td>NaN</td>\n",
       "      <td>Partner</td>\n",
       "      <td>Transfer</td>\n",
       "      <td>Intact Male</td>\n",
       "    </tr>\n",
       "  </tbody>\n",
       "</table>\n",
       "</div>"
      ],
      "text/plain": [
       "  age_upon_outcome animal_id animal_type                     breed  \\\n",
       "0          2 weeks   A684346         Cat    Domestic Shorthair Mix   \n",
       "1          1 month   A685067         Cat    Domestic Shorthair Mix   \n",
       "2         3 months   A678580         Cat    Domestic Shorthair Mix   \n",
       "3           1 year   A675405         Cat  Domestic Medium Hair Mix   \n",
       "4          3 weeks   A670420         Cat    Domestic Shorthair Mix   \n",
       "\n",
       "              color        date_of_birth             datetime  \\\n",
       "0      Orange Tabby  2014-07-07T00:00:00  2014-07-22T16:04:00   \n",
       "1  Blue Tabby/White  2014-06-16T00:00:00  2014-08-14T18:45:00   \n",
       "2       White/Black  2014-03-26T00:00:00  2014-06-29T17:45:00   \n",
       "3       Black/White  2013-03-27T00:00:00  2014-03-28T14:55:00   \n",
       "4       Black/White  2013-12-16T00:00:00  2014-01-09T19:29:00   \n",
       "\n",
       "             monthyear         name outcome_subtype     outcome_type  \\\n",
       "0  2014-07-22T16:04:00          NaN         Partner         Transfer   \n",
       "1  2014-08-14T18:45:00         Lucy             NaN         Adoption   \n",
       "2  2014-06-29T17:45:00       *Frida         Offsite         Adoption   \n",
       "3  2014-03-28T14:55:00  Stella Luna             NaN  Return to Owner   \n",
       "4  2014-01-09T19:29:00          NaN         Partner         Transfer   \n",
       "\n",
       "  sex_upon_outcome  \n",
       "0      Intact Male  \n",
       "1    Intact Female  \n",
       "2    Spayed Female  \n",
       "3    Spayed Female  \n",
       "4      Intact Male  "
      ]
     },
     "execution_count": 7,
     "metadata": {},
     "output_type": "execute_result"
    }
   ],
   "source": [
    "print(len(cats_df))\n",
    "cats_df.head()"
   ]
  },
  {
   "cell_type": "markdown",
   "metadata": {},
   "source": [
    "We successfully extracted the Austin Animal Center's shelter outcome dataset and have already started manipulating the data to our needs! We now turn our attention to the process of feature engineering, an often manual but extremely valuable step in creating models. Before beginning; however, it can be worthwhile to save the data we extracted to a file in case we need to return to it. There are many options for saving a pandas DataFrame, as noted by the [pandas documentation](https://pandas.pydata.org/pandas-docs/stable/api.html#id12)."
   ]
  },
  {
   "cell_type": "code",
   "execution_count": 8,
   "metadata": {
    "collapsed": true
   },
   "outputs": [],
   "source": [
    "outcome_df.to_csv('../../data/aac_outcomes_working.csv', index=False, encoding='utf-8')\n",
    "cats_df.to_csv('../../data/cats_working.csv', index=False, encoding='utf-8')"
   ]
  },
  {
   "cell_type": "markdown",
   "metadata": {},
   "source": [
    "## Feature Engineering"
   ]
  },
  {
   "cell_type": "markdown",
   "metadata": {},
   "source": [
    "Feature engineering, although often laborious and potentially time-consuming, can yield significantly better results in the modeling phase as the data is richer with information machine learning algorithms can leverage. The step of feature engineering is another phase where a data scientist or analyst's domain knowledge about the particular data being analyzed can enhance and play a vital role in the success of the analysis and model of the problem.\n",
    "\n",
    "In the end, and possibly for the foreseeable future, machine learning is at the core pattern recognition and statistics with computers, and cannot replace the specialized knowledge of a skilled analyst."
   ]
  },
  {
   "cell_type": "markdown",
   "metadata": {},
   "source": [
    "Each row represents one outcome. Therefore we can start by adding a simple `count` column to denote the number of observations in each group."
   ]
  },
  {
   "cell_type": "code",
   "execution_count": 9,
   "metadata": {
    "collapsed": true
   },
   "outputs": [],
   "source": [
    "cats_df['count'] = 1"
   ]
  },
  {
   "cell_type": "markdown",
   "metadata": {},
   "source": [
    "The `sex_upon_outcome` column denotes the cat's gender and if it was spayed or neutered upon the shelter outcome. This variable can be split into two new features, `sex` and `Spay/Neuter`. These features can be added with the `np.where()` function, which is essentially an `if` statement that works with pandas Series."
   ]
  },
  {
   "cell_type": "code",
   "execution_count": 10,
   "metadata": {
    "collapsed": true
   },
   "outputs": [],
   "source": [
    "cats_df['sex'] = np.where(cats_df['sex_upon_outcome'].str.contains('Male'), 'Male', 'Female')\n",
    "cats_df['Spay/Neuter'] = np.where(cats_df['sex_upon_outcome'].str.contains('Intact'), 'No', 'Yes')"
   ]
  },
  {
   "cell_type": "markdown",
   "metadata": {},
   "source": [
    "The cat's age upon outcome is given in not a very data analysis-friendly format. Let's inspect the first 5 rows of the `age_upon_outcome` column to see what we're dealing with:"
   ]
  },
  {
   "cell_type": "code",
   "execution_count": 11,
   "metadata": {},
   "outputs": [
    {
     "data": {
      "text/plain": [
       "0     2 weeks\n",
       "1     1 month\n",
       "2    3 months\n",
       "3      1 year\n",
       "4     3 weeks\n",
       "Name: age_upon_outcome, dtype: object"
      ]
     },
     "execution_count": 11,
     "metadata": {},
     "output_type": "execute_result"
    }
   ],
   "source": [
    "cats_df['age_upon_outcome'].head()"
   ]
  },
  {
   "cell_type": "markdown",
   "metadata": {},
   "source": [
    "The cat's age is approximated with a numeric value and a date interval such as 'weeks', 'months', and 'years', therefore we will only be able to get an approximation of the cat's age, which is typically the best achievable regarding of accuracy in the shelter environment.\n",
    "\n",
    "We will transform the column into a day value that can be converted into months and years as needed. Start by splitting the `age_upon_outcome` column using the [`.str.split`](https://pandas.pydata.org/pandas-docs/stable/generated/pandas.Series.str.split.html) method. Note we could also use the `expand=True` parameter to return a DataFrame of the split columns."
   ]
  },
  {
   "cell_type": "code",
   "execution_count": 12,
   "metadata": {
    "collapsed": true
   },
   "outputs": [],
   "source": [
    "cats_df = cats_df[cats_df['age_upon_outcome'] != 'NULL']\n",
    "cats_df['Periods'], cats_df['Period Range'] = cats_df['age_upon_outcome'].str.split(' ').str[0].fillna(0).astype(int), cats_df['age_upon_outcome'].str.split(' ').str[1].fillna(0)"
   ]
  },
  {
   "cell_type": "code",
   "execution_count": 13,
   "metadata": {
    "scrolled": true
   },
   "outputs": [
    {
     "data": {
      "text/plain": [
       "array(['weeks', 'month', 'months', 'year', 'years', 'days', 'week', 'day'], dtype=object)"
      ]
     },
     "execution_count": 13,
     "metadata": {},
     "output_type": "execute_result"
    }
   ],
   "source": [
    "cats_df['Period Range'].unique()"
   ]
  },
  {
   "cell_type": "markdown",
   "metadata": {},
   "source": [
    "Taking advantage of the [`.unique()`](https://pandas.pydata.org/pandas-docs/stable/generated/pandas.Series.unique.html) Series method, we can find the date intervals we need to account for during the conversion.\n",
    "\n",
    "With the period lengths, we can approximate the age of the cat upon the outcome in days by multiplying the number of periods by the appropriate number of days. This is done using the `np.where()` function. Once the approximate age in days is obtained, we also determine the age in years by dividing the days by 365."
   ]
  },
  {
   "cell_type": "code",
   "execution_count": 14,
   "metadata": {
    "collapsed": true
   },
   "outputs": [],
   "source": [
    "cats_df['Period Range'] = np.where(cats_df['Period Range'].str.contains('day'), 1, \n",
    "                                   np.where(cats_df['Period Range'].str.contains('week'), 7, \n",
    "                                            np.where(cats_df['Period Range'].str.contains('month'), 30, \n",
    "                                                     np.where(cats_df['Period Range'].str.contains('year'), 365, 0)))).astype(int)\n",
    "\n",
    "cats_df['outcome_age_(days)'] = cats_df['Period Range'] * cats_df['Periods']\n",
    "cats_df['outcome_age_(years)'] = cats_df['outcome_age_(days)'] / 365"
   ]
  },
  {
   "cell_type": "markdown",
   "metadata": {},
   "source": [
    "In the shelter environment, kittens, defined as cats of approximately six months of age or less, are often adopted much more quickly than adult cats. Kittens can also be transferred to other area organizations for treatments and to get spayed or neutered if the shelter does not have the appropriate facilities or staff on hand to perform the procedure. Therefore, it makes sense to create a few more features that designate whether a cat was of adult or kitten age upon outcome."
   ]
  },
  {
   "cell_type": "code",
   "execution_count": 15,
   "metadata": {
    "collapsed": true
   },
   "outputs": [],
   "source": [
    "cats_df['Cat/Kitten (outcome)'] = np.where(cats_df['outcome_age_(days)'] >= 180, 'Cat', 'Kitten')\n",
    "cats_df['sex_age_outcome'] = cats_df['sex_upon_outcome'] + ' ' + cats_df['Cat/Kitten (outcome)']"
   ]
  },
  {
   "cell_type": "code",
   "execution_count": 16,
   "metadata": {},
   "outputs": [
    {
     "data": {
      "text/plain": [
       "(-0.022, 2.2]    25107\n",
       "(2.2, 4.4]        1554\n",
       "(4.4, 6.6]         901\n",
       "(6.6, 8.8]         724\n",
       "(8.8, 11.0]        599\n",
       "(11.0, 13.2]       297\n",
       "(13.2, 15.4]       151\n",
       "(15.4, 17.6]        58\n",
       "(17.6, 19.8]        16\n",
       "(19.8, 22.0]        14\n",
       "Name: age_group, dtype: int64"
      ]
     },
     "execution_count": 16,
     "metadata": {},
     "output_type": "execute_result"
    }
   ],
   "source": [
    "cats_df['age_group'] = pd.cut(cats_df['outcome_age_(years)'], 10)\n",
    "cats_df['age_group'].value_counts()"
   ]
  },
  {
   "cell_type": "markdown",
   "metadata": {},
   "source": [
    "Next, we want to convert the date columns into formats that are workable with `pandas` and for future data analysis. Thus, we apply the handy [`pd.to_datetime()`](https://pandas.pydata.org/pandas-docs/stable/generated/pandas.to_datetime.html) function. The month and year the cat was born and the time of outcome is then extracted and stored in new columns."
   ]
  },
  {
   "cell_type": "code",
   "execution_count": 17,
   "metadata": {
    "collapsed": true
   },
   "outputs": [],
   "source": [
    "cats_df['date_of_birth'] = pd.to_datetime(cats_df['date_of_birth'])\n",
    "\n",
    "cats_df['dob_year'] = cats_df['date_of_birth'].dt.year\n",
    "cats_df['dob_month'] = cats_df['date_of_birth'].dt.month\n",
    "cats_df['dob_monthyear'] = pd.to_datetime(cats_df['monthyear']).dt.to_period('M')\n",
    "\n",
    "cats_df['datetime'] = pd.to_datetime(cats_df['datetime'])\n",
    "cats_df['outcome_month'] = cats_df['datetime'].dt.month\n",
    "cats_df['outcome_year'] = cats_df['datetime'].dt.year\n",
    "cats_df['outcome_weekday'] = cats_df['datetime'].dt.weekday_name\n",
    "cats_df['outcome_hour'] = cats_df['datetime'].dt.hour"
   ]
  },
  {
   "cell_type": "markdown",
   "metadata": {},
   "source": [
    "There are far fewer recognized cat breeds than dog breeds, as dogs have been selected for desired traits for millennia, while the cat has more or less stayed the same as its role in human society during the same time was essentially constant (keeping vermin out of food and grain stores). Only in the last century or so has there been more breeding for desired traits such as coat pattern and behavior. Also, unlike numerous dogs breeds, cat breeds are extremely difficult to determine without genetic testing and aren't officially recognized by the CFA (Cat Fancier's Association) without the proper paperwork. As a result, the vast majority of cats who arrive in shelters are of the Domestic breed, generally classified into three different hair lengths, 'short', 'medium', and 'long', which are defined as cats of mixed breed.\n",
    "\n",
    "We can see the counts of cat breeds using the [`.value_counts()`](https://pandas.pydata.org/pandas-docs/stable/generated/pandas.Series.value_counts.html) method."
   ]
  },
  {
   "cell_type": "code",
   "execution_count": 18,
   "metadata": {},
   "outputs": [
    {
     "data": {
      "text/plain": [
       "Domestic Shorthair Mix                     23334\n",
       "Domestic Medium Hair Mix                    2323\n",
       "Domestic Longhair Mix                       1228\n",
       "Siamese Mix                                  998\n",
       "Domestic Shorthair                           386\n",
       "American Shorthair Mix                       211\n",
       "Snowshoe Mix                                 148\n",
       "Domestic Medium Hair                         131\n",
       "Maine Coon Mix                               106\n",
       "Manx Mix                                      79\n",
       "Russian Blue Mix                              65\n",
       "Siamese                                       60\n",
       "Domestic Longhair                             45\n",
       "Himalayan Mix                                 32\n",
       "Ragdoll Mix                                   22\n",
       "Persian Mix                                   20\n",
       "Siamese/Domestic Shorthair                    13\n",
       "Bengal Mix                                    12\n",
       "Angora Mix                                    12\n",
       "American Curl Shorthair Mix                   11\n",
       "Balinese Mix                                  10\n",
       "Japanese Bobtail Mix                          10\n",
       "Maine Coon                                    10\n",
       "Persian                                        9\n",
       "Tonkinese Mix                                  8\n",
       "Snowshoe                                       8\n",
       "Bombay Mix                                     7\n",
       "British Shorthair Mix                          6\n",
       "Himalayan                                      6\n",
       "Cymric Mix                                     6\n",
       "                                           ...  \n",
       "Chartreux Mix                                  2\n",
       "Domestic Shorthair/Siamese                     2\n",
       "British Shorthair                              2\n",
       "Domestic Longhair/Rex                          2\n",
       "Devon Rex                                      2\n",
       "Munchkin Longhair Mix                          2\n",
       "Turkish Van Mix                                2\n",
       "Bengal                                         2\n",
       "Munchkin Shorthair Mix                         2\n",
       "Bengal/Domestic Shorthair                      2\n",
       "Domestic Medium Hair/Maine Coon                2\n",
       "Manx/Domestic Longhair                         2\n",
       "Snowshoe/Ragdoll                               2\n",
       "Domestic Shorthair/Manx                        1\n",
       "Manx/Siamese                                   1\n",
       "Angora/Persian                                 1\n",
       "Domestic Shorthair/Maine Coon                  1\n",
       "Domestic Longhair/Russian Blue                 1\n",
       "American Wirehair Mix                          1\n",
       "Domestic Medium Hair/Manx                      1\n",
       "Manx                                           1\n",
       "Domestic Shorthair/Abyssinian                  1\n",
       "Domestic Shorthair/British Shorthair           1\n",
       "Snowshoe/Domestic Shorthair                    1\n",
       "Havana Brown Mix                               1\n",
       "Domestic Shorthair/Domestic Medium Hair        1\n",
       "Ocicat Mix                                     1\n",
       "Siamese/Angora                                 1\n",
       "Domestic Longhair/Domestic Longhair            1\n",
       "Domestic Shorthair/Domestic Shorthair          1\n",
       "Name: breed, Length: 79, dtype: int64"
      ]
     },
     "execution_count": 18,
     "metadata": {},
     "output_type": "execute_result"
    }
   ],
   "source": [
    "cats_df['breed'].value_counts()"
   ]
  },
  {
   "cell_type": "markdown",
   "metadata": {},
   "source": [
    "As suspected, the Domestic breed is the most common by far. Let's clean up the breed names by removing 'mix' (we will assume the term 'mix' isn't relevant to the type of breed, which is certainly true for Domestic breeds) and trimming the values to remove any whitespace."
   ]
  },
  {
   "cell_type": "code",
   "execution_count": 19,
   "metadata": {
    "collapsed": true
   },
   "outputs": [],
   "source": [
    "cats_df['breed'] = cats_df['breed'].str.lower().str.replace('mix', '').str.replace('medium hair', 'mediumhair').str.strip()"
   ]
  },
  {
   "cell_type": "markdown",
   "metadata": {},
   "source": [
    "The [Cat Fancier's Association](http://cfa.org/Breeds.aspx) currently recognizes 42 cat breeds. Let's create two new features that distinguish the cat as a breed recognized by the CFA or a domestic breed. As we saw, most of the cats will be classified into the domestic category, but we will be able to analyze if a cats breed (or breed type) has any impact on its outcome.\n",
    "\n",
    "We create a list of all the CFA breeds and then convert the list to lowercase and join all the elements with a bar."
   ]
  },
  {
   "cell_type": "code",
   "execution_count": 20,
   "metadata": {
    "collapsed": true
   },
   "outputs": [],
   "source": [
    "cfa_breeds = ['Abyssinian', 'American Bobtail', 'American Curl', 'American Shorthair', 'American Wirehair', \n",
    "              'Balinese', 'Bengal', 'Birman', 'Bombay', 'British Shorthair', 'Burmese', 'Burmilla', \n",
    "              'Chartreux', 'Colorpoint Shorthair', 'Cornish Rex', 'Devon Rex', 'Egyptian Mau', 'European Burmese', \n",
    "              'Exotic', 'Havana Brown', 'Japanese Bobtail', 'Korat', 'LaPerm', 'Maine Coon', 'Manx', \n",
    "              'Norwegian Forest Cat', 'Ocicat', 'Oriental', 'Persian', 'Ragamuffin', 'Ragdoll', 'Russian Blue', \n",
    "              'Scottish Fold', 'Selkirk Rex', 'Siamese', 'Siberian', 'Singapura', 'Somali', 'Tonkinese', \n",
    "              'Turkish Angora', 'Turkish Van']\n",
    "\n",
    "cfa_breeds = [i.lower() for i in cfa_breeds]\n",
    "cfa_breeds = '|'.join(cfa_breeds)"
   ]
  },
  {
   "cell_type": "markdown",
   "metadata": {},
   "source": [
    "Some of the records contain two breeds, which we need to split to correctly categorize the cats as a domestic or pedigree breed. This is done using the [`.str.split()`](https://pandas.pydata.org/pandas-docs/stable/generated/pandas.Series.str.split.html) method with `expand = True` in combination with the [`pd.concat()`](https://pandas.pydata.org/pandas-docs/stable/generated/pandas.concat.html) function to join the resulting `DataFrame` and our original dataset.\n",
    "\n",
    "The cat record is then categorized based on the resulting two breed columns. We categorize the cat as a CFA recognized breed if one of the breed columns contains a breed in the list above (we assume that records with a Domestic/CFA Breed or vice-versa is a CFA breed)."
   ]
  },
  {
   "cell_type": "code",
   "execution_count": 21,
   "metadata": {
    "collapsed": true
   },
   "outputs": [],
   "source": [
    "cats_df = pd.concat([cats_df, \n",
    "                     cats_df['breed'].str.split('/', expand=True).rename(columns={0:'breed1', 1:'breed2'})], \n",
    "                    axis=1)\n",
    "\n",
    "cats_df['cfa_breed'] = np.where((cats_df['breed1'].str.contains(cfa_breeds)) | \n",
    "                                (cats_df['breed2'].str.contains(cfa_breeds)), \n",
    "                                True, False)\n",
    "\n",
    "cats_df['domestic_breed'] = np.where((cats_df['breed1'].str.contains(cfa_breeds) == False) | \n",
    "                                     (cats_df['breed2'].str.contains(cfa_breeds) == False), \n",
    "                                     True, False)"
   ]
  },
  {
   "cell_type": "markdown",
   "metadata": {},
   "source": [
    "The last given feature that may be of interest in our analysis is the color of the cat. As before, we can find the counts of each color using the `value_counts()` function."
   ]
  },
  {
   "cell_type": "code",
   "execution_count": 22,
   "metadata": {
    "scrolled": true
   },
   "outputs": [
    {
     "data": {
      "text/plain": [
       "Brown Tabby                  4445\n",
       "Black                        3847\n",
       "Black/White                  2804\n",
       "Brown Tabby/White            2338\n",
       "Orange Tabby                 2180\n",
       "Tortie                       1335\n",
       "Calico                       1318\n",
       "Blue Tabby                   1130\n",
       "Orange Tabby/White           1095\n",
       "Blue                         1058\n",
       "Torbie                        845\n",
       "Blue/White                    792\n",
       "Blue Tabby/White              545\n",
       "White/Black                   508\n",
       "Cream Tabby                   498\n",
       "Lynx Point                    438\n",
       "White                         334\n",
       "Seal Point                    321\n",
       "White/Brown Tabby             287\n",
       "Cream Tabby/White             236\n",
       "Flame Point                   200\n",
       "White/Blue                    196\n",
       "Black Tabby                   177\n",
       "Torbie/White                  175\n",
       "Gray Tabby                    132\n",
       "Black Smoke                   105\n",
       "White/Orange Tabby            101\n",
       "Lilac Point                    77\n",
       "Tortie Point                   75\n",
       "Gray                           74\n",
       "                             ... \n",
       "Torbie/Calico                   1\n",
       "Blue/Calico                     1\n",
       "Brown/Buff                      1\n",
       "Tortie/Black Smoke              1\n",
       "Lilac Point/Cream               1\n",
       "Agouti/Brown Tabby              1\n",
       "Blue/Blue                       1\n",
       "Blue/Brown                      1\n",
       "Agouti/White                    1\n",
       "Brown Brindle                   1\n",
       "Orange Tiger                    1\n",
       "Fawn                            1\n",
       "Lynx Point/Blue                 1\n",
       "Tricolor/Calico                 1\n",
       "Blue Smoke/Gray                 1\n",
       "Yellow                          1\n",
       "Brown Tabby/Black Brindle       1\n",
       "Brown Tiger/White               1\n",
       "Calico/Orange                   1\n",
       "Blue Point/Cream                1\n",
       "Brown Merle/Brown Tabby         1\n",
       "Lynx Point/Tan                  1\n",
       "Brown Tabby/Gray Tabby          1\n",
       "Blue/Cream                      1\n",
       "Orange Tabby/Black              1\n",
       "Tortie/Tortie                   1\n",
       "White/Calico Point              1\n",
       "Brown Merle                     1\n",
       "Tortie Point/Blue               1\n",
       "White/Lilac Point               1\n",
       "Name: color, Length: 231, dtype: int64"
      ]
     },
     "execution_count": 22,
     "metadata": {},
     "output_type": "execute_result"
    }
   ],
   "source": [
    "cats_df['color'].value_counts()"
   ]
  },
  {
   "cell_type": "markdown",
   "metadata": {},
   "source": [
    "We see there is quite a variety of different colors and similar to the listed breeds, there are at times two given colors. If we want to use this information in our visualizations and model, we need to clean up the data with some more feature engineering!"
   ]
  },
  {
   "cell_type": "markdown",
   "metadata": {
    "collapsed": true
   },
   "source": [
    "Since we are dealing with not just coat colors but coat patterns, such as calico, tabby, colorpoint, and others, it would make sense to break up the data into more useful information based on the given color and if a coat pattern is given. Luckily, there aren't too many coat patterns to deal with, and we can list them as with the breeds. An excellent resource to see what each coat pattern looks like can be found at the [University of Florida's Shelter Medicine](http://sheltermedicine.vetmed.ufl.edu/files/2011/11/identification-and-coat-colors-patterns.pdf) website."
   ]
  },
  {
   "cell_type": "code",
   "execution_count": 23,
   "metadata": {
    "collapsed": true
   },
   "outputs": [],
   "source": [
    "coat_patterns = ['tabby', 'tortie', 'tortoiseshell', 'calico', 'smoke', 'torbie',\n",
    "                 'colorpoint', 'point', 'brindle', 'agouti', 'bicolor', 'tricolor']"
   ]
  },
  {
   "cell_type": "markdown",
   "metadata": {},
   "source": [
    "We want to extract the given coat pattern and color information, one way of which is using a regex string in conjunction with pandas' [`str.extract`](https://pandas.pydata.org/pandas-docs/stable/generated/pandas.Series.str.extract.html)."
   ]
  },
  {
   "cell_type": "code",
   "execution_count": 24,
   "metadata": {
    "collapsed": true
   },
   "outputs": [],
   "source": [
    "# Create the regex string by joining the coat patterns with | and encapsulating them in parantheses\n",
    "coat_reg = '(' + '|'.join(coat_patterns) + ')'"
   ]
  },
  {
   "cell_type": "markdown",
   "metadata": {
    "collapsed": true
   },
   "source": [
    "The `color` column is converted to lower case, and if a coat pattern is given that matches one of the values in our list, it is extracted into a new column, `coat pattern`. We also remove the coat pattern from the `color` column, so we don't create duplicate values."
   ]
  },
  {
   "cell_type": "code",
   "execution_count": 25,
   "metadata": {
    "collapsed": true
   },
   "outputs": [],
   "source": [
    "cats_df['color'] = cats_df['color'].str.lower()\n",
    "\n",
    "cats_df['coat_pattern'] = cats_df['color'].str.extract(coat_reg, expand=False)\n",
    "\n",
    "cats_df['color'] = cats_df['color'].str.replace(coat_reg, '').str.strip()"
   ]
  },
  {
   "cell_type": "markdown",
   "metadata": {},
   "source": [
    "The transformed color column is then split into a two column DataFrame using the `.str.split()` method with the parameter `expand` set to `True`. This operation will create some empty values in the first color column, `color1`, as we removed some information from the original column earlier. These blank values would then be present only when a breed specific color, such as tabby, torbie or tortoiseshell, was given; therefore, we search for any rows in the `color1` column that are blank and change them to 'Breed Specific'. The extracted coat colors and patterns are then combined into a new column, `coat`."
   ]
  },
  {
   "cell_type": "code",
   "execution_count": 26,
   "metadata": {
    "collapsed": true
   },
   "outputs": [],
   "source": [
    "cats_df = pd.concat([cats_df, \n",
    "                     cats_df['color'].str.split('/', expand=True).rename(columns={0:'color1', 1:'color2'})], axis=1)\n",
    "\n",
    "cats_df['color1'] = np.where(cats_df['color1'] == '', 'Breed Specific', cats_df['color1'])\n",
    "\n",
    "cats_df['coat'] = np.where(cats_df['color1'] == 'Breed Specific', cats_df['coat_pattern'], cats_df['color1'])"
   ]
  },
  {
   "cell_type": "markdown",
   "metadata": {},
   "source": [
    "## Conclusion"
   ]
  },
  {
   "cell_type": "markdown",
   "metadata": {},
   "source": [
    "That wraps up the feature engineering portion of our data analysis task! Although add more features to the data can be somewhat tedious, it can result in a much-improved model for prediction of outcomes. The process of feature engineering also allows the individual analyst or data scientist working with the data to apply their domain knowledge to the data to enrich its information.\n",
    "\n",
    "As a final step, we save the new data with the added features into a `csv` that we will use in the following steps of analyzing the shelter outcome data."
   ]
  },
  {
   "cell_type": "code",
   "execution_count": 27,
   "metadata": {
    "collapsed": true
   },
   "outputs": [],
   "source": [
    "cats_df.to_csv('../../data/cats_df_clean.csv', index=False, encoding='utf-8')"
   ]
  },
  {
   "cell_type": "markdown",
   "metadata": {},
   "source": [
    "The next step in the analysis is to visualize the data and hopefully generate any hypotheses and features that appear to have a significant impact on the outcome of the cat."
   ]
  },
  {
   "cell_type": "markdown",
   "metadata": {},
   "source": [
    "## References"
   ]
  },
  {
   "cell_type": "markdown",
   "metadata": {
    "collapsed": true
   },
   "source": [
    "http://sheltermedicine.vetmed.ufl.edu/files/2011/11/identification-and-coat-colors-patterns.pdf\n",
    "\n",
    "http://cfa.org/Breeds.aspx"
   ]
  }
 ],
 "metadata": {
  "kernelspec": {
   "display_name": "Python 3",
   "language": "python",
   "name": "python3"
  },
  "language_info": {
   "codemirror_mode": {
    "name": "ipython",
    "version": 3
   },
   "file_extension": ".py",
   "mimetype": "text/x-python",
   "name": "python",
   "nbconvert_exporter": "python",
   "pygments_lexer": "ipython3",
   "version": "3.7.6"
  }
 },
 "nbformat": 4,
 "nbformat_minor": 2
}
