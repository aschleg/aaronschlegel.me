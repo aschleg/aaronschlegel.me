{
 "cells": [
  {
   "cell_type": "markdown",
   "metadata": {},
   "source": [
    "Integration by parts is another technique for simplifying integrands. As we saw in previous posts, each differentiation rule has a corresponding integration rule. In the case of integration by parts, the corresponding differentiation rule is the Product Rule. The technique of integration by parts allows us to simplify integrands of the form:\n",
    "$$ \\int f(x) g(x) dx $$"
   ]
  },
  {
   "cell_type": "markdown",
   "metadata": {},
   "source": [
    "Examples of this form include:\n",
    "$$ \\int x \\cos{x} \\space dx, \\qquad \\int e^x \\cos{x} \\space dx, \\qquad \\int x^2 e^x \\space dx $$\n",
    "\n",
    "As integration by parts is the product rule applied to integrals, it helps to state the Product Rule again. The Product Rule is defined as:\n",
    "$$ \\frac{d}{dx} \\big[ f(x)g(x) \\big] = f^{\\prime}(x) g(x) + f(x) g^{\\prime}(x) $$\n",
    "\n",
    "When we apply the product rule to indefinite integrals, we can restate the rule as:\n",
    "\n",
    "$$ \\int \\frac{d}{dx} \\big[f(x)g(x)\\big] \\space dx = \\int \\big[f^{\\prime} g(x) + f(x) g^{\\prime}(x) \\big] \\space dx $$\n",
    "\n",
    "Then, rearranging so we get $f(x)g^{\\prime}(x) \\space dx$ on the left side of the equation:\n",
    "\n",
    "$$ \\int f(x)g^{\\prime}(x) \\space dx = \\int \\frac{d}{dx} \\big[f(x)g(x)\\big] \\space dx - \\int f^{\\prime}(x)g(x) \\space dx $$\n",
    "\n",
    "Which gives us the integration by parts formula! The formula is typically written in differential form:\n",
    "\n",
    "$$ \\int u \\space dv = uv - \\int v \\space du $$"
   ]
  },
  {
   "cell_type": "markdown",
   "metadata": {},
   "source": [
    "## Examples\n",
    "\n",
    "The following examples walkthrough several problems that can be solved using integration by parts. We also employ the wonderful [SymPy](https://www.sympy.org/en/index.html) package for symbolic computation to confirm our answers. To use SymPy later to verify our answers, we load the modules we will require and initialize several variables for use with the SymPy library."
   ]
  },
  {
   "cell_type": "code",
   "execution_count": 1,
   "metadata": {},
   "outputs": [],
   "source": [
    "from sympy import symbols, limit, diff, sin, cos, log, tan, sqrt, init_printing, plot, integrate\n",
    "from mpmath import ln, e, pi, cosh, sinh\n",
    "\n",
    "init_printing()\n",
    "x = symbols('x')\n",
    "y = symbols('y')"
   ]
  },
  {
   "cell_type": "markdown",
   "metadata": {},
   "source": [
    "Example 1: Evaluate the integrand $ \\int x \\sin{\\frac{x}{2}} \\space dx $\n",
    "\n",
    "Recalling the differential form of the integration by parts formula, $ \\int u \\space dv = uv - \\int v \\space du $, we set $u = x$ and $dv = \\sin{\\frac{x}{2}}$\n",
    "\n",
    "Solving for the derivative of $u$, we arrive at $du = 1 \\space dx = dx$. Next, we find the antiderivative of $dv$. To find this antiderivative, we employ the Substitution Rule.\n",
    "\n",
    "$$ u = \\frac{1}{2}x, \\qquad du = {1}{2} \\space dx, \\qquad \\frac{du}{dx} = 2 $$\n",
    "$$ y = \\sin{u}, \\qquad dy = -\\cos{u} \\space du, \\qquad \\frac{dy}{du} = -\\cos{u} $$\n",
    "\n",
    "Therefore, $v = -2 \\cos{\\frac{x}{2}}$\n",
    "\n",
    "Entering these into the integration by parts formula:\n",
    "\n",
    "$$ -2x\\cos{\\frac{x}{2}} - (-2)\\int \\cos{\\frac{x}{2}} $$\n",
    "\n",
    "Then, solving for the integrand $\\int \\cos{\\frac{x}{2}}$, we employ the Substitution Rule again as before to arrive at $2\\sin{\\frac{x}{2}}$ (the steps in solving this integrand are the same as before when we solved for $\\int \\sin{\\frac{x}{2}}$). Thus, the integral is evaluated as:\n",
    "\n",
    "$$ -2x\\cos{\\frac{x}{2}} + 4\\sin{\\frac{x}{2}} + C $$\n",
    "\n",
    "Using SymPy's [`integrate`](https://docs.sympy.org/latest/modules/integrals/integrals.html), we can verify our answer is correct (SymPy does not include the constant of integration $C$)."
   ]
  },
  {
   "cell_type": "code",
   "execution_count": 2,
   "metadata": {},
   "outputs": [
    {
     "data": {
      "image/png": "[encoded data removed]",
      "text/latex": [
       "$$- 2 x \\cos{\\left (\\frac{x}{2} \\right )} + 4 \\sin{\\left (\\frac{x}{2} \\right )}$$"
      ],
      "text/plain": [
       "         ⎛x⎞        ⎛x⎞\n",
       "- 2⋅x⋅cos⎜─⎟ + 4⋅sin⎜─⎟\n",
       "         ⎝2⎠        ⎝2⎠"
      ]
     },
     "execution_count": 2,
     "metadata": {},
     "output_type": "execute_result"
    }
   ],
   "source": [
    "integrate(x * sin(x / 2), x)"
   ]
  },
  {
   "cell_type": "markdown",
   "metadata": {},
   "source": [
    "Example 2: Evaluate $\\int t^2 \\cos{t} \\space dt$\n",
    "\n",
    "We start by setting $u = t^2$ and $dv = \\cos{t}$. The derivative of $t^2$ is $2t$, thus $du = 2t \\space dt$, or $\\frac{du}{dt} = 2t$. Integrating $dv = \\cos{t}$ gives us $v = \\sin{t} \\space du$. Entering these into the integration by parts formula:\n",
    "\n",
    "$$ t^2 \\sin{t} - 2\\int t \\sin{t} $$\n",
    "\n",
    "Therefore, we must do another round of integration by parts to solve $\\int t \\sin{t}$.\n",
    "\n",
    "$$ u = t, \\qquad du = dt $$ \n",
    "$$ dv = \\sin{t}, \\qquad v = -\\cos{t} \\space du $$\n",
    "\n",
    "Putting these together into the integration by parts formula with the above:\n",
    "\n",
    "$$ t^2 \\sin{t} - 2 \\big(-t \\cos{t} + \\int \\cos{t} \\space dt \\big) $$\n",
    "\n",
    "Which gives us the solution: \n",
    "\n",
    "$$ t^2 \\sin{t} + 2t \\cos{t} - 2 \\sin{t} + C$$\n",
    "\n",
    "As before, we can verify that our answer is correct by leveraging SymPy."
   ]
  },
  {
   "cell_type": "code",
   "execution_count": 6,
   "metadata": {},
   "outputs": [
    {
     "data": {
      "image/png": "[encoded data removed]",
      "text/latex": [
       "$$t^{2} \\sin{\\left (t \\right )} + 2 t \\cos{\\left (t \\right )} - 2 \\sin{\\left (t \\right )}$$"
      ],
      "text/plain": [
       " 2                               \n",
       "t ⋅sin(t) + 2⋅t⋅cos(t) - 2⋅sin(t)"
      ]
     },
     "execution_count": 6,
     "metadata": {},
     "output_type": "execute_result"
    }
   ],
   "source": [
    "t = symbols('t')\n",
    "integrate(t ** 2 * cos(t), t)"
   ]
  },
  {
   "cell_type": "markdown",
   "metadata": {},
   "source": [
    "Example 3: $\\int x e^x \\space dx$\n",
    "\n"
   ]
  },
  {
   "cell_type": "markdown",
   "metadata": {},
   "source": [
    "Here, we set $u = x$ and $dv = e^x$. Therefore, $du = dx$ and $v = e^x \\space dx$. Putting these together in the integration by parts formula:\n",
    "\n",
    "$$ xe^x - \\int e^x $$\n",
    "\n",
    "As the integral of $e^x$ is just $e^x$, our answer is:\n",
    "\n",
    "$$ xe^x - e^x + C $$\n",
    "\n",
    "We can again verify our answer is accurate using SymPy."
   ]
  },
  {
   "cell_type": "code",
   "execution_count": 7,
   "metadata": {},
   "outputs": [
    {
     "data": {
      "image/png": "[encoded data removed]",
      "text/latex": [
       "$$2.71828182845905^{x} \\left(1.0 x - 1.0\\right)$$"
      ],
      "text/plain": [
       "                x              \n",
       "2.71828182845905 ⋅(1.0⋅x - 1.0)"
      ]
     },
     "execution_count": 7,
     "metadata": {},
     "output_type": "execute_result"
    }
   ],
   "source": [
    "integrate(x * e ** x, x)"
   ]
  },
  {
   "cell_type": "markdown",
   "metadata": {},
   "source": [
    "## References"
   ]
  },
  {
   "cell_type": "markdown",
   "metadata": {},
   "source": [
    "[Hass, J. and Weir, M. (n.d.). Thomas' calculus. 13th ed.](https://amzn.to/2SuuPOz)\n",
    "\n",
    "[Stewart, J. (2007). Essential calculus: Early transcendentals. Belmont, CA: Thomson Higher Education.](https://amzn.to/38dnRV0)"
   ]
  }
 ],
 "metadata": {
  "kernelspec": {
   "display_name": "Python 3",
   "language": "python",
   "name": "python3"
  },
  "language_info": {
   "codemirror_mode": {
    "name": "ipython",
    "version": 3
   },
   "file_extension": ".py",
   "mimetype": "text/x-python",
   "name": "python",
   "nbconvert_exporter": "python",
   "pygments_lexer": "ipython3",
   "version": "3.7.4"
  }
 },
 "nbformat": 4,
 "nbformat_minor": 2
}
