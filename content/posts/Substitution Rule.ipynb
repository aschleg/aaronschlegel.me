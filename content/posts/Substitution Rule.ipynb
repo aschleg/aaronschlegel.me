{
 "cells": [
  {
   "cell_type": "markdown",
   "metadata": {},
   "source": [
    "The Substitution Rule is another technique for integrating complex functions and is the corresponding process of integration as the chain rule is to differentiation.\n",
    "\n",
    "The Substitution Rule is applicable to a wide variety of integrals, but is most performant when the integral in question is of the form:\n",
    "\n",
    "$$ \\int F\\big(g(x)\\big) g^\\prime (x) \\space dx $$\n",
    "\n",
    "Which is similar in form to the Chain Rule:\n",
    "\n",
    "$$ \\frac{d}{dx} \\big[ F\\big(x\\big)\\big] = F^\\prime \\big(g(x)\\big) g^\\prime(x) $$\n",
    "\n",
    "Expressing the function $g(x)$ more compactly as $u = g(x)$, we make a 'substitution', which gives:\n",
    "\n",
    "$$ \\int F^\\prime \\big(g(x)\\big) g^\\prime(x) \\space dx = F\\big(g(x)\\big) + C $$\n",
    "\n",
    "$$ = F(u) + C = \\int F^\\prime (u) \\space du $$\n",
    "\n",
    "Or,\n",
    "\n",
    "$$ \\int f(u) \\space u^\\prime \\space dx = \\int f(u) \\space du $$\n",
    "\n",
    "We can also write the substitution by replacing $F^\\prime = f$:\n",
    "\n",
    "$$ \\int f\\big(g(x)\\big) g^\\prime (x) \\space dx = \\int f(u) \\space du $$"
   ]
  },
  {
   "cell_type": "markdown",
   "metadata": {},
   "source": [
    "Concisely stated, the Substitution Rule for Indefinite Integrals can be defined as:\n",
    "\n",
    "If $u = g(x)$ is a differentiable function on an interval $[a, b]$ and $f$ is continutous on that interval, then:\n",
    "\n",
    "$$ \\int f\\big(g(x)\\big) g^\\prime (x) \\space dx = \\int f(u) \\space du $$"
   ]
  },
  {
   "cell_type": "markdown",
   "metadata": {},
   "source": [
    "## The Substitution Rule for Definite Integrals"
   ]
  },
  {
   "cell_type": "markdown",
   "metadata": {},
   "source": [
    "The Substitution Rule for Definite Integrals is similar to the case of indefinite integrals; however, we make sure to specify that $f$ must be a continuous function on the range of $u$. The definition for the definite integral case is thus a slight restatement of the indefinite integral case:\n",
    "\n",
    "If $g^\\prime$ is continuous on an interval $[a, b]$ and $f$ is continuous on the range of $u = g(x)$, then:\n",
    "\n",
    "$$ \\int_a^b f\\big(g(x)\\big) g^\\prime \\space dx = \\int_{g(a)}^{g(b)} f(u) \\space du $$"
   ]
  },
  {
   "cell_type": "markdown",
   "metadata": {},
   "source": [
    "## Substitution Rule for Simplifying Symmetric Integrals"
   ]
  },
  {
   "cell_type": "markdown",
   "metadata": {},
   "source": [
    "Another interesting use for the Substitution Rule for Definite Integrals is the simplification of even and odd functions. Even functions are defined as:\n",
    "\n",
    "$$ f(-x) = f(x) $$\n",
    "\n",
    "While odd functions are defined as:\n",
    "\n",
    "$$ f(x) = -f(x) $$\n",
    "\n",
    "The integrals of definite even and odd functions can be simplified based onthe following definitions. Assuming the function $f$ is continuous on an interval $[-a, a]$:\n",
    "\n",
    "* If $f$ is even, then $\\int_{-a}^a \\space f(x) \\space dx = 2 \\int_0^a f(x) \\space dx$\n",
    "* If $f$ is odd, then $\\int_{-a}^a \\space f(x) \\space dx = 0$"
   ]
  },
  {
   "cell_type": "markdown",
   "metadata": {},
   "source": [
    "## Examples"
   ]
  },
  {
   "cell_type": "code",
   "execution_count": 4,
   "metadata": {
    "collapsed": true
   },
   "outputs": [],
   "source": [
    "from sympy import symbols, limit, diff, sin, cos, log, tan, sqrt, init_printing, plot, integrate, sinh, simplify\n",
    "from mpmath import ln, e, pi\n",
    "\n",
    "init_printing()\n",
    "x = symbols('x')\n",
    "y = symbols('y')"
   ]
  },
  {
   "cell_type": "markdown",
   "metadata": {},
   "source": [
    "### Example 1: Compute the indefinite integral $\\int x \\sin{x^2} \\space dx$"
   ]
  },
  {
   "cell_type": "markdown",
   "metadata": {},
   "source": [
    "We choose the substitution $u = x^2$, therefore:\n",
    "\n",
    "$$ du = 2x \\space dx $$\n",
    "\n",
    "$$ dx = \\frac{1}{2} \\frac{du}{x} $$\n",
    "\n",
    "We then proceed to substitute $u$ into the original integral and solve:\n",
    "\n",
    "$$ \\int x \\sin{u} \\space dx $$\n",
    "\n",
    "$$ \\int \\big(x \\sin{u} \\big) \\big(\\frac{1}{2} \\frac{du}{x} \\big) $$\n",
    "\n",
    "Factor out the $\\frac{1}{2}$ and cancel the $x$:\n",
    "\n",
    "$$ \\frac{1}{2} \\int \\sin{u} \\space du $$\n",
    "\n",
    "Integrating $\\sin{u}$ with respect to $u$ yields $-\\cos{u}$. Lastly, replace $u$ with $x^2$ and add the constant of integration:\n",
    "\n",
    "$$ -\\frac{1}{2} \\cos{x^2} + C$$"
   ]
  },
  {
   "cell_type": "markdown",
   "metadata": {},
   "source": [
    "We can verify our solution using SymPy's `integrate()` function."
   ]
  },
  {
   "cell_type": "code",
   "execution_count": 2,
   "metadata": {},
   "outputs": [
    {
     "data": {
      "image/png": "[encoded data removed]",
      "text/latex": [
       "$$- \\frac{1}{2} \\cos{\\left (x^{2} \\right )}$$"
      ],
      "text/plain": [
       "    ⎛ 2⎞ \n",
       "-cos⎝x ⎠ \n",
       "─────────\n",
       "    2    "
      ]
     },
     "execution_count": 2,
     "metadata": {},
     "output_type": "execute_result"
    }
   ],
   "source": [
    "integrate(x * sin(x ** 2), x)"
   ]
  },
  {
   "cell_type": "markdown",
   "metadata": {},
   "source": [
    "### Example 2: Integrate the indefinite integral $\\int (3x - 2)^{20} \\space dx$"
   ]
  },
  {
   "cell_type": "markdown",
   "metadata": {},
   "source": [
    "This would be quite the chore of an integral to solve without the Substitution Rule! Start by choosing to substitute $u = 3x - 2$. Thus,\n",
    "\n",
    "$$ u = 3x - 2, \\qquad du = 3 \\space dx, \\qquad dx = \\frac{1}{3} du $$\n",
    "\n",
    "As before, we replace $dx$ back into the integral:\n",
    "\n",
    "$$ \\int (u)^{20} \\bigg(\\frac{1}{3} du \\bigg) $$\n",
    "\n",
    "Factor out $\\frac{1}{3}$ and compute the integral:\n",
    "\n",
    "$$ \\frac{1}{3} \\int u^{20} $$\n",
    "\n",
    "$$ \\bigg(\\frac{1}{3} \\bigg) \\bigg(\\frac{1}{21} u^{21} \\bigg) $$\n",
    "\n",
    "Then cleaning up the terms and replacing $3x - 2$ back into the integral gives:\n",
    "\n",
    "$$ \\frac{1}{63} u^{21} $$\n",
    "\n",
    "$$ \\frac{1}{63} (3x - 2)^{21} + C $$"
   ]
  },
  {
   "cell_type": "markdown",
   "metadata": {},
   "source": [
    "Unfortunately, SymPy isn't much help in verifying this answer as it expands the polynomial and performs the integration."
   ]
  },
  {
   "cell_type": "code",
   "execution_count": 9,
   "metadata": {},
   "outputs": [
    {
     "data": {
      "image/png": "[encoded data removed]",
      "text/latex": [
       "$$\\frac{x}{7} \\left(1162261467 x^{20} - 16271660538 x^{19} + 108477736920 x^{18} - 458017111440 x^{17} + 1374051334320 x^{16} - 3114516357792 x^{15} + 5536917969408 x^{14} - 7909882813440 x^{13} + 9228196615680 x^{12} - 8886411555840 x^{11} + 7109129244672 x^{10} - 4739419496448 x^{9} + 2633010831360 x^{8} - 1215235768320 x^{7} + 462946959360 x^{6} - 144027942912 x^{5} + 36006985728 x^{4} - 7060193280 x^{3} + 1045954560 x^{2} - 110100480 x + 7340032\\right)$$"
      ],
      "text/plain": [
       "  ⎛            20                19                 18                 17     \n",
       "x⋅⎝1162261467⋅x   - 16271660538⋅x   + 108477736920⋅x   - 458017111440⋅x   + 13\n",
       "──────────────────────────────────────────────────────────────────────────────\n",
       "                                                                              \n",
       "\n",
       "             16                  15                  14                  13   \n",
       "74051334320⋅x   - 3114516357792⋅x   + 5536917969408⋅x   - 7909882813440⋅x   + \n",
       "──────────────────────────────────────────────────────────────────────────────\n",
       "                                                                              \n",
       "\n",
       "               12                  11                  10                  9  \n",
       "9228196615680⋅x   - 8886411555840⋅x   + 7109129244672⋅x   - 4739419496448⋅x  +\n",
       "──────────────────────────────────────────────────────────────────────────────\n",
       "                                 7                                            \n",
       "\n",
       "                8                  7                 6                 5      \n",
       " 2633010831360⋅x  - 1215235768320⋅x  + 462946959360⋅x  - 144027942912⋅x  + 360\n",
       "──────────────────────────────────────────────────────────────────────────────\n",
       "                                                                              \n",
       "\n",
       "          4               3               2                        ⎞\n",
       "06985728⋅x  - 7060193280⋅x  + 1045954560⋅x  - 110100480⋅x + 7340032⎠\n",
       "────────────────────────────────────────────────────────────────────\n",
       "                                                                    "
      ]
     },
     "execution_count": 9,
     "metadata": {},
     "output_type": "execute_result"
    }
   ],
   "source": [
    "simplify(integrate((3 * x - 2) ** 20, x))"
   ]
  },
  {
   "cell_type": "markdown",
   "metadata": {},
   "source": [
    "Luckily, as we know Integration by Substitution is the corresponding procedure for integration as the Chain Rule is for differentiation. Thus, we should arrive at the original function by performing the Chain Rule on the integrated function:\n",
    "\n",
    "$$ \\frac{dy}{dx} = \\frac{dy}{du} \\frac{du}{dx} $$\n",
    "\n",
    "$$ u = 3x - 2, \\qquad \\frac{du}{dx} = 3, \\qquad \\frac{dy}{du} = \\frac{21}{63}u^{20} = \\frac{1}{3}u^{20} $$\n",
    "\n",
    "$$ F^\\prime (x) = \\bigg( \\frac{1}{3}(3x - 2)^{20} \\bigg) \\bigg( 3 \\bigg)$$\n",
    "\n",
    "$$ = (3x - 2)^{20} $$"
   ]
  },
  {
   "cell_type": "markdown",
   "metadata": {},
   "source": [
    "### Example 3: $\\int (x + 1) \\sqrt{2x + x^2} \\space dx$"
   ]
  },
  {
   "cell_type": "markdown",
   "metadata": {},
   "source": [
    "Choose $u = 2x + x^2$. Therefore,\n",
    "\n",
    "$$ du = 2 + 2x \\space dx, \\qquad dx = \\frac{du}{2 + 2x} $$\n",
    "\n",
    "Factor out the $\\frac{1}{2}$ and find the integral:\n",
    "\n",
    "$$ \\frac{1}{2} \\int \\sqrt{u} \\space du = \\frac{2}{3}u^{\\frac{3}{2}} $$\n",
    "\n",
    "Then,\n",
    "\n",
    "$$ \\bigg(\\frac{1}{2} \\bigg) \\bigg( \\frac{2}{3}u^{\\frac{3}{2}} \\bigg) $$\n",
    "\n",
    "$$ \\frac{1}{3} (2x + x^2)^{\\frac{3}{2}} $$\n",
    "\n",
    "Or, rewritten with an $x$ term factored:\n",
    "\n",
    "$$ \\frac{1}{3} \\bigg(x (x + 2) \\bigg)^\\frac{3}{2} $$"
   ]
  },
  {
   "cell_type": "code",
   "execution_count": 8,
   "metadata": {},
   "outputs": [
    {
     "data": {
      "image/png": "[encoded data removed]",
      "text/latex": [
       "$$\\frac{1}{3} \\left(x \\left(x + 2\\right)\\right)^{\\frac{3}{2}}$$"
      ],
      "text/plain": [
       "           3/2\n",
       "(x⋅(x + 2))   \n",
       "──────────────\n",
       "      3       "
      ]
     },
     "execution_count": 8,
     "metadata": {},
     "output_type": "execute_result"
    }
   ],
   "source": [
    "simplify(integrate((x + 1) * sqrt(2 * x + x ** 2), x))"
   ]
  },
  {
   "cell_type": "markdown",
   "metadata": {},
   "source": [
    "### Example 4: Integrate $\\int \\sin{\\pi x} \\space dx$"
   ]
  },
  {
   "cell_type": "markdown",
   "metadata": {},
   "source": [
    "We choose the substitution $u = \\pi x$.\n",
    "\n",
    "$$ du = \\pi \\space dx, \\qquad dx = \\frac{du}{\\pi} $$\n",
    "\n",
    "$$ \\int \\sin{u} \\space du = -\\cos{u} $$\n",
    "\n",
    "$$ \\bigg(-\\cos{u} \\bigg) \\bigg(\\frac{du}{\\pi} \\bigg) $$\n",
    "\n",
    "$$ -\\frac{1}{\\pi} \\cos{\\pi x} $$"
   ]
  },
  {
   "cell_type": "code",
   "execution_count": 12,
   "metadata": {},
   "outputs": [
    {
     "data": {
      "image/png": "[encoded data removed]",
      "text/latex": [
       "$$- 0.318309886183791 \\cos{\\left (3.14159265358979 x \\right )}$$"
      ],
      "text/plain": [
       "-0.318309886183791⋅cos(3.14159265358979⋅x)"
      ]
     },
     "execution_count": 12,
     "metadata": {},
     "output_type": "execute_result"
    }
   ],
   "source": [
    "integrate(sin(pi * x), x)"
   ]
  },
  {
   "cell_type": "markdown",
   "metadata": {},
   "source": [
    "### Example 5: Integrate $\\int e^x \\sqrt{1 + e^x} \\space dx$"
   ]
  },
  {
   "cell_type": "markdown",
   "metadata": {},
   "source": [
    "Start by substituting $u = 1 + e^x$.\n",
    "\n",
    "$$ du = e^x \\space dx, \\qquad dx = \\frac{du}{e^x} $$\n",
    "\n",
    "$$ \\int \\sqrt{u} = \\frac{2}{3} u^\\frac{3}{2} $$\n",
    "\n",
    "$$ \\big(e^x \\big) \\bigg(\\sqrt{u} \\bigg) \\space dx $$\n",
    "\n",
    "$$ \\big(e^x \\big) \\bigg(\\sqrt{u} \\bigg) \\space \\frac{du}{e^x} $$\n",
    "\n",
    "$$ \\int \\sqrt{u} \\space du $$\n",
    "\n",
    "$$ \\frac{2}{3}u^\\frac{3}{2} $$\n",
    "\n",
    "$$ \\frac{2}{3} \\big(1 + e^x \\big)^\\frac{3}{2} $$"
   ]
  },
  {
   "cell_type": "code",
   "execution_count": 13,
   "metadata": {},
   "outputs": [
    {
     "data": {
      "image/png": "[encoded data removed]",
      "text/latex": [
       "$$0.666666666666667 \\cdot 2.71828182845905^{x} \\sqrt{2.71828182845905^{x} + 1} + 0.666666666666667 \\sqrt{2.71828182845905^{x} + 1}$$"
      ],
      "text/plain": [
       "                                       _______________________                \n",
       "                                  x   ╱                 x                     \n",
       "0.666666666666667⋅2.71828182845905 ⋅╲╱  2.71828182845905  + 1  + 0.66666666666\n",
       "\n",
       "        _______________________\n",
       "       ╱                 x     \n",
       "6667⋅╲╱  2.71828182845905  + 1 "
      ]
     },
     "execution_count": 13,
     "metadata": {},
     "output_type": "execute_result"
    }
   ],
   "source": [
    "integrate(e ** x * sqrt(1 + e ** x), x)"
   ]
  },
  {
   "cell_type": "markdown",
   "metadata": {},
   "source": [
    "## References"
   ]
  },
  {
   "cell_type": "markdown",
   "metadata": {},
   "source": [
    "Even and odd functions. (2018, January 22). In Wikipedia, The Free Encyclopedia. From https://en.wikipedia.org/w/index.php?title=Even_and_odd_functions&oldid=821721060\n",
    "\n",
    "[Stewart, J. (2007). Essential calculus: Early transcendentals. Belmont, CA: Thomson Higher Education.](https://amzn.to/38dnRV0)"
   ]
  }
 ],
 "metadata": {
  "kernelspec": {
   "display_name": "Python 3",
   "language": "python",
   "name": "python3"
  },
  "language_info": {
   "codemirror_mode": {
    "name": "ipython",
    "version": 3
   },
   "file_extension": ".py",
   "mimetype": "text/x-python",
   "name": "python",
   "nbconvert_exporter": "python",
   "pygments_lexer": "ipython3",
   "version": "3.7.4"
  }
 },
 "nbformat": 4,
 "nbformat_minor": 2
}
