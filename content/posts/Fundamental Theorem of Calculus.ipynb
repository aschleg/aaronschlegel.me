{
 "cells": [
  {
   "cell_type": "markdown",
   "metadata": {},
   "source": [
    "The Fundamental Theorem of Calculus is a theorem that connects the two branches of calculus, differential and integral, into a single framework. We saw the computation of antiderivatives previously is the same process as integration; thus we know that differentiation and integration are inverse processes. The Fundamental Theorem of Calculus formalizes this connection. The theorem is given in two parts."
   ]
  },
  {
   "cell_type": "markdown",
   "metadata": {},
   "source": [
    "### First Fundamental Theorem of Calculus"
   ]
  },
  {
   "cell_type": "markdown",
   "metadata": {},
   "source": [
    "The first Fundamental Theorem of Calculus states:\n",
    "\n",
    "If $f$ is continuous on an interval $[a, b]$, then the function $g$ defined by:\n",
    "\n",
    "$$ g(x) = \\int_a^x f(t) \\space dt \\qquad a \\leq x \\leq b $$\n",
    "\n",
    "is continuous on the interval $[a, b]$ and differentiable on $(a,b)$ and $g^\\prime(x) = f(x)$."
   ]
  },
  {
   "cell_type": "markdown",
   "metadata": {},
   "source": [
    "### Second Fundamental Theorem of Calculus"
   ]
  },
  {
   "cell_type": "markdown",
   "metadata": {},
   "source": [
    "The second Fundamental Theorem of Calculus states:\n",
    "\n",
    "If $f$ is continuous on the interval $[a, b]$ then:\n",
    "\n",
    "$$ \\int_a^b f(x) \\space dx = F(b) -  F(a) $$\n",
    "\n",
    "Where $F$ is any antiderivative of $f$"
   ]
  },
  {
   "cell_type": "markdown",
   "metadata": {},
   "source": [
    "## Examples"
   ]
  },
  {
   "cell_type": "code",
   "execution_count": 2,
   "metadata": {
    "collapsed": true
   },
   "outputs": [],
   "source": [
    "from sympy import symbols, limit, diff, sin, cos, log, tan, sqrt, init_printing, plot, integrate\n",
    "from mpmath import ln, e, pi\n",
    "\n",
    "init_printing()\n",
    "x = symbols('x')\n",
    "y = symbols('y')"
   ]
  },
  {
   "cell_type": "markdown",
   "metadata": {},
   "source": [
    "### Example 1: Evaluate the integral: $\\int_{-1}^2 (x^3 - 2x) \\space dx$"
   ]
  },
  {
   "cell_type": "markdown",
   "metadata": {},
   "source": [
    "Applying the second part of the Fundamental Theorem of Calculus, we take the antiderivative of the function and evaluate the integral.\n",
    "\n",
    "$$ \\int_{-1}^2 (x^3 - 2x) \\space dx = \\frac{1}{4} x^4 - x^2 \\Bigg\\rvert_{-1}^2 $$\n",
    "\n",
    "$$ = \\frac{1}{4} (-1)^4 - (-1)^2 - \\frac{1}{4} (2)^4 - (2)^2 = \\frac{3}{4} $$"
   ]
  },
  {
   "cell_type": "markdown",
   "metadata": {},
   "source": [
    "We can verify our answer using SymPy's `integrate()` function."
   ]
  },
  {
   "cell_type": "code",
   "execution_count": 3,
   "metadata": {},
   "outputs": [
    {
     "data": {
      "image/png": "[encoded data removed]",
      "text/latex": [
       "$$\\frac{3}{4}$$"
      ],
      "text/plain": [
       "3/4"
      ]
     },
     "execution_count": 3,
     "metadata": {},
     "output_type": "execute_result"
    }
   ],
   "source": [
    "integrate(x ** 3 - 2 * x, (x, -1, 2))"
   ]
  },
  {
   "cell_type": "markdown",
   "metadata": {},
   "source": [
    "### Example 2: Evaluate $\\int_1^4 (5 - 2x + 3x^2) \\space dx$"
   ]
  },
  {
   "cell_type": "markdown",
   "metadata": {},
   "source": [
    "As in the previous example, we take advantage of the second part of the Fundamental Theorem of Calculus:\n",
    "\n",
    "$$ \\int_1^4 (5 - 2x + 3x^2) \\space dx = 5x - x^2 + x^3 \\Bigg\\rvert_1^4 $$\n",
    "\n",
    "$$ = 5(4) - (4)^2 + (4)^3 - 5(1) - (1)^2 + (1)^3 = 63 $$"
   ]
  },
  {
   "cell_type": "code",
   "execution_count": 5,
   "metadata": {},
   "outputs": [
    {
     "data": {
      "image/png": "[encoded data removed]",
      "text/latex": [
       "$$63$$"
      ],
      "text/plain": [
       "63"
      ]
     },
     "execution_count": 5,
     "metadata": {},
     "output_type": "execute_result"
    }
   ],
   "source": [
    "integrate(5 - 2 * x + 3 * x ** 2, (x, 1, 4))"
   ]
  },
  {
   "cell_type": "markdown",
   "metadata": {},
   "source": [
    "### Example 3: Compute the integral $\\int_0^1 x^{\\frac{4}{5}} \\space dx$"
   ]
  },
  {
   "cell_type": "markdown",
   "metadata": {},
   "source": [
    "$$ \\int_0^1 x^{\\frac{4}{5}} \\space dx = \\frac{5}{9} x^{\\frac{9}{5}} \\Bigg\\rvert_0^1 $$\n",
    "\n",
    "$$ = \\frac{5}{9}(1)^\\frac{9}{5} - \\frac{5}{9}(0)^\\frac{9}{5} = \\frac{5}{9} $$"
   ]
  },
  {
   "cell_type": "code",
   "execution_count": 21,
   "metadata": {},
   "outputs": [
    {
     "data": {
      "image/png": "[encoded data removed]",
      "text/latex": [
       "$$0.555555555555556$$"
      ],
      "text/plain": [
       "0.555555555555556"
      ]
     },
     "execution_count": 21,
     "metadata": {},
     "output_type": "execute_result"
    }
   ],
   "source": [
    "integrate(x ** (4/5), (x, 0, 1)) # Returned result will be in decimal form."
   ]
  },
  {
   "cell_type": "markdown",
   "metadata": {},
   "source": [
    "### Example 4: Determine the integral $\\int_1^2 \\frac{3}{x^4} \\space dx$"
   ]
  },
  {
   "cell_type": "markdown",
   "metadata": {},
   "source": [
    "Rewriting the integral as $\\int_1^2 3x^{-4} \\space dx$:\n",
    "\n",
    "$$ \\int_1^2 3x^{-4} \\space dx = -x^{-3} = -\\frac{1}{x^3} \\Bigg\\rvert_1^2 $$\n",
    "\n",
    "$$ = -\\frac{1}{(2)^3} + \\frac{1}{(1)^3} = -\\frac{1}{8} + 1 = \\frac{7}{8} $$"
   ]
  },
  {
   "cell_type": "code",
   "execution_count": 11,
   "metadata": {},
   "outputs": [
    {
     "data": {
      "image/png": "[encoded data removed]",
      "text/latex": [
       "$$\\frac{7}{8}$$"
      ],
      "text/plain": [
       "7/8"
      ]
     },
     "execution_count": 11,
     "metadata": {},
     "output_type": "execute_result"
    }
   ],
   "source": [
    "integrate(3 / x ** 4, (x, 1, 2))"
   ]
  },
  {
   "cell_type": "markdown",
   "metadata": {},
   "source": [
    "### Example 5: Compute the integral $\\int_0^2 x(2 + x^5) \\space dx$"
   ]
  },
  {
   "cell_type": "markdown",
   "metadata": {},
   "source": [
    "Start by factoring:\n",
    "\n",
    "$$ \\int_0^2 2x + x^6 \\space dx = x^2 + \\frac{1}{7} x^7 \\Bigg\\rvert_0^2 $$\n",
    "\n",
    "$$ = (2)^2 + \\frac{1}{7} 2^7 - (0)^2 + \\frac{1}{7} (0)^7 = 4 + \\frac{128}{7} = \\frac{28}{7} + \\frac{128}{7} = \\frac{156}{7} $$"
   ]
  },
  {
   "cell_type": "code",
   "execution_count": 20,
   "metadata": {},
   "outputs": [
    {
     "data": {
      "image/png": "[encoded data removed]",
      "text/latex": [
       "$$\\frac{156}{7}$$"
      ],
      "text/plain": [
       "156/7"
      ]
     },
     "execution_count": 20,
     "metadata": {},
     "output_type": "execute_result"
    }
   ],
   "source": [
    "integrate(x * (2 + x ** 5), (x, 0, 2))"
   ]
  },
  {
   "cell_type": "markdown",
   "metadata": {},
   "source": [
    "## References"
   ]
  },
  {
   "cell_type": "markdown",
   "metadata": {},
   "source": [
    "Fundamental theorem of calculus. (2017, December 2). In Wikipedia, The Free Encyclopedia. From https://en.wikipedia.org/w/index.php?title=Fundamental_theorem_of_calculus&oldid=813270221\n",
    "\n",
    "[Stewart, J. (2007). Essential calculus: Early transcendentals. Belmont, CA: Thomson Higher Education.](https://amzn.to/38dnRV0)\n",
    "\n",
    "Weisstein, Eric W. \"Fundamental Theorems of Calculus.\" From MathWorld--A Wolfram Web Resource. http://mathworld.wolfram.com/FundamentalTheoremsofCalculus.html"
   ]
  }
 ],
 "metadata": {
  "kernelspec": {
   "display_name": "Python 3",
   "language": "python",
   "name": "python3"
  },
  "language_info": {
   "codemirror_mode": {
    "name": "ipython",
    "version": 3
   },
   "file_extension": ".py",
   "mimetype": "text/x-python",
   "name": "python",
   "nbconvert_exporter": "python",
   "pygments_lexer": "ipython3",
   "version": "3.7.4"
  }
 },
 "nbformat": 4,
 "nbformat_minor": 2
}
