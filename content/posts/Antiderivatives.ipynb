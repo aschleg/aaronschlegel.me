{
 "cells": [
  {
   "cell_type": "markdown",
   "metadata": {
    "collapsed": true
   },
   "source": [
    "Antiderivatives, which are also referred to as indefinite integrals or primitive functions, is essentially the opposite of a derivative (hence the name). More formally, an antiderivative $F$ is a function whose derivative is equivalent to the original function $f$, or stated more concisely: $F^\\prime(x) = f(x)$.\n",
    "\n",
    "The Fundamental Theorem of Calculus defines the relationship between differential and integral calculus. We will see later that an antiderivative can be thought of as a restatement of an indefinite integral. Therefore, the discussion of antiderivatives provides a nice segue from the differential to integral calculus."
   ]
  },
  {
   "cell_type": "markdown",
   "metadata": {
    "collapsed": true
   },
   "source": [
    "## Finding Antiderivatives"
   ]
  },
  {
   "cell_type": "markdown",
   "metadata": {},
   "source": [
    "The process of finding an antiderivative of a function is known as antidifferentiation and is the reverse of differentiating a function."
   ]
  },
  {
   "cell_type": "markdown",
   "metadata": {
    "collapsed": true
   },
   "source": [
    "For example, consider the function $f(x) = x^3$. The antiderivative of this function, $F(x)$, is $\\frac{1}{4} x^4 + C$. As antidifferentiation is the reverse operation of differentiation, we solve for the antiderivative by finding the original function before the differentiation took place. A constant $C$, known as the constant of integration, is added to the antiderivative as the derivative of any constant is $0$. The addition of the constant does not affect the correspondence of the original antiderivative. \n",
    "\n",
    "The general antiderivative of $f(x) = x^n$, valid when $n \\geq 0$, is:\n",
    "\n",
    "$$ F(x) = \\frac{x^{n+1}}{n+1} + C $$"
   ]
  },
  {
   "cell_type": "code",
   "execution_count": 2,
   "metadata": {
    "collapsed": true
   },
   "outputs": [],
   "source": [
    "from sympy import symbols, limit, diff, sin, cos, log, tan, sqrt, init_printing, plot, integrate\n",
    "from mpmath import ln, e, pi\n",
    "\n",
    "init_printing()\n",
    "x = symbols('x')\n",
    "y = symbols('y')"
   ]
  },
  {
   "cell_type": "markdown",
   "metadata": {},
   "source": [
    "We can confirm the antiderivative of the function $f(x) = x^3$ is $\\frac{1}{4}x^4 + C$ with SymPy using the `integrate()` function."
   ]
  },
  {
   "cell_type": "code",
   "execution_count": 3,
   "metadata": {},
   "outputs": [
    {
     "data": {
      "image/png": "[encoded data removed]",
      "text/latex": [
       "$$\\frac{x^{4}}{4}$$"
      ],
      "text/plain": [
       " 4\n",
       "x \n",
       "──\n",
       "4 "
      ]
     },
     "execution_count": 3,
     "metadata": {},
     "output_type": "execute_result"
    }
   ],
   "source": [
    "integrate(x ** 3, x)"
   ]
  },
  {
   "cell_type": "markdown",
   "metadata": {},
   "source": [
    "## Examples"
   ]
  },
  {
   "cell_type": "markdown",
   "metadata": {},
   "source": [
    "### Example 1: Find the antiderivative of $f(x) = x - 3$"
   ]
  },
  {
   "cell_type": "markdown",
   "metadata": {},
   "source": [
    "Using the general antiderivative form above:\n",
    "\n",
    "$$ F(x) = \\frac{1}{2} x^2 - 3x + C $$"
   ]
  },
  {
   "cell_type": "code",
   "execution_count": 13,
   "metadata": {},
   "outputs": [
    {
     "data": {
      "image/png": "[encoded data removed]",
      "text/latex": [
       "$$\\frac{x^{2}}{2} - 3 x$$"
      ],
      "text/plain": [
       " 2      \n",
       "x       \n",
       "── - 3⋅x\n",
       "2       "
      ]
     },
     "execution_count": 13,
     "metadata": {},
     "output_type": "execute_result"
    }
   ],
   "source": [
    "integrate(x - 3, x)"
   ]
  },
  {
   "cell_type": "markdown",
   "metadata": {},
   "source": [
    "### Example 2: Determine the antiderivative of the function $f(x) = \\frac{1}{2} + \\frac{3}{4} x^2 - \\frac{4}{5} x^3$"
   ]
  },
  {
   "cell_type": "markdown",
   "metadata": {},
   "source": [
    "Going left to right and performing the reverse of the differentiation operation:\n",
    "\n",
    "$$ F(x) = \\frac{1}{2} x + \\frac{1}{4} x^4 - \\frac{1}{5} x^4 + C $$"
   ]
  },
  {
   "cell_type": "code",
   "execution_count": 14,
   "metadata": {},
   "outputs": [
    {
     "data": {
      "image/png": "[encoded data removed]",
      "text/latex": [
       "$$- 0.2 x^{4} + 0.25 x^{3} + 0.25 x^{2}$$"
      ],
      "text/plain": [
       "       4         3         2\n",
       "- 0.2⋅x  + 0.25⋅x  + 0.25⋅x "
      ]
     },
     "execution_count": 14,
     "metadata": {},
     "output_type": "execute_result"
    }
   ],
   "source": [
    "integrate(x / 2 + (3 / 4) * x ** 2 - (4 / 5) * x ** 3, x)"
   ]
  },
  {
   "cell_type": "markdown",
   "metadata": {},
   "source": [
    "### Example 3: Find the antiderivative of the function $f(x) = (x + 1)(2x - 1)$"
   ]
  },
  {
   "cell_type": "markdown",
   "metadata": {},
   "source": [
    "Expanding the function then performing antidifferentiation:\n",
    "\n",
    "$$ f(x) = 2x^2 - x - 1 $$\n",
    "\n",
    "$$ F(x) = \\frac{2}{3} x^3 + \\frac{1}{2} x^2 - x + C $$"
   ]
  },
  {
   "cell_type": "code",
   "execution_count": 15,
   "metadata": {},
   "outputs": [
    {
     "data": {
      "image/png": "[encoded data removed]",
      "text/latex": [
       "$$\\frac{2 x^{3}}{3} + \\frac{x^{2}}{2} - x$$"
      ],
      "text/plain": [
       "   3    2    \n",
       "2⋅x    x     \n",
       "──── + ── - x\n",
       " 3     2     "
      ]
     },
     "execution_count": 15,
     "metadata": {},
     "output_type": "execute_result"
    }
   ],
   "source": [
    "integrate((x + 1) * (2 * x - 1), x)"
   ]
  },
  {
   "cell_type": "markdown",
   "metadata": {},
   "source": [
    "### Example 4: Find the antiderivative of the function $f(x) = \\frac{10}{x^9}$"
   ]
  },
  {
   "cell_type": "markdown",
   "metadata": {},
   "source": [
    "Rewriting the function as $f(x) = \\frac{10}{1} x^9$ and antidifferentiating:\n",
    "\n",
    "$$ F(x) = -\\frac{10}{8} x^{-8} = -\\frac{5}{4} x^{-8} $$"
   ]
  },
  {
   "cell_type": "code",
   "execution_count": 18,
   "metadata": {},
   "outputs": [
    {
     "data": {
      "image/png": "[encoded data removed]",
      "text/latex": [
       "$$- \\frac{5}{4 x^{8}}$$"
      ],
      "text/plain": [
       "-5  \n",
       "────\n",
       "   8\n",
       "4⋅x "
      ]
     },
     "execution_count": 18,
     "metadata": {},
     "output_type": "execute_result"
    }
   ],
   "source": [
    "integrate(10 / x ** 9, x)"
   ]
  },
  {
   "cell_type": "markdown",
   "metadata": {},
   "source": [
    "### Example 5: Find the antiderivative of $g(\\theta) = \\cos{\\theta} - 5\\sin{\\theta}$"
   ]
  },
  {
   "cell_type": "markdown",
   "metadata": {},
   "source": [
    "Antidifferentiate each piece of the function:\n",
    "\n",
    "$$ G(\\theta) = \\sin{\\theta} + 5\\cos{\\theta} $$"
   ]
  },
  {
   "cell_type": "code",
   "execution_count": 19,
   "metadata": {},
   "outputs": [
    {
     "data": {
      "image/png": "[encoded data removed]",
      "text/latex": [
       "$$\\sin{\\left (x \\right )} + 5 \\cos{\\left (x \\right )}$$"
      ],
      "text/plain": [
       "sin(x) + 5⋅cos(x)"
      ]
     },
     "execution_count": 19,
     "metadata": {},
     "output_type": "execute_result"
    }
   ],
   "source": [
    "integrate(cos(x) - 5 * sin(x))"
   ]
  },
  {
   "cell_type": "markdown",
   "metadata": {},
   "source": [
    "## References"
   ]
  },
  {
   "cell_type": "markdown",
   "metadata": {},
   "source": [
    "Antiderivative. (2017, December 29). In Wikipedia, The Free Encyclopedia. From https://en.wikipedia.org/w/index.php?title=Antiderivative&oldid=817529505\n",
    "\n",
    "Stewart, J. (2007). Essential calculus: Early transcendentals. Belmont, CA: Thomson Higher Education.\n",
    "\n",
    "Weisstein, Eric W. \"Constant of Integration.\" From MathWorld--A Wolfram Web Resource. http://mathworld.wolfram.com/ConstantofIntegration.html\n",
    "\n",
    "Weisstein, Eric W. \"Indefinite Integral.\" From MathWorld--A Wolfram Web Resource. http://mathworld.wolfram.com/IndefiniteIntegral.html"
   ]
  }
 ],
 "metadata": {
  "kernelspec": {
   "display_name": "Python 3",
   "language": "python",
   "name": "python3"
  },
  "language_info": {
   "codemirror_mode": {
    "name": "ipython",
    "version": 3
   },
   "file_extension": ".py",
   "mimetype": "text/x-python",
   "name": "python",
   "nbconvert_exporter": "python",
   "pygments_lexer": "ipython3",
   "version": "3.6.4"
  }
 },
 "nbformat": 4,
 "nbformat_minor": 2
}
