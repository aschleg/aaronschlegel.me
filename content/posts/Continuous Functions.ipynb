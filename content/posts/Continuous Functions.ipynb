{
 "cells": [
  {
   "cell_type": "markdown",
   "metadata": {},
   "source": [
    "# Continuous Functions"
   ]
  },
  {
   "cell_type": "markdown",
   "metadata": {},
   "source": [
    "A function is said to be continuous at a point $a$ if the following statements hold:"
   ]
  },
  {
   "cell_type": "markdown",
   "metadata": {},
   "source": [
    "* the function $f$ is defined at $a$\n",
    "* the limit $\\lim_{x \\to a} \\space f(x)$ exists\n",
    "* the limit is equal to $f(a)$, $\\lim_{x \\to a} \\space f(x) = f(a)$"
   ]
  },
  {
   "cell_type": "markdown",
   "metadata": {},
   "source": [
    "Continuity of a function can also be expressed more compactly by the statement: $f(x) \\to f(a) \\space \\text{as} \\space f \\to a$"
   ]
  },
  {
   "cell_type": "markdown",
   "metadata": {},
   "source": [
    "Some examples of functions with discontinuity at particular points include:"
   ]
  },
  {
   "cell_type": "markdown",
   "metadata": {},
   "source": [
    "$$ f(x) = \\frac{1}{x^2}, \\qquad f(x) = \\frac{x + 4}{(x - 1)(x - 8)}, \\qquad f(x) = \\frac{1}{x - 1} $$"
   ]
  },
  {
   "cell_type": "markdown",
   "metadata": {},
   "source": [
    "We can plot these functions to get a better understanding of where the discontinuity lay."
   ]
  },
  {
   "cell_type": "code",
   "execution_count": 3,
   "metadata": {
    "collapsed": true
   },
   "outputs": [],
   "source": [
    "import numpy as np\n",
    "import matplotlib.pyplot as plt"
   ]
  },
  {
   "cell_type": "code",
   "execution_count": 138,
   "metadata": {},
   "outputs": [
    {
     "data": {
      "image/png": "[encoded data removed]",
      "text/plain": [
       "<matplotlib.figure.Figure at 0x113a54d30>"
      ]
     },
     "metadata": {},
     "output_type": "display_data"
    }
   ],
   "source": [
    "def f1(x):\n",
    "    return 1.0 / x ** 2.0\n",
    "\n",
    "def f2(x):\n",
    "    return (x + 4.0) / ((x - 1.0) * (x - 8.0))\n",
    "\n",
    "def f3(x):\n",
    "    return 1 / (x - 1)\n",
    "\n",
    "fx1 = np.linspace(-2, 2, 1000)\n",
    "fx2 = np.linspace(6, 10, 100)\n",
    "fx3 = np.linspace(0, 2, 100)\n",
    "\n",
    "plt.figure(figsize=(14,5))\n",
    "plt.subplot(131)\n",
    "plt.plot(fx1, f1(x1), fx1, f1(fx1))\n",
    "plt.xlim([-1, 1])\n",
    "plt.ylim([-500, 9500])\n",
    "\n",
    "plt.subplot(132)\n",
    "plt.plot(fx2, f2(fx2), fx2, f2(fx2))\n",
    "\n",
    "plt.subplot(133)\n",
    "plt.plot(fx3, f3(fx3), fx3, f3(fx3))\n",
    "\n",
    "plt.show()"
   ]
  },
  {
   "cell_type": "markdown",
   "metadata": {},
   "source": [
    "Although `matplotlib` plots the line without any breaks, we see each graph has a point where the lines blow up and quickly approaches infinity in either the positive or negative direction."
   ]
  },
  {
   "cell_type": "markdown",
   "metadata": {},
   "source": [
    "Interestingly, and somewhat confusingly, although the functions above have a point of discontinuity, they are still said to be continuous functions. The key to this difference is that a function must be *defined* for all values of $a$. Because the functions cannot be defined at particular values of $x$ due to dividing by $0$, the functions are still continuous."
   ]
  },
  {
   "cell_type": "markdown",
   "metadata": {},
   "source": [
    "All polynomials are continuous anywhere in range $(-\\infty, \\infty)$. Also, any rational function, which has the form $\\frac{P(x)}{Q(x)}$ is continuous everywhere except for when $Q(x) = 0$."
   ]
  },
  {
   "cell_type": "markdown",
   "metadata": {},
   "source": [
    "Knowing the continuity of a function helps evaluate limits much quicker. For example, consider the function:"
   ]
  },
  {
   "cell_type": "markdown",
   "metadata": {},
   "source": [
    "$$ \\lim_{x \\to 4} \\space \\frac{5 + \\sqrt{x}}{\\sqrt{5 + x}} $$"
   ]
  },
  {
   "cell_type": "markdown",
   "metadata": {},
   "source": [
    "The function is rational, thus we know it is continuous everywhere except when $Q(x) = 0$. Thus, $x \\neq -5$ and we can solve the limit directly:"
   ]
  },
  {
   "cell_type": "markdown",
   "metadata": {},
   "source": [
    "$$ \\lim_{x \\to 4} \\space \\frac{5 + \\sqrt{x}}{\\sqrt{5 + x}} = \\lim_{x \\to 4} \\space f(x) = f(4) $$"
   ]
  },
  {
   "cell_type": "markdown",
   "metadata": {},
   "source": [
    "$$ = \\frac{5 + \\sqrt{4}}{\\sqrt{5 + 4}} = \\frac{7}{3} $$"
   ]
  },
  {
   "cell_type": "markdown",
   "metadata": {},
   "source": [
    "## Intermediate Value Theorem"
   ]
  },
  {
   "cell_type": "markdown",
   "metadata": {},
   "source": [
    "The Intermediate Value Theorem states that if a function $f$ is continuous in a closed interval $[a, b]$ and $n$ is a number between $f(a)$ and $f(b)$ (where $f(a) \\neq f(b)$), then there exists a number $c$ in the interval $(a, b)$ such that $f(c) = n$."
   ]
  },
  {
   "cell_type": "markdown",
   "metadata": {},
   "source": [
    "The Intermediate Value Theorem can be applied when locating the root of an equation. For example, we can locate the root of the following equation within the interval $[1, 2]$ (should one exist)."
   ]
  },
  {
   "cell_type": "markdown",
   "metadata": {},
   "source": [
    "$$ x^4 + x - 3 = 0 $$"
   ]
  },
  {
   "cell_type": "markdown",
   "metadata": {},
   "source": [
    "Plotting the function first can help us determine if there is a root in the given interval."
   ]
  },
  {
   "cell_type": "code",
   "execution_count": 164,
   "metadata": {},
   "outputs": [
    {
     "data": {
      "image/png": "[encoded data removed]",
      "text/plain": [
       "<matplotlib.figure.Figure at 0x113b57f60>"
      ]
     },
     "metadata": {},
     "output_type": "display_data"
    }
   ],
   "source": [
    "def f4(x):\n",
    "    return x ** 4 + x - 3\n",
    "\n",
    "xvals = np.linspace(1, 2, 100)\n",
    "y1 = (0, 0)\n",
    "\n",
    "plt.plot(xvals, f4(xvals))\n",
    "plt.plot((0, 1.15), (0, 0), 'r--')\n",
    "plt.plot((1.15, 1.15), (0,-5), 'r--')\n",
    "\n",
    "plt.xlim([1, 2])\n",
    "plt.ylim([-5, 15])\n",
    "plt.show()\n"
   ]
  },
  {
   "cell_type": "markdown",
   "metadata": {},
   "source": [
    "It appears the equation does have a root located in the interval $[1, 2]$. We can also show this with the Intermediate Value Theorem, we take $a = 1$, $b = 2$ and $n = 0$:"
   ]
  },
  {
   "cell_type": "markdown",
   "metadata": {},
   "source": [
    "$$ f(1) = (1)^4 + (1) - 3 = -1 < 0 $$"
   ]
  },
  {
   "cell_type": "markdown",
   "metadata": {},
   "source": [
    "$$ f(2) = (2)^4 + (1) - 3 = 14 > 0 $$"
   ]
  },
  {
   "cell_type": "markdown",
   "metadata": {},
   "source": [
    "Therefore, $f(1) < 0 < f(2)$ and $n$ is a number between $f(1)$ and $f(2)$. We can get a more accurate interval of where the root is located by setting a tighter interval around the location of the root and applying the Intermediate Value Theorem. Judging by the graph, the root appears to be located in the interval $[1.1, 1.2]$, which we can verify by setting $a = 1.1$, $b = 1.2$ and $n = 0$."
   ]
  },
  {
   "cell_type": "code",
   "execution_count": 166,
   "metadata": {},
   "outputs": [
    {
     "data": {
      "text/plain": [
       "(-0.4358999999999993, 0.27360000000000007)"
      ]
     },
     "execution_count": 166,
     "metadata": {},
     "output_type": "execute_result"
    }
   ],
   "source": [
    "(f4(1.1), f4(1.2))"
   ]
  },
  {
   "cell_type": "markdown",
   "metadata": {},
   "source": [
    "Thus, we now know the root is located in the interval $[-0.44, 0.27]$."
   ]
  },
  {
   "cell_type": "markdown",
   "metadata": {},
   "source": [
    "## References"
   ]
  },
  {
   "cell_type": "markdown",
   "metadata": {},
   "source": [
    "Continuous function. (2017, October 11). In Wikipedia, The Free Encyclopedia. From https://en.wikipedia.org/wiki/Continuous_function\n",
    "\n",
    "Stewart, J. (2007). Essential calculus: Early transcendentals. Belmont, CA: Thomson Higher Education.\n",
    "\n",
    "Strang, G. (2010). Calculus. Wellesley, MA: Wellesley-Cambridge."
   ]
  },
  {
   "cell_type": "code",
   "execution_count": null,
   "metadata": {
    "collapsed": true
   },
   "outputs": [],
   "source": []
  }
 ],
 "metadata": {
  "kernelspec": {
   "display_name": "Python 3",
   "language": "python",
   "name": "python3"
  },
  "language_info": {
   "codemirror_mode": {
    "name": "ipython",
    "version": 3
   },
   "file_extension": ".py",
   "mimetype": "text/x-python",
   "name": "python",
   "nbconvert_exporter": "python",
   "pygments_lexer": "ipython3",
   "version": "3.6.4"
  }
 },
 "nbformat": 4,
 "nbformat_minor": 2
}
