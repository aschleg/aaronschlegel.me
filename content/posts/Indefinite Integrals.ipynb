{
 "cells": [
  {
   "cell_type": "markdown",
   "metadata": {},
   "source": [
    "As we noted in the previous sections on the Fundamental Theorem of Calculus and Antiderivatives, indefinite integrals are also called antiderivatives and are the same process. Indefinite integrals are expressed without upper and lower limits on the integrand, the notation $\\int f(x)$ is used to denote the function as an antiderivative of $F$. Therefore, $\\int f(x) \\space dx = F^\\prime(x)$.\n",
    "\n",
    "For example, the integral $\\int x^3 \\space dx = \\frac{1}{4}x^4 + C$, just as we saw in the same example in the context of antiderivatives. The constant of integration is added to the result as before."
   ]
  },
  {
   "cell_type": "markdown",
   "metadata": {},
   "source": [
    "Below is a table of some of the more frequently occurring indefinite integrals.\n",
    "\n",
    "$$ \\int cf(x) \\space dx = c\\int f(x) \\space dx $$\n",
    "\n",
    "$$ \\int \\bigg[f(x) + g(x)\\bigg] dx = \\int f(x) dx + \\int g(x) dx $$\n",
    "\n",
    "$$ \\int k \\space dx = kx + C $$\n",
    "\n",
    "$$ \\int x^n \\space dx = \\frac{x^{n+1}}{n+1} + C \\qquad (n \\neq -1) $$\n",
    "\n",
    "$$ \\int \\frac{1}{x} \\space dx = \\ln{|x|} + C $$\n",
    "\n",
    "$$ \\int e^x \\space dx = e^x + C \\qquad \\int a^x \\space dx = \\frac{a^x}{\\ln{a}} + C $$\n",
    "\n",
    "$$ \\int \\sin{x} \\space dx = -\\cos{x} + C \\qquad \\int \\cos{x} \\space dx = \\sin{x} + C $$\n",
    "\n",
    "$$ \\int \\sec^2{x} \\space dx = \\tan{x} + C \\qquad \\int \\csc^2{x} \\space dx = -\\cot{x} + C $$\n",
    "\n",
    "$$ \\int \\frac{1}{x^2 + 1} \\space dx = \\tan^{-1}{x} + C \\qquad \\int \\frac{1}{\\sqrt{1-x^2}} \\space dx = \\sin^{-1}{x} + C $$\n",
    "\n",
    "$$ \\int \\sinh{x} \\space dx = \\cosh{x} + C \\qquad \\int \\cosh{x} \\space dx =  \\sinh{x} + C $$"
   ]
  },
  {
   "cell_type": "markdown",
   "metadata": {},
   "source": [
    "## Examples"
   ]
  },
  {
   "cell_type": "code",
   "execution_count": 9,
   "metadata": {
    "collapsed": true
   },
   "outputs": [],
   "source": [
    "from sympy import symbols, limit, diff, sin, cos, log, tan, sqrt, init_printing, plot, integrate, sinh\n",
    "from mpmath import ln, e, pi\n",
    "\n",
    "init_printing()\n",
    "x = symbols('x')\n",
    "y = symbols('y')"
   ]
  },
  {
   "cell_type": "markdown",
   "metadata": {},
   "source": [
    "### Example 1: Determine the general integral $\\int x^2 + x^{-2} \\space dx$"
   ]
  },
  {
   "cell_type": "markdown",
   "metadata": {},
   "source": [
    "We perform antidifferentiation of each term in the integral to compute the result:\n",
    "\n",
    "$$ \\int x^2 + x^{-2} \\space dx = \\frac{1}{3} x^3 - \\frac{1}{x} + C $$\n",
    "\n",
    "Confirm our result using SymPy's `integrate()` function."
   ]
  },
  {
   "cell_type": "code",
   "execution_count": 2,
   "metadata": {},
   "outputs": [
    {
     "data": {
      "image/png": "[encoded data removed]",
      "text/latex": [
       "$$\\frac{x^{3}}{3} - \\frac{1}{x}$$"
      ],
      "text/plain": [
       " 3    \n",
       "x    1\n",
       "── - ─\n",
       "3    x"
      ]
     },
     "execution_count": 2,
     "metadata": {},
     "output_type": "execute_result"
    }
   ],
   "source": [
    "integrate(x ** 2 + x ** -2, x)"
   ]
  },
  {
   "cell_type": "markdown",
   "metadata": {},
   "source": [
    "### Example 2: Find the general integral $\\int x^4 - \\frac{1}{2} x^3 + \\frac{1}{4} x - 2 \\space dx$"
   ]
  },
  {
   "cell_type": "markdown",
   "metadata": {},
   "source": [
    "As in the previous example, we use antidifferentiation on each term:\n",
    "\n",
    "$$ \\int x^4 - \\frac{1}{2} x^3 + \\frac{1}{4} x - 2 \\space dx = \\frac{1}{5}x^5 - \\frac{1}{8}x^4 + \\frac{1}{8}x^2 - 2x $$"
   ]
  },
  {
   "cell_type": "code",
   "execution_count": 3,
   "metadata": {},
   "outputs": [
    {
     "data": {
      "image/png": "[encoded data removed]",
      "text/latex": [
       "$$0.2 x^{5} - 0.125 x^{4} + 0.125 x^{2} - 2.0 x$$"
      ],
      "text/plain": [
       "     5          4          2        \n",
       "0.2⋅x  - 0.125⋅x  + 0.125⋅x  - 2.0⋅x"
      ]
     },
     "execution_count": 3,
     "metadata": {},
     "output_type": "execute_result"
    }
   ],
   "source": [
    "integrate(x ** 4 - (1/2) * x ** 3 + (1/4) * x - 2, x)"
   ]
  },
  {
   "cell_type": "markdown",
   "metadata": {},
   "source": [
    "### Example 3: Find the general integral $\\int (1-x)(2+x^2) \\space dx$"
   ]
  },
  {
   "cell_type": "markdown",
   "metadata": {},
   "source": [
    "Start by expanding the terms, then find the antiderivative of each term:\n",
    "\n",
    "$$ \\int 2 + x^2 - 2x - x^3 \\space dx = 2x + \\frac{1}{3}x^3 - x^2 - \\frac{1}{4}x^4 $$"
   ]
  },
  {
   "cell_type": "code",
   "execution_count": 5,
   "metadata": {},
   "outputs": [
    {
     "data": {
      "image/png": "[encoded data removed]",
      "text/latex": [
       "$$- \\frac{x^{4}}{4} + \\frac{x^{3}}{3} - x^{2} + 2 x$$"
      ],
      "text/plain": [
       "   4    3           \n",
       "  x    x     2      \n",
       "- ── + ── - x  + 2⋅x\n",
       "  4    3            "
      ]
     },
     "execution_count": 5,
     "metadata": {},
     "output_type": "execute_result"
    }
   ],
   "source": [
    "integrate((1 - x) * (2 + x ** 2), x)"
   ]
  },
  {
   "cell_type": "markdown",
   "metadata": {},
   "source": [
    "### Example 4: Determine the general integral $\\int \\sin{x} + \\sinh{x} \\space dx$"
   ]
  },
  {
   "cell_type": "markdown",
   "metadata": {},
   "source": [
    "Take the antiderivative of each term:\n",
    "\n",
    "$$ \\int \\sin{x} + \\sinh{x} \\space dx = -\\cos{x} + \\cosh{x} $$"
   ]
  },
  {
   "cell_type": "code",
   "execution_count": 10,
   "metadata": {},
   "outputs": [
    {
     "data": {
      "image/png": "[encoded data removed]",
      "text/latex": [
       "$$- \\cos{\\left (x \\right )} + \\cosh{\\left (x \\right )}$$"
      ],
      "text/plain": [
       "-cos(x) + cosh(x)"
      ]
     },
     "execution_count": 10,
     "metadata": {},
     "output_type": "execute_result"
    }
   ],
   "source": [
    "integrate(sin(x) + sinh(x), x)"
   ]
  },
  {
   "cell_type": "markdown",
   "metadata": {},
   "source": [
    "### Example 5: Find the general integral $\\int_{-1}^0 2x - e^x \\space dx$"
   ]
  },
  {
   "cell_type": "markdown",
   "metadata": {},
   "source": [
    "The last example involves a definite integral, which we previously encountered in the Fundamental Theorem of Calculus section. Find the antiderivative of each term:\n",
    "\n",
    "$$ \\int_{-1}^0 2x - e^x \\space dx = x^2 - e^x \\Bigg\\rvert_{-1}^0 $$\n",
    "\n",
    "$$ (0)^2 - e^{(0)} - (-1)^2 - e^{(-1)} = -1 - 1 - e^{-1} = -2 + e^{-1} $$\n",
    "\n",
    "Calculate $-2 - e^{-1}$ and verify the result with SymPy."
   ]
  },
  {
   "cell_type": "code",
   "execution_count": 23,
   "metadata": {},
   "outputs": [
    {
     "data": {
      "text/plain": [
       "mpf('-1.6321205588285577')"
      ]
     },
     "execution_count": 23,
     "metadata": {},
     "output_type": "execute_result"
    }
   ],
   "source": [
    "-2 + e ** -1"
   ]
  },
  {
   "cell_type": "code",
   "execution_count": 13,
   "metadata": {},
   "outputs": [
    {
     "data": {
      "image/png": "[encoded data removed]",
      "text/latex": [
       "$$-1.63212055882856$$"
      ],
      "text/plain": [
       "-1.63212055882856"
      ]
     },
     "execution_count": 13,
     "metadata": {},
     "output_type": "execute_result"
    }
   ],
   "source": [
    "integrate(2 * x - e ** x, (x, -1, 0))"
   ]
  },
  {
   "cell_type": "markdown",
   "metadata": {},
   "source": [
    "## References"
   ]
  },
  {
   "cell_type": "markdown",
   "metadata": {},
   "source": [
    "[Stewart, J. (2007). Essential calculus: Early transcendentals. Belmont, CA: Thomson Higher Education.](https://amzn.to/38dnRV0)\n",
    "\n",
    "Weisstein, Eric W. \"Indefinite Integral.\" From MathWorld--A Wolfram Web Resource. http://mathworld.wolfram.com/IndefiniteIntegral.html"
   ]
  }
 ],
 "metadata": {
  "kernelspec": {
   "display_name": "Python 3",
   "language": "python",
   "name": "python3"
  },
  "language_info": {
   "codemirror_mode": {
    "name": "ipython",
    "version": 3
   },
   "file_extension": ".py",
   "mimetype": "text/x-python",
   "name": "python",
   "nbconvert_exporter": "python",
   "pygments_lexer": "ipython3",
   "version": "3.7.4"
  }
 },
 "nbformat": 4,
 "nbformat_minor": 2
}
