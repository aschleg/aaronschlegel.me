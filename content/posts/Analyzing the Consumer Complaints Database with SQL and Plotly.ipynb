{
 "cells": [
  {
   "cell_type": "markdown",
   "metadata": {},
   "source": [
    "The [consumer complaints database](http://catalog.data.gov/dataset/consumer-complaint-database#topic=consumer_navigation) provided by the Bureau of Consumer Financial Protection, can be downloaded as a 190mb csv file. \n",
    "\n",
    "Although the csv file is not large relative to other available datasets that can exceed many gigabytes in size, it still provides good motivation for aggregating the data using SQL and outputting into a Pandas DataFrame. This can all be done conveniently with Pandas's [iotools](http://pandas.pydata.org/pandas-docs/stable/io.html).\n",
    "\n",
    "This post will explore creating a database file with the Consumer Complaints database and analyzing the data with [Pandas](http://pandas.pydata.org/) and [Plotly](https://plot.ly/). I was inspired to use SQL and Plotly in conjunction by this [blog post that examines one of the NYC Open Data Portal](https://plot.ly/python/big-data-analytics-with-pandas-and-sqlite/)."
   ]
  },
  {
   "cell_type": "code",
   "execution_count": 1,
   "metadata": {},
   "outputs": [],
   "source": [
    "import pandas as pd\n",
    "import numpy as np\n",
    "from IPython.display import display\n",
    "import sqlite3\n",
    "from sqlalchemy import create_engine\n",
    "import string\n",
    "from statsmodels.stats.multicomp import pairwise_tukeyhsd\n",
    "from scipy import stats"
   ]
  },
  {
   "cell_type": "code",
   "execution_count": 2,
   "metadata": {},
   "outputs": [],
   "source": [
    "import plotly.plotly as py\n",
    "from plotly.tools import FigureFactory as FF\n",
    "from plotly.graph_objs import Bar, Scatter, Marker, Layout, Choropleth, Histogram"
   ]
  },
  {
   "cell_type": "markdown",
   "metadata": {},
   "source": [
    "Before creating a new database file, the Consumer Complaints csv file can be inspected to get a quick view of what is included."
   ]
  },
  {
   "cell_type": "code",
   "execution_count": 3,
   "metadata": {
    "scrolled": true
   },
   "outputs": [
    {
     "data": {
      "text/html": [
       "<div>\n",
       "<table border=\"1\" class=\"dataframe\">\n",
       "  <thead>\n",
       "    <tr style=\"text-align: right;\">\n",
       "      <th></th>\n",
       "      <th>Date received</th>\n",
       "      <th>Product</th>\n",
       "      <th>Sub-product</th>\n",
       "      <th>Issue</th>\n",
       "      <th>Sub-issue</th>\n",
       "      <th>Consumer complaint narrative</th>\n",
       "      <th>Company public response</th>\n",
       "      <th>Company</th>\n",
       "      <th>State</th>\n",
       "      <th>ZIP code</th>\n",
       "      <th>Tags</th>\n",
       "      <th>Consumer consent provided?</th>\n",
       "      <th>Submitted via</th>\n",
       "      <th>Date sent to company</th>\n",
       "      <th>Company response to consumer</th>\n",
       "      <th>Timely response?</th>\n",
       "      <th>Consumer disputed?</th>\n",
       "      <th>Complaint ID</th>\n",
       "    </tr>\n",
       "  </thead>\n",
       "  <tbody>\n",
       "    <tr>\n",
       "      <th>0</th>\n",
       "      <td>12/5/2011</td>\n",
       "      <td>Credit card</td>\n",
       "      <td>NaN</td>\n",
       "      <td>Rewards</td>\n",
       "      <td>NaN</td>\n",
       "      <td>NaN</td>\n",
       "      <td>NaN</td>\n",
       "      <td>Discover</td>\n",
       "      <td>NY</td>\n",
       "      <td>13835</td>\n",
       "      <td>NaN</td>\n",
       "      <td>NaN</td>\n",
       "      <td>Postal mail</td>\n",
       "      <td>12/6/2011</td>\n",
       "      <td>Closed without relief</td>\n",
       "      <td>Yes</td>\n",
       "      <td>No</td>\n",
       "      <td>2922</td>\n",
       "    </tr>\n",
       "    <tr>\n",
       "      <th>1</th>\n",
       "      <td>12/5/2011</td>\n",
       "      <td>Credit card</td>\n",
       "      <td>NaN</td>\n",
       "      <td>Billing disputes</td>\n",
       "      <td>NaN</td>\n",
       "      <td>NaN</td>\n",
       "      <td>NaN</td>\n",
       "      <td>Capital One</td>\n",
       "      <td>NY</td>\n",
       "      <td>11582</td>\n",
       "      <td>NaN</td>\n",
       "      <td>NaN</td>\n",
       "      <td>Referral</td>\n",
       "      <td>12/5/2011</td>\n",
       "      <td>Closed with relief</td>\n",
       "      <td>Yes</td>\n",
       "      <td>No</td>\n",
       "      <td>2928</td>\n",
       "    </tr>\n",
       "    <tr>\n",
       "      <th>2</th>\n",
       "      <td>12/5/2011</td>\n",
       "      <td>Credit card</td>\n",
       "      <td>NaN</td>\n",
       "      <td>Closing/Cancelling account</td>\n",
       "      <td>NaN</td>\n",
       "      <td>NaN</td>\n",
       "      <td>NaN</td>\n",
       "      <td>Bank of America</td>\n",
       "      <td>NC</td>\n",
       "      <td>28411</td>\n",
       "      <td>Servicemember</td>\n",
       "      <td>NaN</td>\n",
       "      <td>Phone</td>\n",
       "      <td>12/9/2011</td>\n",
       "      <td>Closed with relief</td>\n",
       "      <td>Yes</td>\n",
       "      <td>Yes</td>\n",
       "      <td>2929</td>\n",
       "    </tr>\n",
       "    <tr>\n",
       "      <th>3</th>\n",
       "      <td>12/5/2011</td>\n",
       "      <td>Mortgage</td>\n",
       "      <td>Other mortgage</td>\n",
       "      <td>Loan modification,collection,foreclosure</td>\n",
       "      <td>NaN</td>\n",
       "      <td>NaN</td>\n",
       "      <td>NaN</td>\n",
       "      <td>Wells Fargo &amp; Company</td>\n",
       "      <td>VA</td>\n",
       "      <td>20194</td>\n",
       "      <td>NaN</td>\n",
       "      <td>NaN</td>\n",
       "      <td>Web</td>\n",
       "      <td>12/6/2011</td>\n",
       "      <td>Closed without relief</td>\n",
       "      <td>Yes</td>\n",
       "      <td>Yes</td>\n",
       "      <td>2931</td>\n",
       "    </tr>\n",
       "    <tr>\n",
       "      <th>4</th>\n",
       "      <td>12/5/2011</td>\n",
       "      <td>Credit card</td>\n",
       "      <td>NaN</td>\n",
       "      <td>Identity theft / Fraud / Embezzlement</td>\n",
       "      <td>NaN</td>\n",
       "      <td>NaN</td>\n",
       "      <td>NaN</td>\n",
       "      <td>JPMorgan Chase &amp; Co.</td>\n",
       "      <td>IL</td>\n",
       "      <td>60202</td>\n",
       "      <td>NaN</td>\n",
       "      <td>NaN</td>\n",
       "      <td>Referral</td>\n",
       "      <td>12/5/2011</td>\n",
       "      <td>Closed without relief</td>\n",
       "      <td>Yes</td>\n",
       "      <td>No</td>\n",
       "      <td>2934</td>\n",
       "    </tr>\n",
       "  </tbody>\n",
       "</table>\n",
       "</div>"
      ],
      "text/plain": [
       "  Date received      Product     Sub-product  \\\n",
       "0     12/5/2011  Credit card             NaN   \n",
       "1     12/5/2011  Credit card             NaN   \n",
       "2     12/5/2011  Credit card             NaN   \n",
       "3     12/5/2011     Mortgage  Other mortgage   \n",
       "4     12/5/2011  Credit card             NaN   \n",
       "\n",
       "                                      Issue  Sub-issue  \\\n",
       "0                                   Rewards        NaN   \n",
       "1                          Billing disputes        NaN   \n",
       "2                Closing/Cancelling account        NaN   \n",
       "3  Loan modification,collection,foreclosure        NaN   \n",
       "4     Identity theft / Fraud / Embezzlement        NaN   \n",
       "\n",
       "   Consumer complaint narrative  Company public response  \\\n",
       "0                           NaN                      NaN   \n",
       "1                           NaN                      NaN   \n",
       "2                           NaN                      NaN   \n",
       "3                           NaN                      NaN   \n",
       "4                           NaN                      NaN   \n",
       "\n",
       "                 Company State  ZIP code           Tags  \\\n",
       "0               Discover    NY     13835            NaN   \n",
       "1            Capital One    NY     11582            NaN   \n",
       "2        Bank of America    NC     28411  Servicemember   \n",
       "3  Wells Fargo & Company    VA     20194            NaN   \n",
       "4   JPMorgan Chase & Co.    IL     60202            NaN   \n",
       "\n",
       "   Consumer consent provided? Submitted via Date sent to company  \\\n",
       "0                         NaN   Postal mail            12/6/2011   \n",
       "1                         NaN      Referral            12/5/2011   \n",
       "2                         NaN         Phone            12/9/2011   \n",
       "3                         NaN           Web            12/6/2011   \n",
       "4                         NaN      Referral            12/5/2011   \n",
       "\n",
       "  Company response to consumer Timely response? Consumer disputed?  \\\n",
       "0        Closed without relief              Yes                 No   \n",
       "1           Closed with relief              Yes                 No   \n",
       "2           Closed with relief              Yes                Yes   \n",
       "3        Closed without relief              Yes                Yes   \n",
       "4        Closed without relief              Yes                 No   \n",
       "\n",
       "   Complaint ID  \n",
       "0          2922  \n",
       "1          2928  \n",
       "2          2929  \n",
       "3          2931  \n",
       "4          2934  "
      ]
     },
     "metadata": {},
     "output_type": "display_data"
    }
   ],
   "source": [
    "display(pd.read_csv('raw/Consumer_Complaints.csv', nrows=5).head())"
   ]
  },
  {
   "cell_type": "markdown",
   "metadata": {},
   "source": [
    "## Building the Database "
   ]
  },
  {
   "cell_type": "markdown",
   "metadata": {},
   "source": [
    "Create the database connection using [sqlalchemy](http://www.sqlalchemy.org/) `create_engine` method."
   ]
  },
  {
   "cell_type": "code",
   "execution_count": 4,
   "metadata": {
    "collapsed": true
   },
   "outputs": [],
   "source": [
    "db_conn = create_engine('sqlite:///databases/complaints.db')"
   ]
  },
  {
   "cell_type": "markdown",
   "metadata": {},
   "source": [
    "The amount of rows in the csv to process on each iteration"
   ]
  },
  {
   "cell_type": "code",
   "execution_count": 5,
   "metadata": {
    "collapsed": true
   },
   "outputs": [],
   "source": [
    "chunks = 25000"
   ]
  },
  {
   "cell_type": "markdown",
   "metadata": {},
   "source": [
    "The csv data is processed and appended to the database created above. As each chunk is processed, the data columns are formatted to remove whitespace and make each word proper case."
   ]
  },
  {
   "cell_type": "code",
   "execution_count": 6,
   "metadata": {},
   "outputs": [],
   "source": [
    "for data in pd.read_csv('raw/Consumer_Complaints.csv', chunksize=chunks,\n",
    "                       iterator=True, encoding='utf-8'):\n",
    "    \n",
    "    data = data.rename(columns={col: col.replace('-', ' ') for col in data.columns})\n",
    "    data = data.rename(columns={col: col.strip() for col in data.columns})\n",
    "    data = data.rename(columns={col: string.capwords(col) for col in data.columns})\n",
    "    data = data.rename(columns={col: col.replace(' ', '') for col in data.columns})\n",
    "    \n",
    "    data.to_sql('data', db_conn, if_exists='append')"
   ]
  },
  {
   "cell_type": "markdown",
   "metadata": {},
   "source": [
    "To confirm the data was processed and appended to the database correctly, a quick query can be ran to display the first 10 rows of the database."
   ]
  },
  {
   "cell_type": "code",
   "execution_count": 7,
   "metadata": {},
   "outputs": [
    {
     "data": {
      "text/html": [
       "<div>\n",
       "<table border=\"1\" class=\"dataframe\">\n",
       "  <thead>\n",
       "    <tr style=\"text-align: right;\">\n",
       "      <th></th>\n",
       "      <th>index</th>\n",
       "      <th>DateReceived</th>\n",
       "      <th>Product</th>\n",
       "      <th>SubProduct</th>\n",
       "      <th>Issue</th>\n",
       "      <th>SubIssue</th>\n",
       "      <th>ConsumerComplaintNarrative</th>\n",
       "      <th>CompanyPublicResponse</th>\n",
       "      <th>Company</th>\n",
       "      <th>State</th>\n",
       "      <th>ZipCode</th>\n",
       "      <th>Tags</th>\n",
       "      <th>ConsumerConsentProvided?</th>\n",
       "      <th>SubmittedVia</th>\n",
       "      <th>DateSentToCompany</th>\n",
       "      <th>CompanyResponseToConsumer</th>\n",
       "      <th>TimelyResponse?</th>\n",
       "      <th>ConsumerDisputed?</th>\n",
       "      <th>ComplaintId</th>\n",
       "    </tr>\n",
       "  </thead>\n",
       "  <tbody>\n",
       "    <tr>\n",
       "      <th>0</th>\n",
       "      <td>0</td>\n",
       "      <td>12/5/2011</td>\n",
       "      <td>Credit card</td>\n",
       "      <td>None</td>\n",
       "      <td>Rewards</td>\n",
       "      <td>None</td>\n",
       "      <td>None</td>\n",
       "      <td>None</td>\n",
       "      <td>Discover</td>\n",
       "      <td>NY</td>\n",
       "      <td>13835</td>\n",
       "      <td>None</td>\n",
       "      <td>None</td>\n",
       "      <td>Postal mail</td>\n",
       "      <td>12/6/2011</td>\n",
       "      <td>Closed without relief</td>\n",
       "      <td>Yes</td>\n",
       "      <td>No</td>\n",
       "      <td>2922</td>\n",
       "    </tr>\n",
       "    <tr>\n",
       "      <th>1</th>\n",
       "      <td>1</td>\n",
       "      <td>12/5/2011</td>\n",
       "      <td>Credit card</td>\n",
       "      <td>None</td>\n",
       "      <td>Billing disputes</td>\n",
       "      <td>None</td>\n",
       "      <td>None</td>\n",
       "      <td>None</td>\n",
       "      <td>Capital One</td>\n",
       "      <td>NY</td>\n",
       "      <td>11582</td>\n",
       "      <td>None</td>\n",
       "      <td>None</td>\n",
       "      <td>Referral</td>\n",
       "      <td>12/5/2011</td>\n",
       "      <td>Closed with relief</td>\n",
       "      <td>Yes</td>\n",
       "      <td>No</td>\n",
       "      <td>2928</td>\n",
       "    </tr>\n",
       "    <tr>\n",
       "      <th>2</th>\n",
       "      <td>2</td>\n",
       "      <td>12/5/2011</td>\n",
       "      <td>Credit card</td>\n",
       "      <td>None</td>\n",
       "      <td>Closing/Cancelling account</td>\n",
       "      <td>None</td>\n",
       "      <td>None</td>\n",
       "      <td>None</td>\n",
       "      <td>Bank of America</td>\n",
       "      <td>NC</td>\n",
       "      <td>28411</td>\n",
       "      <td>Servicemember</td>\n",
       "      <td>None</td>\n",
       "      <td>Phone</td>\n",
       "      <td>12/9/2011</td>\n",
       "      <td>Closed with relief</td>\n",
       "      <td>Yes</td>\n",
       "      <td>Yes</td>\n",
       "      <td>2929</td>\n",
       "    </tr>\n",
       "    <tr>\n",
       "      <th>3</th>\n",
       "      <td>3</td>\n",
       "      <td>12/5/2011</td>\n",
       "      <td>Mortgage</td>\n",
       "      <td>Other mortgage</td>\n",
       "      <td>Loan modification,collection,foreclosure</td>\n",
       "      <td>None</td>\n",
       "      <td>None</td>\n",
       "      <td>None</td>\n",
       "      <td>Wells Fargo &amp; Company</td>\n",
       "      <td>VA</td>\n",
       "      <td>20194</td>\n",
       "      <td>None</td>\n",
       "      <td>None</td>\n",
       "      <td>Web</td>\n",
       "      <td>12/6/2011</td>\n",
       "      <td>Closed without relief</td>\n",
       "      <td>Yes</td>\n",
       "      <td>Yes</td>\n",
       "      <td>2931</td>\n",
       "    </tr>\n",
       "    <tr>\n",
       "      <th>4</th>\n",
       "      <td>4</td>\n",
       "      <td>12/5/2011</td>\n",
       "      <td>Credit card</td>\n",
       "      <td>None</td>\n",
       "      <td>Identity theft / Fraud / Embezzlement</td>\n",
       "      <td>None</td>\n",
       "      <td>None</td>\n",
       "      <td>None</td>\n",
       "      <td>JPMorgan Chase &amp; Co.</td>\n",
       "      <td>IL</td>\n",
       "      <td>60202</td>\n",
       "      <td>None</td>\n",
       "      <td>None</td>\n",
       "      <td>Referral</td>\n",
       "      <td>12/5/2011</td>\n",
       "      <td>Closed without relief</td>\n",
       "      <td>Yes</td>\n",
       "      <td>No</td>\n",
       "      <td>2934</td>\n",
       "    </tr>\n",
       "    <tr>\n",
       "      <th>5</th>\n",
       "      <td>5</td>\n",
       "      <td>12/5/2011</td>\n",
       "      <td>Credit card</td>\n",
       "      <td>None</td>\n",
       "      <td>Collection debt dispute</td>\n",
       "      <td>None</td>\n",
       "      <td>None</td>\n",
       "      <td>None</td>\n",
       "      <td>Bank of America</td>\n",
       "      <td>CA</td>\n",
       "      <td>95648</td>\n",
       "      <td>None</td>\n",
       "      <td>None</td>\n",
       "      <td>Referral</td>\n",
       "      <td>12/5/2011</td>\n",
       "      <td>Closed with relief</td>\n",
       "      <td>Yes</td>\n",
       "      <td>No</td>\n",
       "      <td>2937</td>\n",
       "    </tr>\n",
       "    <tr>\n",
       "      <th>6</th>\n",
       "      <td>6</td>\n",
       "      <td>12/5/2011</td>\n",
       "      <td>Credit card</td>\n",
       "      <td>None</td>\n",
       "      <td>Credit determination</td>\n",
       "      <td>None</td>\n",
       "      <td>None</td>\n",
       "      <td>None</td>\n",
       "      <td>JPMorgan Chase &amp; Co.</td>\n",
       "      <td>TX</td>\n",
       "      <td>78041</td>\n",
       "      <td>None</td>\n",
       "      <td>None</td>\n",
       "      <td>Fax</td>\n",
       "      <td>12/9/2011</td>\n",
       "      <td>Closed without relief</td>\n",
       "      <td>Yes</td>\n",
       "      <td>Yes</td>\n",
       "      <td>2939</td>\n",
       "    </tr>\n",
       "    <tr>\n",
       "      <th>7</th>\n",
       "      <td>7</td>\n",
       "      <td>12/5/2011</td>\n",
       "      <td>Credit card</td>\n",
       "      <td>None</td>\n",
       "      <td>Billing disputes</td>\n",
       "      <td>None</td>\n",
       "      <td>None</td>\n",
       "      <td>None</td>\n",
       "      <td>Capital One</td>\n",
       "      <td>VT</td>\n",
       "      <td>5043</td>\n",
       "      <td>None</td>\n",
       "      <td>None</td>\n",
       "      <td>Referral</td>\n",
       "      <td>12/5/2011</td>\n",
       "      <td>Closed with relief</td>\n",
       "      <td>Yes</td>\n",
       "      <td>No</td>\n",
       "      <td>2940</td>\n",
       "    </tr>\n",
       "    <tr>\n",
       "      <th>8</th>\n",
       "      <td>8</td>\n",
       "      <td>12/5/2011</td>\n",
       "      <td>Credit card</td>\n",
       "      <td>None</td>\n",
       "      <td>Credit card protection / Debt protection</td>\n",
       "      <td>None</td>\n",
       "      <td>None</td>\n",
       "      <td>None</td>\n",
       "      <td>Capital One</td>\n",
       "      <td>KS</td>\n",
       "      <td>67579</td>\n",
       "      <td>Older American</td>\n",
       "      <td>None</td>\n",
       "      <td>Phone</td>\n",
       "      <td>12/9/2011</td>\n",
       "      <td>Closed without relief</td>\n",
       "      <td>Yes</td>\n",
       "      <td>No</td>\n",
       "      <td>2942</td>\n",
       "    </tr>\n",
       "    <tr>\n",
       "      <th>9</th>\n",
       "      <td>9</td>\n",
       "      <td>12/5/2011</td>\n",
       "      <td>Credit card</td>\n",
       "      <td>None</td>\n",
       "      <td>Credit reporting</td>\n",
       "      <td>None</td>\n",
       "      <td>None</td>\n",
       "      <td>None</td>\n",
       "      <td>JPMorgan Chase &amp; Co.</td>\n",
       "      <td>CA</td>\n",
       "      <td>94127</td>\n",
       "      <td>None</td>\n",
       "      <td>None</td>\n",
       "      <td>Referral</td>\n",
       "      <td>12/5/2011</td>\n",
       "      <td>Closed without relief</td>\n",
       "      <td>Yes</td>\n",
       "      <td>Yes</td>\n",
       "      <td>1940</td>\n",
       "    </tr>\n",
       "  </tbody>\n",
       "</table>\n",
       "</div>"
      ],
      "text/plain": [
       "   index DateReceived      Product      SubProduct  \\\n",
       "0      0    12/5/2011  Credit card            None   \n",
       "1      1    12/5/2011  Credit card            None   \n",
       "2      2    12/5/2011  Credit card            None   \n",
       "3      3    12/5/2011     Mortgage  Other mortgage   \n",
       "4      4    12/5/2011  Credit card            None   \n",
       "5      5    12/5/2011  Credit card            None   \n",
       "6      6    12/5/2011  Credit card            None   \n",
       "7      7    12/5/2011  Credit card            None   \n",
       "8      8    12/5/2011  Credit card            None   \n",
       "9      9    12/5/2011  Credit card            None   \n",
       "\n",
       "                                      Issue SubIssue  \\\n",
       "0                                   Rewards     None   \n",
       "1                          Billing disputes     None   \n",
       "2                Closing/Cancelling account     None   \n",
       "3  Loan modification,collection,foreclosure     None   \n",
       "4     Identity theft / Fraud / Embezzlement     None   \n",
       "5                   Collection debt dispute     None   \n",
       "6                      Credit determination     None   \n",
       "7                          Billing disputes     None   \n",
       "8  Credit card protection / Debt protection     None   \n",
       "9                          Credit reporting     None   \n",
       "\n",
       "  ConsumerComplaintNarrative CompanyPublicResponse                Company  \\\n",
       "0                       None                  None               Discover   \n",
       "1                       None                  None            Capital One   \n",
       "2                       None                  None        Bank of America   \n",
       "3                       None                  None  Wells Fargo & Company   \n",
       "4                       None                  None   JPMorgan Chase & Co.   \n",
       "5                       None                  None        Bank of America   \n",
       "6                       None                  None   JPMorgan Chase & Co.   \n",
       "7                       None                  None            Capital One   \n",
       "8                       None                  None            Capital One   \n",
       "9                       None                  None   JPMorgan Chase & Co.   \n",
       "\n",
       "  State ZipCode            Tags ConsumerConsentProvided? SubmittedVia  \\\n",
       "0    NY   13835            None                     None  Postal mail   \n",
       "1    NY   11582            None                     None     Referral   \n",
       "2    NC   28411   Servicemember                     None        Phone   \n",
       "3    VA   20194            None                     None          Web   \n",
       "4    IL   60202            None                     None     Referral   \n",
       "5    CA   95648            None                     None     Referral   \n",
       "6    TX   78041            None                     None          Fax   \n",
       "7    VT    5043            None                     None     Referral   \n",
       "8    KS   67579  Older American                     None        Phone   \n",
       "9    CA   94127            None                     None     Referral   \n",
       "\n",
       "  DateSentToCompany CompanyResponseToConsumer TimelyResponse?  \\\n",
       "0         12/6/2011     Closed without relief             Yes   \n",
       "1         12/5/2011        Closed with relief             Yes   \n",
       "2         12/9/2011        Closed with relief             Yes   \n",
       "3         12/6/2011     Closed without relief             Yes   \n",
       "4         12/5/2011     Closed without relief             Yes   \n",
       "5         12/5/2011        Closed with relief             Yes   \n",
       "6         12/9/2011     Closed without relief             Yes   \n",
       "7         12/5/2011        Closed with relief             Yes   \n",
       "8         12/9/2011     Closed without relief             Yes   \n",
       "9         12/5/2011     Closed without relief             Yes   \n",
       "\n",
       "  ConsumerDisputed?  ComplaintId  \n",
       "0                No         2922  \n",
       "1                No         2928  \n",
       "2               Yes         2929  \n",
       "3               Yes         2931  \n",
       "4                No         2934  \n",
       "5                No         2937  \n",
       "6               Yes         2939  \n",
       "7                No         2940  \n",
       "8                No         2942  \n",
       "9               Yes         1940  "
      ]
     },
     "execution_count": 7,
     "metadata": {},
     "output_type": "execute_result"
    }
   ],
   "source": [
    "pd.read_sql_query('SELECT * FROM data LIMIT 10', db_conn)"
   ]
  },
  {
   "cell_type": "markdown",
   "metadata": {},
   "source": [
    "With the data processed into a database file, we can begin analyzing the data. "
   ]
  },
  {
   "cell_type": "markdown",
   "metadata": {},
   "source": [
    "Which Product has the most complaints?"
   ]
  },
  {
   "cell_type": "code",
   "execution_count": 8,
   "metadata": {},
   "outputs": [],
   "source": [
    "query = pd.read_sql_query('SELECT Product, Company, COUNT(*) as `Complaints`'\n",
    "                         'FROM data '\n",
    "                         'GROUP BY Product '\n",
    "                         'ORDER BY `Complaints` DESC', db_conn)"
   ]
  },
  {
   "cell_type": "code",
   "execution_count": 9,
   "metadata": {},
   "outputs": [
    {
     "data": {
      "text/html": [
       "<iframe id=\"igraph\" scrolling=\"no\" style=\"border:none;\" seamless=\"seamless\" src=\"https://plot.ly/~aaronsc32/293.embed\" height=\"525px\" width=\"100%\"></iframe>"
      ],
      "text/plain": [
       "<plotly.tools.PlotlyDisplay object>"
      ]
     },
     "execution_count": 9,
     "metadata": {},
     "output_type": "execute_result"
    }
   ],
   "source": [
    "py.iplot([Bar(x=query.Product, y=query.Complaints)], filename = 'ConsumerComplaints_Products with most complaints')"
   ]
  },
  {
   "cell_type": "markdown",
   "metadata": {},
   "source": [
    "Credit and debt related products have the most complaints, starting with Mortgages."
   ]
  },
  {
   "cell_type": "markdown",
   "metadata": {},
   "source": [
    "Which Companies have the Most Complaints?"
   ]
  },
  {
   "cell_type": "code",
   "execution_count": 10,
   "metadata": {},
   "outputs": [],
   "source": [
    "query_responses = pd.read_sql_query('SELECT Company, COUNT(*) as `Complaints` '\n",
    "                           'FROM data '\n",
    "                           'GROUP BY Company '\n",
    "                           'ORDER BY `Complaints` DESC '\n",
    "                           'LIMIT 10 ', db_conn)"
   ]
  },
  {
   "cell_type": "code",
   "execution_count": 11,
   "metadata": {},
   "outputs": [
    {
     "data": {
      "text/html": [
       "<iframe id=\"igraph\" scrolling=\"no\" style=\"border:none;\" seamless=\"seamless\" src=\"https://plot.ly/~aaronsc32/295.embed\" height=\"525px\" width=\"100%\"></iframe>"
      ],
      "text/plain": [
       "<plotly.tools.PlotlyDisplay object>"
      ]
     },
     "execution_count": 11,
     "metadata": {},
     "output_type": "execute_result"
    }
   ],
   "source": [
    "py.iplot([Bar(x=query_responses.Company, y=query_responses.Complaints)], filename='ConsumerComplaints_Companies with most Complaints')"
   ]
  },
  {
   "cell_type": "markdown",
   "metadata": {},
   "source": [
    "The largest financial firms including Bank of America, Wells Fargo and J.P. Morgan are near the top, which could be due simply to the size of the firms relative to others. "
   ]
  },
  {
   "cell_type": "markdown",
   "metadata": {},
   "source": [
    "Using SQL queries and Pandas makes reshaping and aggregating data much more straightforward. For example, with SQL and Pandas, we can quickly pull the relevant data from the database and create a ratio from the metrics to find which companies have the lowest timely response ratios."
   ]
  },
  {
   "cell_type": "code",
   "execution_count": 12,
   "metadata": {},
   "outputs": [],
   "source": [
    "query_comp = pd.read_sql_query('SELECT Company, '\n",
    "                           'COUNT(CASE WHEN `TimelyResponse?` = \"Yes\" THEN 1 ELSE NULL END) As YesCount, '\n",
    "                           'COUNT(CASE WHEN `TimelyResponse?` = \"No\" THEN 1 ELSE NULL END) As NoCount, '\n",
    "                           'COUNT(*) as Total '\n",
    "                           'FROM data '\n",
    "                           'GROUP BY Company '\n",
    "                           'HAVING COUNT(*) > 500 '\n",
    "                           'ORDER BY YesCount DESC', db_conn)"
   ]
  },
  {
   "cell_type": "code",
   "execution_count": 13,
   "metadata": {
    "collapsed": true
   },
   "outputs": [],
   "source": [
    "query_comp['Timely_Response_Ratio'] = query_comp.YesCount / query_comp.Total * 100"
   ]
  },
  {
   "cell_type": "code",
   "execution_count": 14,
   "metadata": {},
   "outputs": [],
   "source": [
    "bot_10_response = query_comp.sort_values('Timely_Response_Ratio', ascending=True)[0:10]"
   ]
  },
  {
   "cell_type": "code",
   "execution_count": 15,
   "metadata": {},
   "outputs": [],
   "source": [
    "responses = 'Timely Responses: ' + bot_10_response.YesCount.astype(str) + '<br>' + 'Untimely Responses: ' + bot_10_response.NoCount.astype(str)"
   ]
  },
  {
   "cell_type": "code",
   "execution_count": 16,
   "metadata": {},
   "outputs": [
    {
     "data": {
      "text/html": [
       "<iframe id=\"igraph\" scrolling=\"no\" style=\"border:none;\" seamless=\"seamless\" src=\"https://plot.ly/~aaronsc32/297.embed\" height=\"525px\" width=\"100%\"></iframe>"
      ],
      "text/plain": [
       "<plotly.tools.PlotlyDisplay object>"
      ]
     },
     "execution_count": 16,
     "metadata": {},
     "output_type": "execute_result"
    }
   ],
   "source": [
    "py.iplot([Bar(x=bot_10_response.Company, y=bot_10_response.Timely_Response_Ratio, \n",
    "              text=responses)], filename='ConsumerComplaints_LowestTimelyResponse')"
   ]
  },
  {
   "cell_type": "markdown",
   "metadata": {},
   "source": [
    "Note none of the firms with the most complaints are included here. "
   ]
  },
  {
   "cell_type": "markdown",
   "metadata": {},
   "source": [
    "It was seen earlier that mortgages related issues have the most complaints. Which issues are specifically complained about the most?"
   ]
  },
  {
   "cell_type": "code",
   "execution_count": 17,
   "metadata": {
    "collapsed": true
   },
   "outputs": [],
   "source": [
    "query3 = pd.read_sql_query('SELECT Product, Issue, COUNT(*) `Number of Complaints` '\n",
    "                          'FROM data '\n",
    "                          'WHERE Product = \"Mortgage\" '\n",
    "                          'GROUP BY Issue '\n",
    "                          'ORDER BY `Number of Complaints` DESC', db_conn)"
   ]
  },
  {
   "cell_type": "code",
   "execution_count": 18,
   "metadata": {},
   "outputs": [
    {
     "data": {
      "text/html": [
       "<iframe id=\"igraph\" scrolling=\"no\" style=\"border:none;\" seamless=\"seamless\" src=\"https://plot.ly/~aaronsc32/299.embed\" height=\"525px\" width=\"100%\"></iframe>"
      ],
      "text/plain": [
       "<plotly.tools.PlotlyDisplay object>"
      ]
     },
     "execution_count": 18,
     "metadata": {},
     "output_type": "execute_result"
    }
   ],
   "source": [
    "py.iplot([Bar(x=query3.Issue, y=query3['Number of Complaints'])], filename='ConsumerComplaints_MostComplainedProductIssue')"
   ]
  },
  {
   "cell_type": "markdown",
   "metadata": {},
   "source": [
    "The majority of mortgage complaints are related to loan modification, collection, services, payments and other related issues."
   ]
  },
  {
   "cell_type": "markdown",
   "metadata": {},
   "source": [
    "Choropleth maps can be plotted using Plotly. These maps can display which states have the most complaints."
   ]
  },
  {
   "cell_type": "code",
   "execution_count": 19,
   "metadata": {},
   "outputs": [],
   "source": [
    "state_query = pd.read_sql_query('SELECT State, Product, COUNT(*) as `Complaints` '\n",
    "                                'FROM data '\n",
    "                                'WHERE State <> \"None\" '\n",
    "                                'GROUP BY State', db_conn\n",
    "                               )"
   ]
  },
  {
   "cell_type": "code",
   "execution_count": 20,
   "metadata": {},
   "outputs": [
    {
     "data": {
      "text/html": [
       "<iframe id=\"igraph\" scrolling=\"no\" style=\"border:none;\" seamless=\"seamless\" src=\"https://plot.ly/~aaronsc32/301.embed\" height=\"525px\" width=\"100%\"></iframe>"
      ],
      "text/plain": [
       "<plotly.tools.PlotlyDisplay object>"
      ]
     },
     "execution_count": 20,
     "metadata": {},
     "output_type": "execute_result"
    }
   ],
   "source": [
    "dat = [dict(\n",
    "    type = 'choropleth',\n",
    "    locations = state_query['State'],\n",
    "    z = state_query['Complaints'],\n",
    "    locationmode = 'USA-states'\n",
    "    )]\n",
    "\n",
    "layout = dict(geo = dict(\n",
    "    scope='usa', showlakes=True, lakecolor = 'rgb(255, 255, 255)'))\n",
    "\n",
    "fig = dict(data=dat, layout=layout)\n",
    "\n",
    "py.iplot(fig, filename='ConsumerComplaints_StatesWithMostComplaints')"
   ]
  },
  {
   "cell_type": "markdown",
   "metadata": {
    "collapsed": true
   },
   "source": [
    "As one would expect, the more populated states such as California, Texas, Florida and New York have the most complaints.\n",
    "\n",
    "Is there a particular pattern to which companies receive the most complaints by state? Would one expect the company with the most complaints be contained more to regions in which the firm has a large presence (Bank of America on the East Coast, J.P. Morgan in the Northeast, etc.)?"
   ]
  },
  {
   "cell_type": "code",
   "execution_count": 21,
   "metadata": {},
   "outputs": [],
   "source": [
    "query_comps = pd.read_sql_query('SELECT State, Company, COUNT(*) as `Complaints` '\n",
    "                               'FROM data '\n",
    "                               'WHERE State <> \"None\" '\n",
    "                               'AND Company <> \"None\" '\n",
    "                               'GROUP BY Company, State '\n",
    "                               'ORDER BY `Complaints` DESC, Company, State', db_conn)\n",
    "\n",
    "state_grouped = query_comps.groupby('State', as_index=False).first().sort_values('Complaints', ascending=False)\n",
    "state_grouped['Company_Code'] = state_grouped['Company'].astype('category').cat.codes\n",
    "company_codes = pd.DataFrame(state_grouped['Company'].unique(), index=state_grouped['Company_Code'].unique(), columns=['Code'])"
   ]
  },
  {
   "cell_type": "code",
   "execution_count": 22,
   "metadata": {},
   "outputs": [
    {
     "data": {
      "text/html": [
       "<iframe id=\"igraph\" scrolling=\"no\" style=\"border:none;\" seamless=\"seamless\" src=\"https://plot.ly/~aaronsc32/303.embed\" height=\"525px\" width=\"100%\"></iframe>"
      ],
      "text/plain": [
       "<plotly.tools.PlotlyDisplay object>"
      ]
     },
     "execution_count": 22,
     "metadata": {},
     "output_type": "execute_result"
    }
   ],
   "source": [
    "dat = [dict(\n",
    "    type = 'choropleth',\n",
    "    locations = state_grouped['State'],\n",
    "    z =  state_grouped['Company_Code'],\n",
    "    locationmode = 'USA-states',\n",
    "    text = state_grouped['Company'],\n",
    "    colorscale = [[0.0, 'rgb(255,255,179)'], [0.1, 'rgb(141,211,199)'], [0.2, 'rgb(190,186,218)'],[0.3, 'rgb(251,128,114)'],\\\n",
    "            [0.4, 'rgb(128,177,211)'], [0.5, 'rgb(253,180,98)'], [0.6, 'rgb(179,222,105)'], [0.7, 'rgb(252,205,229)'],\\\n",
    "            [0.8, 'rgb(217,217,217)'], [0.9, 'rgb(188,128,189)'], [1, 'rgb(204,235,197)']],\n",
    "    colorbar = dict(\n",
    "        tickmode = 'array',\n",
    "        tickvals = list(company_codes.index),\n",
    "        ticktext = list(company_codes.Code))\n",
    "    )]\n",
    "\n",
    "layout = dict(\n",
    "    geo = dict(\n",
    "        scope='usa', showlakes=True, lakecolor = 'rgb(255, 255, 255)'))\n",
    "\n",
    "fig = dict(data=dat, layout=layout)\n",
    "\n",
    "py.iplot(fig, filename='ConsumerComplaints_MostComplainedCompanyByState')"
   ]
  },
  {
   "cell_type": "markdown",
   "metadata": {},
   "source": [
    "The choropleth map shows Bank of America receives the most complaints throughout the United States while Wells Fargo is generally centered around the Mid and Central US. Interestingly, Equifax receives the most complaints in many Southeastern states."
   ]
  },
  {
   "cell_type": "markdown",
   "metadata": {},
   "source": [
    "Are mortgage complaints centered in a particular area of the United States?"
   ]
  },
  {
   "cell_type": "code",
   "execution_count": 23,
   "metadata": {},
   "outputs": [],
   "source": [
    "query_products = pd.read_sql_query('SELECT State, Product, COUNT(*) as `Complaints` '\n",
    "                               'FROM data '\n",
    "                               'WHERE State <> \"None\" '\n",
    "                               'AND Product <> \"None\" '\n",
    "                               'GROUP BY Product, State '\n",
    "                               'ORDER BY `Complaints` DESC, Product, State', db_conn)\n",
    "\n",
    "product_grouped = query_products.groupby('State', as_index=False).first().sort_values('Complaints', ascending=False)\n",
    "product_grouped['Product_Code'] = product_grouped['Product'].astype('category').cat.codes\n",
    "product_codes = pd.DataFrame(product_grouped['Product'].unique(), index=product_grouped['Product_Code'].unique(), columns=['Code'])"
   ]
  },
  {
   "cell_type": "code",
   "execution_count": 24,
   "metadata": {},
   "outputs": [
    {
     "data": {
      "text/html": [
       "<iframe id=\"igraph\" scrolling=\"no\" style=\"border:none;\" seamless=\"seamless\" src=\"https://plot.ly/~aaronsc32/305.embed\" height=\"525px\" width=\"100%\"></iframe>"
      ],
      "text/plain": [
       "<plotly.tools.PlotlyDisplay object>"
      ]
     },
     "execution_count": 24,
     "metadata": {},
     "output_type": "execute_result"
    }
   ],
   "source": [
    "dat = [dict(\n",
    "    type = 'choropleth',\n",
    "    locations = product_grouped['State'],\n",
    "    z =  product_grouped['Product_Code'],\n",
    "    locationmode = 'USA-states',\n",
    "    text = product_grouped['Product'],\n",
    "    colorscale = [[0.0, 'rgb(255,255,179)'], [0.25, 'rgb(141,211,199)'], [0.50, 'rgb(190,186,218)'],[0.75, 'rgb(251,128,114)'],\\\n",
    "            [1, 'rgb(128,177,211)']],\n",
    "    colorbar = dict(\n",
    "        tickmode = 'array',\n",
    "        tickvals = list(product_codes.index),\n",
    "        ticktext = list(product_codes.Code))\n",
    "    )]\n",
    "\n",
    "layout = dict(\n",
    "    geo = dict(\n",
    "        scope='usa', showlakes=True, lakecolor = 'rgb(255, 255, 255)'))\n",
    "\n",
    "fig = dict(data=dat, layout=layout)\n",
    "\n",
    "py.iplot(fig, filename='ConsumerComplaints_MostComplainedProductByState')"
   ]
  },
  {
   "cell_type": "markdown",
   "metadata": {},
   "source": [
    "Mortgage related issues receive the most complaints by far across the United States. Interestingly enough, debt collection and credit reporting are the most complained about in the central United States."
   ]
  },
  {
   "cell_type": "markdown",
   "metadata": {},
   "source": [
    "The dataset contains tags that detail if the consumer is elderly and/or a servicemember. Using this data, we can test if having a particular tag results in a slower or faster response time using the [statsmodels](http://statsmodels.sourceforge.net/) package."
   ]
  },
  {
   "cell_type": "code",
   "execution_count": 25,
   "metadata": {},
   "outputs": [],
   "source": [
    "tag_responses = pd.read_sql_query('SELECT Company, Tags, `TimelyResponse?`, '\n",
    "                 'COUNT(CASE WHEN `TimelyResponse?` = \"Yes\" THEN 1 ELSE NULL END) As YesCount, '\n",
    "                 'COUNT(CASE WHEN `TimelyResponse?` = \"No\" THEN 1 ELSE NULL END) As NoCount, '\n",
    "                 'COUNT(*) as Total '\n",
    "                 'FROM data '\n",
    "                 'GROUP BY Company '\n",
    "                 'ORDER BY YesCount DESC', db_conn)"
   ]
  },
  {
   "cell_type": "code",
   "execution_count": 26,
   "metadata": {
    "collapsed": true
   },
   "outputs": [],
   "source": [
    "tag_responses.rename(columns={'TimelyResponse?':'TimelyResponse'}, inplace=True)"
   ]
  },
  {
   "cell_type": "code",
   "execution_count": 27,
   "metadata": {},
   "outputs": [],
   "source": [
    "tag_responses.Tags = np.where(tag_responses.Tags.isnull() == True, 'No Tag', tag_responses.Tags)\n",
    "tag_responses['Timely_Response_Ratio'] = tag_responses.YesCount / tag_responses.Total * 100"
   ]
  },
  {
   "cell_type": "code",
   "execution_count": 28,
   "metadata": {},
   "outputs": [],
   "source": [
    "pivoted = pd.pivot_table(tag_responses, index=['TimelyResponse', 'Company'], columns=['Tags'], values=['Timely_Response_Ratio']).reset_index()"
   ]
  },
  {
   "cell_type": "markdown",
   "metadata": {},
   "source": [
    "Using the kruskal-wallis implementation in the statsmodel package, it can be tested if there is a significant difference in response time ratio by designated tag."
   ]
  },
  {
   "cell_type": "code",
   "execution_count": 29,
   "metadata": {},
   "outputs": [
    {
     "data": {
      "text/plain": [
       "KruskalResult(statistic=0.34332534569847822, pvalue=0.95168441327165698)"
      ]
     },
     "execution_count": 29,
     "metadata": {},
     "output_type": "execute_result"
    }
   ],
   "source": [
    "stats.mstats.kruskalwallis(pivoted.Timely_Response_Ratio['No Tag'], pivoted.Timely_Response_Ratio['Older American'], \n",
    "                          pivoted.Timely_Response_Ratio['Older American, Servicemember'], pivoted.Timely_Response_Ratio['Servicemember'])"
   ]
  },
  {
   "cell_type": "markdown",
   "metadata": {},
   "source": [
    "The p-value is way above 0.05 and therefore it can be concluded there is no significant difference in response time. Each tag can also be compared individually using Tukey's test."
   ]
  },
  {
   "cell_type": "code",
   "execution_count": 30,
   "metadata": {},
   "outputs": [
    {
     "name": "stdout",
     "output_type": "stream",
     "text": [
      "                     Multiple Comparison of Means - Tukey HSD,FWER=0.05                     \n",
      "============================================================================================\n",
      "            group1                        group2            meandiff  lower    upper  reject\n",
      "--------------------------------------------------------------------------------------------\n",
      "            No Tag                    Older American         0.6005  -5.4108   6.6118 False \n",
      "            No Tag            Older American, Servicemember -0.1383  -12.7571 12.4805 False \n",
      "            No Tag                    Servicemember          1.9458  -3.8194   7.711  False \n",
      "        Older American        Older American, Servicemember -0.7388  -14.5275 13.0499 False \n",
      "        Older American                Servicemember          1.3453  -6.6628   9.3534 False \n",
      "Older American, Servicemember         Servicemember          2.0841  -11.5991 15.7673 False \n",
      "--------------------------------------------------------------------------------------------\n"
     ]
    }
   ],
   "source": [
    "print pairwise_tukeyhsd(tag_responses.Timely_Response_Ratio, tag_responses.Tags)"
   ]
  },
  {
   "cell_type": "markdown",
   "metadata": {},
   "source": [
    "Tukey's test reports there are no significant differences between each group."
   ]
  },
  {
   "cell_type": "markdown",
   "metadata": {},
   "source": [
    "## Summary"
   ]
  },
  {
   "cell_type": "markdown",
   "metadata": {},
   "source": [
    "In this notebook, using SQL and Pandas to analyze larger sets of data was explored with visualizations from the Plotly library. Pandas provides many tools to allow smoother workflows with large data sets and SQL. Python is also a good tool for working with databases, especially with packages such as SQLAlchemy."
   ]
  }
 ],
 "metadata": {
  "anaconda-cloud": {},
  "kernelspec": {
   "display_name": "Python 3",
   "language": "python",
   "name": "python3"
  },
  "language_info": {
   "codemirror_mode": {
    "name": "ipython",
    "version": 3
   },
   "file_extension": ".py",
   "mimetype": "text/x-python",
   "name": "python",
   "nbconvert_exporter": "python",
   "pygments_lexer": "ipython3",
   "version": "3.7.6"
  }
 },
 "nbformat": 4,
 "nbformat_minor": 1
}
