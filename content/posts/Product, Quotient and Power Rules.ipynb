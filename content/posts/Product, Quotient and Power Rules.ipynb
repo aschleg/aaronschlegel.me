{
 "cells": [
  {
   "cell_type": "markdown",
   "metadata": {},
   "source": [
    "Several rules exist for finding the derivatives of functions with several components such as $x \\space sin \\space x$. With these rules and the chain rule, which will be explored later, any derivative of a function can be found (assuming they exist). There are five rules that help simplify the computation of derivatives, of which each will be explored in turn."
   ]
  },
  {
   "cell_type": "markdown",
   "metadata": {},
   "source": [
    "## Sum Rule"
   ]
  },
  {
   "cell_type": "markdown",
   "metadata": {},
   "source": [
    "The most straightforward of the derivation rules is the sum rule, which is stated as:"
   ]
  },
  {
   "cell_type": "markdown",
   "metadata": {},
   "source": [
    "$$ \\text{The derivative of} \\space u(x) + v(x) \\space \\text{is} \\space \\frac{d}{dx} (u + v) = \\frac{du}{dx} + \\frac{dv}{dx} $$"
   ]
  },
  {
   "cell_type": "markdown",
   "metadata": {},
   "source": [
    "## Rule of Linearity"
   ]
  },
  {
   "cell_type": "markdown",
   "metadata": {},
   "source": [
    "The sum rule can be considered a case of a larger concept called linearity. For example, linearity can be seen in the derivative of the function: $\\frac{d}{dx}5x - cos x = 5 + sin \\space x$ and all other similar functions. This rule is known as the Rule of Linearity and follows from [linear combinations](https://en.wikipedia.org/wiki/Linear_combination). Where $a$ and $b$ are real numbers, the rule is stated as the following:"
   ]
  },
  {
   "cell_type": "markdown",
   "metadata": {},
   "source": [
    "$$ \\text{The derivative of} \\space au(x) + bv(x) \\space \\text{is} \\space \\frac{d}{dx}(au + bv) = a \\frac{du}{dx} + b \\frac{dv}{dx} $$"
   ]
  },
  {
   "cell_type": "markdown",
   "metadata": {},
   "source": [
    "## Product Rule"
   ]
  },
  {
   "cell_type": "markdown",
   "metadata": {},
   "source": [
    "The product rule helps deal with the frequently occurring situation of the product of two functions, such as $sin \\space x + cos \\space x$ and is stated as:"
   ]
  },
  {
   "cell_type": "markdown",
   "metadata": {},
   "source": [
    "$$ \\text{The deriative of the product of two functions,} \\space u(x)v(x) \\space \\text{is} \\space \\frac{d}{dx}(uv) = u \\frac{dv}{dx} + v \\frac{du}{dx} $$."
   ]
  },
  {
   "cell_type": "markdown",
   "metadata": {},
   "source": [
    "The product rule can be extended to more than the product of two functions. For example, the derivative of the product of three functions would be:"
   ]
  },
  {
   "cell_type": "markdown",
   "metadata": {},
   "source": [
    "$$ \\frac{d}{dx} \\space (uvw) = uv \\frac{dw}{dx} + uw \\frac{dv}{dx} + vw \\frac{du}{dx} $$"
   ]
  },
  {
   "cell_type": "markdown",
   "metadata": {},
   "source": [
    "## Reciprocal Rule"
   ]
  },
  {
   "cell_type": "markdown",
   "metadata": {},
   "source": [
    "The reciprocal rule is more or less a case of the powerful quotient rule. The case of the reciprocal rule helps us find the derivative of $\\frac{1}{v(x)}$ much easier. We can state the rule as the following:"
   ]
  },
  {
   "cell_type": "markdown",
   "metadata": {},
   "source": [
    "$$\\text{The derivative of the function} \\space \\frac{1}{v(x)} \\space \\text{is} \\space \\frac{d}{dx} \\space \\frac{1}{v(x)} = \\frac{\\frac{-dv}{dx}}{v^2}$$"
   ]
  },
  {
   "cell_type": "markdown",
   "metadata": {},
   "source": [
    "## Quotient Rule"
   ]
  },
  {
   "cell_type": "markdown",
   "metadata": {},
   "source": [
    "The quotient rule is an important derivation technique that allows us to more efficiently find the deriative of $\\frac{u(x)}{v(x)}$. We can state the quotient rule as follows:"
   ]
  },
  {
   "cell_type": "markdown",
   "metadata": {},
   "source": [
    "$$ \\text{The derivative of} \\space \\frac{u(x)}{v(x)} \\space \\text{is} \\space \\frac{v \\frac{du}{dx} - u \\frac{dv}{dx}}{v^2} $$"
   ]
  },
  {
   "cell_type": "markdown",
   "metadata": {},
   "source": [
    "Last but certainly not least is the power rule."
   ]
  },
  {
   "cell_type": "markdown",
   "metadata": {},
   "source": [
    "## Power Rule"
   ]
  },
  {
   "cell_type": "markdown",
   "metadata": {},
   "source": [
    "The power rule gives us the ability to find the deriative of a function of the form $(u(x))^n$ and can be stated as:"
   ]
  },
  {
   "cell_type": "markdown",
   "metadata": {},
   "source": [
    "$$ \\text{The deriative of} \\space \\Big[u(x) \\Big]^n \\space \\text{is} \\space n \\Big[u(x) \\Big ]^{n-1} \\frac{du}{dx} $$"
   ]
  },
  {
   "cell_type": "markdown",
   "metadata": {},
   "source": [
    "Okay! With those rules stated and out of the way, we are now able to solve the vast majority of derivatives we will ever encounter! We test our hand at using the rules to calculate the derivative of several functions with the following examples."
   ]
  },
  {
   "cell_type": "markdown",
   "metadata": {},
   "source": [
    "## Examples"
   ]
  },
  {
   "cell_type": "markdown",
   "metadata": {},
   "source": [
    "The examples presented here are borrowed from Gilbert Strang's amazing book [*Calculus*](https://ocw.mit.edu/ans7870/resources/Strang/Edited/Calculus/Calculus.pdf), which can be found for free in PDF form on the MIT OCW site. We also take advantage of the wonderful [SymPy](http://www.sympy.org/en/index.html) library for symbolic computation to check our answers to the example problems."
   ]
  },
  {
   "cell_type": "markdown",
   "metadata": {},
   "source": [
    "We import the functions from the SymPy library that we will require."
   ]
  },
  {
   "cell_type": "code",
   "execution_count": 9,
   "metadata": {
    "collapsed": true
   },
   "outputs": [],
   "source": [
    "from sympy import symbols, diff, sin, cos, simplify, init_printing"
   ]
  },
  {
   "cell_type": "markdown",
   "metadata": {},
   "source": [
    "The `init_printing()` [function](http://docs.sympy.org/latest/tutorial/printing.html) is used to output the results of SymPy in LaTeX."
   ]
  },
  {
   "cell_type": "code",
   "execution_count": 10,
   "metadata": {
    "collapsed": true
   },
   "outputs": [],
   "source": [
    "init_printing()"
   ]
  },
  {
   "cell_type": "markdown",
   "metadata": {},
   "source": [
    "First, initialize a [symbol](http://docs.sympy.org/latest/modules/core.html#symbols) variable for $x$ to be used with SymPy's computation engine."
   ]
  },
  {
   "cell_type": "code",
   "execution_count": 11,
   "metadata": {
    "collapsed": true
   },
   "outputs": [],
   "source": [
    "x = symbols('x')"
   ]
  },
  {
   "cell_type": "markdown",
   "metadata": {},
   "source": [
    "Example 1: Find the derivative of $(x + 1)(x - 1)$"
   ]
  },
  {
   "cell_type": "markdown",
   "metadata": {},
   "source": [
    "We could factor and take the derivative of the resulting polynomial without having to use the product rule:"
   ]
  },
  {
   "cell_type": "markdown",
   "metadata": {},
   "source": [
    "$$ (x + 1)(x - 1) = x^2 - x + x + 1 = x^2 + 1 $$"
   ]
  },
  {
   "cell_type": "markdown",
   "metadata": {},
   "source": [
    "$$ \\frac{d}{dx} x^2 + 1 = 2x $$"
   ]
  },
  {
   "cell_type": "markdown",
   "metadata": {},
   "source": [
    "We can also find the deriative of the function with the product rule:"
   ]
  },
  {
   "cell_type": "markdown",
   "metadata": {},
   "source": [
    "$$ \\frac{d}{dx} (uv) = u \\frac{dv}{dx} + v \\frac{du}{dx} $$"
   ]
  },
  {
   "cell_type": "markdown",
   "metadata": {},
   "source": [
    "$$ u = x + 1, \\qquad v = x - 1 $$"
   ]
  },
  {
   "cell_type": "markdown",
   "metadata": {},
   "source": [
    "$$ \\frac{d}{dx} = (x + 1)(1) + (x - 1)(1) = 2x $$"
   ]
  },
  {
   "cell_type": "markdown",
   "metadata": {},
   "source": [
    "Example 2: Find the derivative of $\\frac{1}{1 + x} + \\frac{1}{1 + sin \\space x}$"
   ]
  },
  {
   "cell_type": "markdown",
   "metadata": {},
   "source": [
    "Here we take advantage of the reciprocal rule, $\\frac{d}{dx} \\space \\frac{1}{v(x)} = \\frac{\\frac{-dv}{dx}}{v^2}$. Starting with $\\frac{1}{1 + x}$:"
   ]
  },
  {
   "cell_type": "markdown",
   "metadata": {},
   "source": [
    "$$ \\frac{d}{dx} \\space \\frac{1}{1 + x} = \\frac{-1}{(1 + x)^2} $$\n"
   ]
  },
  {
   "cell_type": "markdown",
   "metadata": {},
   "source": [
    "Then the second piece of the function, $\\frac{1}{1 + sin \\space x}$"
   ]
  },
  {
   "cell_type": "markdown",
   "metadata": {},
   "source": [
    "$$ \\frac{d}{dx} \\space \\frac{1}{1 + sin \\space x} = \\frac{-cos \\space x}{(1 + sin \\space x)^2} $$"
   ]
  },
  {
   "cell_type": "markdown",
   "metadata": {},
   "source": [
    "Then putting the two pieces together gives us the derivative of the function:"
   ]
  },
  {
   "cell_type": "markdown",
   "metadata": {},
   "source": [
    "$$ \\frac{d}{dx} \\frac{1}{1 + x} + \\frac{1}{1 + sin \\space x} = \\frac{-1}{(1 + x)^2} - \\frac{cos \\space x}{(1 + sin \\space x)^2} $$"
   ]
  },
  {
   "cell_type": "markdown",
   "metadata": {},
   "source": [
    "We can verify this result using SymPy:"
   ]
  },
  {
   "cell_type": "code",
   "execution_count": 12,
   "metadata": {},
   "outputs": [
    {
     "data": {
      "image/png": "[encoded data removed]",
      "text/latex": [
       "$$- \\frac{\\cos{\\left (x \\right )}}{\\left(\\sin{\\left (x \\right )} + 1\\right)^{2}} - \\frac{1}{\\left(x + 1\\right)^{2}}$$"
      ],
      "text/plain": [
       "      cos(x)         1    \n",
       "- ───────────── - ────────\n",
       "              2          2\n",
       "  (sin(x) + 1)    (x + 1) "
      ]
     },
     "execution_count": 12,
     "metadata": {},
     "output_type": "execute_result"
    }
   ],
   "source": [
    "diff(1 / (1 + x) + 1 / (1 + sin(x)))"
   ]
  },
  {
   "cell_type": "markdown",
   "metadata": {},
   "source": [
    "Example 3: Find the derivative of $(x - 1)(x - 2)(x - 3)$"
   ]
  },
  {
   "cell_type": "markdown",
   "metadata": {},
   "source": [
    "We can find the derivative using the product rule, $\\frac{d}{dx} \\space (uvw) = uv \\frac{dw}{dx} + uw \\frac{dv}{dx} + vw \\frac{du}{dx}$"
   ]
  },
  {
   "cell_type": "markdown",
   "metadata": {},
   "source": [
    "$$ u = (x - 1), \\qquad v = (x - 2), \\qquad w = (x - 3) $$"
   ]
  },
  {
   "cell_type": "markdown",
   "metadata": {},
   "source": [
    "$$ \\frac{d}{dx} (uvw) = (x - 1)(x - 2)(1) + (x - 1)(x - 2)(1) + (x - 2)(x - 3)(1) $$"
   ]
  },
  {
   "cell_type": "markdown",
   "metadata": {},
   "source": [
    "Though not necessary, finish by factoring and simplifying the derivative."
   ]
  },
  {
   "cell_type": "markdown",
   "metadata": {},
   "source": [
    "$$ x^2 - 2x - x + 2 + x^2 - 3x - x + 3 + x^2 - 3x - 2x + 6 $$"
   ]
  },
  {
   "cell_type": "markdown",
   "metadata": {},
   "source": [
    "$$ 3x^2 - 12x + 11 $$"
   ]
  },
  {
   "cell_type": "markdown",
   "metadata": {},
   "source": [
    "Verifying with SymPy:"
   ]
  },
  {
   "cell_type": "code",
   "execution_count": 14,
   "metadata": {},
   "outputs": [
    {
     "data": {
      "image/png": "[encoded data removed]",
      "text/latex": [
       "$$\\left(x - 3\\right) \\left(x - 2\\right) + \\left(x - 3\\right) \\left(x - 1\\right) + \\left(x - 2\\right) \\left(x - 1\\right)$$"
      ],
      "text/plain": [
       "(x - 3)⋅(x - 2) + (x - 3)⋅(x - 1) + (x - 2)⋅(x - 1)"
      ]
     },
     "execution_count": 14,
     "metadata": {},
     "output_type": "execute_result"
    }
   ],
   "source": [
    "diff((x - 1) * (x - 2) * (x - 3))"
   ]
  },
  {
   "cell_type": "markdown",
   "metadata": {},
   "source": [
    "We can also check to see if our simplifying of the function was accurate using SymPy's `simplify` function."
   ]
  },
  {
   "cell_type": "code",
   "execution_count": 15,
   "metadata": {},
   "outputs": [
    {
     "data": {
      "image/png": "[encoded data removed]",
      "text/latex": [
       "$$3 x^{2} - 12 x + 11$$"
      ],
      "text/plain": [
       "   2            \n",
       "3⋅x  - 12⋅x + 11"
      ]
     },
     "execution_count": 15,
     "metadata": {},
     "output_type": "execute_result"
    }
   ],
   "source": [
    "simplify(diff((x - 1) * (x - 2) * (x - 3)))"
   ]
  },
  {
   "cell_type": "markdown",
   "metadata": {},
   "source": [
    "Example 4: Find the derivative of $\\frac{x^3 + 1}{x + 1} + \\frac{cos \\space x}{sin \\space x}$"
   ]
  },
  {
   "cell_type": "markdown",
   "metadata": {},
   "source": [
    "Using the sum rule, we can find the derivatives of each piece and then add the derivatives together. Starting with $\\frac{x^3 + 1}{x + 1}$, we apply the quotient rule:"
   ]
  },
  {
   "cell_type": "markdown",
   "metadata": {},
   "source": [
    "$$ \\frac{d}{dx} \\space \\frac{u(x)}{v(x)} = \\frac{v \\frac{du}{dx} - u \\frac{dv}{dx}}{v^2} $$"
   ]
  },
  {
   "cell_type": "markdown",
   "metadata": {},
   "source": [
    "$$ u = x^3 + 1, \\qquad v = x + 1 $$"
   ]
  },
  {
   "cell_type": "markdown",
   "metadata": {},
   "source": [
    "$$ \\frac{d}{dx} \\space \\frac{x^3 + 1}{x + 1} = \\frac{(x + 1)(3x^2) - (x^3 + 1)(1)}{(x + 1)^2} = 2x - 1 $$"
   ]
  },
  {
   "cell_type": "markdown",
   "metadata": {},
   "source": [
    "We'll take the easy way out on factoring the above derivative and use SymPy:"
   ]
  },
  {
   "cell_type": "code",
   "execution_count": 18,
   "metadata": {},
   "outputs": [
    {
     "data": {
      "image/png": "[encoded data removed]",
      "text/latex": [
       "$$2 x - 1$$"
      ],
      "text/plain": [
       "2⋅x - 1"
      ]
     },
     "execution_count": 18,
     "metadata": {},
     "output_type": "execute_result"
    }
   ],
   "source": [
    "simplify(((x + 1) * (3 * x ** 2) - (x ** 3 + 1)) / (x + 1) ** 2)"
   ]
  },
  {
   "cell_type": "markdown",
   "metadata": {},
   "source": [
    "Then we find the derivative of the second piece of the equation, $\\frac{\\cos{x}}{\\sin{x}}$. Again, we take advantage of the quotient rule:"
   ]
  },
  {
   "cell_type": "markdown",
   "metadata": {},
   "source": [
    "$$ u = \\cos{x}, \\qquad v = \\sin{x} $$"
   ]
  },
  {
   "cell_type": "markdown",
   "metadata": {},
   "source": [
    "$$ \\frac{d}{dx} \\frac{\\cos{x}}{\\sin{x}} = \\frac{(\\sin{x})(-\\sin{x}) - (\\cos{x})(\\sin{x})}{(\\sin{x})(\\sin{x})} $$"
   ]
  },
  {
   "cell_type": "markdown",
   "metadata": {},
   "source": [
    "$$ \\frac{d}{dx} \\frac{\\cos{x}}{\\sin{x}} = \\frac{-\\sin^2{x} - \\cos^2{x}}{\\sin^2{x}} $$ "
   ]
  },
  {
   "cell_type": "markdown",
   "metadata": {},
   "source": [
    "With the Pythagorean identity, $\\sin^2{x} + \\cos^2{x} = 1$, we can simplify the derivative to:"
   ]
  },
  {
   "cell_type": "markdown",
   "metadata": {},
   "source": [
    "$$ -\\frac{1}{\\sin^2{x}} = -\\csc^2{x} $$"
   ]
  },
  {
   "cell_type": "markdown",
   "metadata": {},
   "source": [
    "Adding the two pieces of the equation together using the sum rule gives us the deriative:"
   ]
  },
  {
   "cell_type": "markdown",
   "metadata": {},
   "source": [
    "$$ 2x - 1 - \\frac{1}{\\sin{x}} = 2x - 1 - \\csc{x} $$"
   ]
  },
  {
   "cell_type": "markdown",
   "metadata": {
    "collapsed": true
   },
   "source": [
    "## References"
   ]
  },
  {
   "cell_type": "markdown",
   "metadata": {},
   "source": [
    "[Strang, G. (2010). Calculus. Wellesley, MA: Wellesley-Cambridge.](https://amzn.to/2vVY0SZ)\n",
    "\n",
    "Pythagorean trigonometric identity. (2017, October 4). In Wikipedia, The Free Encyclopedia.\n",
    "From https://en.wikipedia.org/w/index.php?title=Pythagorean_trigonometric_identity&oldid=803778637"
   ]
  }
 ],
 "metadata": {
  "kernelspec": {
   "display_name": "Python 3",
   "language": "python",
   "name": "python3"
  },
  "language_info": {
   "codemirror_mode": {
    "name": "ipython",
    "version": 3
   },
   "file_extension": ".py",
   "mimetype": "text/x-python",
   "name": "python",
   "nbconvert_exporter": "python",
   "pygments_lexer": "ipython3",
   "version": "3.7.4"
  }
 },
 "nbformat": 4,
 "nbformat_minor": 2
}
