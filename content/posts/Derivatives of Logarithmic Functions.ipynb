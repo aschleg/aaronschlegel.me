{
 "cells": [
  {
   "cell_type": "markdown",
   "metadata": {},
   "source": [
    "Implicit differentiation, which we explored in the last section, can also be employed to find the derivatives of logarithmic functions, which are of the form $y = \\log_a{x}$. This also includes the natural logarithmic function $y = \\ln{x}$."
   ]
  },
  {
   "cell_type": "markdown",
   "metadata": {},
   "source": [
    "## Proving $\\frac{d}{dx} (\\log_a{x}) = \\frac{1}{x \\ln{a}}$"
   ]
  },
  {
   "cell_type": "markdown",
   "metadata": {},
   "source": [
    "Taking advantage of the fact that $y = \\log_a{x}$ can be rewritten as an exponential equation, $a^y = x$, we can state the derivative of $\\log_a{x}$ as:\n",
    "\n",
    "$$ \\frac{d}{dx} (\\log_a{x}) = \\frac{1}{x \\ln{a}} $$"
   ]
  },
  {
   "cell_type": "markdown",
   "metadata": {},
   "source": [
    "This can be proved by applying implicit differentiation. First we find the deriative of $y = a^x$. Start by taking the $\\ln{}$ of both sides of the equation:\n",
    "\n",
    "$$ \\ln{y} = \\ln{a^x} $$\n",
    "\n",
    "Then exponentiate both sides:\n",
    "\n",
    "$$ e^{\\ln{y}} = e^{\\ln{a^x}} $$\n",
    "\n",
    "As $a^{\\ln{x}}$ = $x \\ln{e}$, and $\\ln{e} = 1$, we can simplify the left side of the equation to remove the exponent and natural log.\n",
    "\n",
    "$$ y = e^{\\ln{a^x}} $$\n",
    "\n",
    "Proceed to find the derivative by using the chain rule:\n",
    "\n",
    "$$ \\frac{dx}{dy} = e^{\\ln{a^x}}, \\qquad y = e^u, \\qquad u = \\ln{a^x} $$\n",
    "\n",
    "$$ \\frac{dy}{du} = e^u, \\qquad \\frac{du}{dx} = \\ln{a} $$\n",
    "\n",
    "$$ \\ln{a} e^u = \\ln{a} e^{\\ln{a}} $$\n",
    "\n",
    "Just as $\\ln{e} = 1$, $e^{\\ln{x}} = x$, thus:\n",
    "\n",
    "$$ \\frac{dy}{dx} \\ln{a} \\space a^x $$"
   ]
  },
  {
   "cell_type": "markdown",
   "metadata": {},
   "source": [
    "Returning to the derivative of $y = \\log_a{x}$, rewrite the equation:\n",
    "\n",
    "$$ a^y = x $$\n",
    "\n",
    "Now that we know $\\frac{dy}{dx} \\ln{a} \\space a^x$, we can derive the equation implicitly with respect to $x$:\n",
    "\n",
    "$$ \\frac{d}{dx} a^y = \\frac{d}{dx} x $$\n",
    "\n",
    "$$ a^y \\ln{a} \\frac{dy}{dx} = 1 $$\n",
    "\n",
    "Then, dividing by $a^y \\ln{a}$:\n",
    "\n",
    "$$ \\frac{d}{dx} \\log_a{x} = \\frac{1}{x \\ln{a}} $$"
   ]
  },
  {
   "cell_type": "markdown",
   "metadata": {},
   "source": [
    "## Proving $\\frac{d}{dx} (\\ln{x}) = \\frac{1}{x}$"
   ]
  },
  {
   "cell_type": "markdown",
   "metadata": {},
   "source": [
    "Start with $y = \\ln{x}$. Exponentate both sides of the equation:\n",
    "\n",
    "$$ e^y = e^{\\ln{x}} $$\n",
    "\n",
    "Recalling that $e^{\\ln{x}} = x$:\n",
    "\n",
    "$$ e^y = x $$\n",
    "\n",
    "Applying implicit differentiation:\n",
    "\n",
    "$$ \\frac{dy}{dx} e^y = \\frac{d}{dx} x $$\n",
    "\n",
    "$$ e^y \\frac{dy}{dx} = 1 $$\n",
    "\n",
    "Using the fact that $e^y = x$, we can substitute $x$ for $e^y$:\n",
    "\n",
    "$$ x \\frac{dy}{dx} = 1 $$\n",
    "\n",
    "Divide by $x$:\n",
    "\n",
    "$$ \\frac{dy}{dx} = \\frac{1}{x} $$"
   ]
  },
  {
   "cell_type": "markdown",
   "metadata": {},
   "source": [
    "## Examples"
   ]
  },
  {
   "cell_type": "code",
   "execution_count": 26,
   "metadata": {
    "collapsed": true
   },
   "outputs": [],
   "source": [
    "from sympy import symbols, diff, simplify, sin, cos, log, tan, sqrt, init_printing\n",
    "from mpmath import ln, e\n",
    "\n",
    "init_printing()\n",
    "x = symbols('x')\n",
    "y = symbols('y')"
   ]
  },
  {
   "cell_type": "markdown",
   "metadata": {},
   "source": [
    "### Example 1: Calculate the derivative of $f(x) = \\sin{\\ln{x}}$"
   ]
  },
  {
   "cell_type": "markdown",
   "metadata": {},
   "source": [
    "Apply the Chain Rule:\n",
    "\n",
    "$$ y = \\sin{u}, \\qquad u = \\ln{x} $$\n",
    "\n",
    "As we proved above, $\\frac{du}{dx} = \\frac{1}{x}$, therefore:\n",
    "\n",
    "$$ \\frac{dy}{dx} = \\frac{1}{x} \\cos{\\ln{x}} $$"
   ]
  },
  {
   "cell_type": "code",
   "execution_count": null,
   "metadata": {
    "collapsed": true
   },
   "outputs": [],
   "source": [
    "diff(sin(ln(x)))"
   ]
  },
  {
   "cell_type": "markdown",
   "metadata": {},
   "source": [
    "## Example 2: Find the derivative of the function $f(x) = \\log_2{(1 - 3x)}$"
   ]
  },
  {
   "cell_type": "markdown",
   "metadata": {},
   "source": [
    "Using the fact that $\\frac{d}{dx} (\\log_a{x}) = \\frac{1}{x \\ln{a}}$, apply the Chain Rule:\n",
    "\n",
    "$$ y = \\log_2{u}, \\qquad u = 1 - 3x $$\n",
    "\n",
    "$$ \\frac{dy}{du} = \\frac{1}{u \\ln{2}}, \\qquad \\frac{du}{dx} = 3 $$\n",
    "\n",
    "$$ \\frac{dy}{dx} = \\frac{3}{(1 - 3x) \\ln{2}} $$"
   ]
  },
  {
   "cell_type": "code",
   "execution_count": 9,
   "metadata": {},
   "outputs": [
    {
     "data": {
      "image/png": "[encoded data removed]",
      "text/latex": [
       "$$- \\frac{3}{\\left(- 3 x + 1\\right) \\log{\\left (2 \\right )}}$$"
      ],
      "text/plain": [
       "       -3        \n",
       "─────────────────\n",
       "(-3⋅x + 1)⋅log(2)"
      ]
     },
     "execution_count": 9,
     "metadata": {},
     "output_type": "execute_result"
    }
   ],
   "source": [
    "diff(log((1 - 3 * x), 2))"
   ]
  },
  {
   "cell_type": "markdown",
   "metadata": {},
   "source": [
    "### Example 3: Find the derivative to the function $\\sqrt[5]{\\ln{x}}$"
   ]
  },
  {
   "cell_type": "markdown",
   "metadata": {},
   "source": [
    "First, rewrite the equation as $\\sqrt[5]{\\ln{x}} = (\\ln{x})^{\\frac{1}{5}}$. Then, apply the Chain Rule:\n",
    "\n",
    "$$ y = u^\\frac{1}{5}, \\qquad u = \\ln{x} $$\n",
    "\n",
    "$$ \\frac{dy}{du} = \\frac{1}{5} (\\ln{x})^{-\\frac{4}{5}}, \\qquad \\frac{du}{dx} = \\frac{1}{x} $$\n",
    "\n",
    "$$ \\frac{dy}{dx} = \\frac{1}{x} \\space \\frac{1}{5} (\\ln{x})^{-\\frac{4}{5}} = \\frac{(\\ln{x})^{-\\frac{4}{5}}}{5x} = \\frac{1}{5x \\ln^\\frac{4}{5}{x}} $$"
   ]
  },
  {
   "cell_type": "code",
   "execution_count": 13,
   "metadata": {
    "scrolled": true
   },
   "outputs": [
    {
     "data": {
      "image/png": "[encoded data removed]",
      "text/latex": [
       "$$\\frac{0.2}{x \\log^{0.8}{\\left (x \\right )}}$$"
      ],
      "text/plain": [
       "       -0.8   \n",
       "0.2⋅log    (x)\n",
       "──────────────\n",
       "      x       "
      ]
     },
     "execution_count": 13,
     "metadata": {},
     "output_type": "execute_result"
    }
   ],
   "source": [
    "diff((log(x)) ** (1/5))"
   ]
  },
  {
   "cell_type": "markdown",
   "metadata": {},
   "source": [
    "### Example 4: Find the derivative of $f(x) = \\sin{x} \\ln{5x}$"
   ]
  },
  {
   "cell_type": "markdown",
   "metadata": {},
   "source": [
    "Start by using the Product rule, $u \\frac{dv}{dx} + v \\frac{du}{dx}$:\n",
    "\n",
    "$$ u = \\sin{x}, \\qquad v = \\ln{5x} $$\n",
    "\n",
    "$$ \\frac{dy}{dx} = (\\sin{x}) \\frac{dv}{dx} \\ln{5x} + (\\ln{5x}) \\frac{du}{dx} \\sin{x} $$\n",
    "\n",
    "$$ \\frac{dy}{dx} = \\frac{\\sin{x}}{x} + \\ln{5x} \\cos{x} $$"
   ]
  },
  {
   "cell_type": "code",
   "execution_count": 28,
   "metadata": {},
   "outputs": [
    {
     "data": {
      "image/png": "[encoded data removed]",
      "text/latex": [
       "$$\\log{\\left (5 x \\right )} \\cos{\\left (x \\right )} + \\frac{1}{x} \\sin{\\left (x \\right )}$$"
      ],
      "text/plain": [
       "                  sin(x)\n",
       "log(5⋅x)⋅cos(x) + ──────\n",
       "                    x   "
      ]
     },
     "execution_count": 28,
     "metadata": {},
     "output_type": "execute_result"
    }
   ],
   "source": [
    "diff(sin(x) * log(5 * x))"
   ]
  },
  {
   "cell_type": "markdown",
   "metadata": {},
   "source": [
    "### Example 5: Find the derivative of the function $F(x) = \\ln{\\frac{(2x + 1)^3}{(3x - 1)^4}}$"
   ]
  },
  {
   "cell_type": "markdown",
   "metadata": {},
   "source": [
    "Here, rather than applying the Chain Rule and then the Quotient Rule to the inner equation, which would result in a very lengthy and tedious derivation, we can take advantage of one of the logarithmic identities, $\\ln{ab} = \\ln{a} + \\ln{b}$. Thus, we can rewrite the function as:\n",
    "\n",
    "$$ F(x) = \\ln{(2x + 1)^3} + \\ln{\\frac{1}{(3x - 1)^4}} $$"
   ]
  },
  {
   "cell_type": "markdown",
   "metadata": {},
   "source": [
    "With the rewritten function, we can leverage another logarithmic identity, $\\ln{a^b} = b \\ln{a}$ to simplify the derivation. We can therefore rewrite the function again as:\n",
    "\n",
    "$$ F(x) = 3 \\ln{(2x + 1)} - 4 \\ln{(3x - 1)} $$\n",
    "\n",
    "Then, proceed to differentiate the function:\n",
    "\n",
    "$$ \\frac{dy}{dx} = 3 \\frac{d}{dx} \\ln{(2x + 1)} - 4 \\frac{d}{dx} \\ln{(3x - 1)} $$\n",
    "\n",
    "$$ \\frac{dy}{dx} = 3 \\frac{2}{2x + 1} - 4 \\frac{3}{3x - 1} = \\frac{6}{2x + 1} - \\frac{12}{3x - 1} $$"
   ]
  },
  {
   "cell_type": "code",
   "execution_count": 35,
   "metadata": {},
   "outputs": [
    {
     "data": {
      "image/png": "[encoded data removed]",
      "text/latex": [
       "$$- \\frac{6 x + 18}{6 x^{2} + x - 1}$$"
      ],
      "text/plain": [
       "-(6⋅x + 18) \n",
       "────────────\n",
       "   2        \n",
       "6⋅x  + x - 1"
      ]
     },
     "execution_count": 35,
     "metadata": {},
     "output_type": "execute_result"
    }
   ],
   "source": [
    "simplify(diff(log((2 * x + 1) ** 3 / (3 * x - 1) ** 4)))"
   ]
  },
  {
   "cell_type": "markdown",
   "metadata": {},
   "source": [
    "## References"
   ]
  },
  {
   "cell_type": "markdown",
   "metadata": {},
   "source": [
    "[Stewart, J. (2007). Essential calculus: Early transcendentals. Belmont, CA: Thomson Higher Education.](https://amzn.to/38dnRV0)"
   ]
  }
 ],
 "metadata": {
  "kernelspec": {
   "display_name": "Python 3",
   "language": "python",
   "name": "python3"
  },
  "language_info": {
   "codemirror_mode": {
    "name": "ipython",
    "version": 3
   },
   "file_extension": ".py",
   "mimetype": "text/x-python",
   "name": "python",
   "nbconvert_exporter": "python",
   "pygments_lexer": "ipython3",
   "version": "3.7.4"
  }
 },
 "nbformat": 4,
 "nbformat_minor": 2
}
